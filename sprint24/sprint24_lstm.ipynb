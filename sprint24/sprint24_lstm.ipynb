{
  "nbformat": 4,
  "nbformat_minor": 0,
  "metadata": {
    "colab": {
      "name": "sprint24_lstm.ipynb",
      "version": "0.3.2",
      "provenance": [],
      "collapsed_sections": []
    },
    "language_info": {
      "codemirror_mode": {
        "name": "ipython",
        "version": 3
      },
      "file_extension": ".py",
      "mimetype": "text/x-python",
      "name": "python",
      "nbconvert_exporter": "python",
      "pygments_lexer": "ipython3",
      "version": "3.7.0"
    },
    "kernelspec": {
      "name": "python3",
      "display_name": "Python 3"
    },
    "accelerator": "GPU"
  },
  "cells": [
    {
      "cell_type": "markdown",
      "metadata": {
        "id": "zpF-DyqBm_Cf",
        "colab_type": "text"
      },
      "source": [
        "# Sprint24課題 ゲート付きリカレントニューラルネットワーク"
      ]
    },
    {
      "cell_type": "markdown",
      "metadata": {
        "id": "n5qEv1aBm_Ch",
        "colab_type": "text"
      },
      "source": [
        "## 1.この課題の目的\n",
        "\n",
        "- 発展的なRNNの手法を理解する"
      ]
    },
    {
      "cell_type": "markdown",
      "metadata": {
        "id": "kr1NL0o7m_Ch",
        "colab_type": "text"
      },
      "source": [
        "## 2.KerasのRecurrentレイヤー\n",
        "\n",
        "Kerasには複数のRecurrentレイヤーが用意されている。\n",
        "今回のSprintではこれら全てを動かし、それらを理解し区別できる状態を目指す。\n",
        "\n",
        "以下のドキュメントにまとめられている。\n",
        "\n",
        "[Recurrentレイヤー - Keras Documentation](https://keras.io/ja/layers/recurrent/)\n",
        "\n",
        "次の11個の項目があります。\n",
        "\n",
        "- RNN\n",
        "- SimpleRNN\n",
        "- GRU\n",
        "- LSTM\n",
        "- ConvLSTM2D\n",
        "- SimpleRNNCell\n",
        "- GRUCell\n",
        "- LSTMCell\n",
        "- StackedRNNCells\n",
        "- CuDNNGRU\n",
        "- CuDNNLSTM"
      ]
    },
    {
      "cell_type": "markdown",
      "metadata": {
        "id": "R5INJy1xm_Ci",
        "colab_type": "text"
      },
      "source": [
        "## 【問題1】各種手法の実行\n",
        "\n",
        "Keras公式のサンプルをスタートコードとする。\n",
        "\n",
        "これを元に、上記11個の項目全てを使用すること。\n",
        "\n",
        "例えばこの中でSimpleRNNとLSTMなどは並列関係であり、精度の比較が行える。\n",
        "そういった関係を見つけて比較すること。\n",
        "\n",
        "なお、ConvLSTM2Dのみ2次元配列を受け付ける手法であり、他と単純な精度の比較はできない。\n",
        "\n",
        "<font color=\"blue\">LSTMのサンプルコード</font>\n",
        "\n",
        "[keras/imdb_lstm.py at master · keras-team/keras](https://github.com/keras-team/keras/blob/master/examples/imdb_lstm.py)\n",
        "\n",
        "<font color=\"blue\">ConvLSTM2Dのサンプルコード</font>\n",
        "\n",
        "[keras/conv_lstm.py at master · keras-team/keras](https://github.com/keras-team/keras/blob/master/examples/conv_lstm.py)\n",
        "\n",
        "このサンプルコードをそのまま使う必要はなく、ノード数やエポックなどは変更して構いません。全て実行する上での実行時間を考慮した数に設定してください。"
      ]
    },
    {
      "cell_type": "code",
      "metadata": {
        "id": "vqA9scMirhEK",
        "colab_type": "code",
        "outputId": "e430c483-ad82-4827-f91b-deb7ef084a85",
        "colab": {
          "base_uri": "https://localhost:8080/",
          "height": 280
        }
      },
      "source": [
        "#!pip3 uninstall numpy -y\n",
        "#!pip3 install numpy==1.16.2"
      ],
      "execution_count": 1,
      "outputs": [
        {
          "output_type": "stream",
          "text": [
            "Uninstalling numpy-1.16.4:\n",
            "  Successfully uninstalled numpy-1.16.4\n",
            "Collecting numpy==1.16.2\n",
            "\u001b[?25l  Downloading https://files.pythonhosted.org/packages/35/d5/4f8410ac303e690144f0a0603c4b8fd3b986feb2749c435f7cdbb288f17e/numpy-1.16.2-cp36-cp36m-manylinux1_x86_64.whl (17.3MB)\n",
            "\u001b[K     |████████████████████████████████| 17.3MB 3.3MB/s \n",
            "\u001b[31mERROR: datascience 0.10.6 has requirement folium==0.2.1, but you'll have folium 0.8.3 which is incompatible.\u001b[0m\n",
            "\u001b[31mERROR: albumentations 0.1.12 has requirement imgaug<0.2.7,>=0.2.5, but you'll have imgaug 0.2.9 which is incompatible.\u001b[0m\n",
            "\u001b[?25hInstalling collected packages: numpy\n",
            "Successfully installed numpy-1.16.2\n"
          ],
          "name": "stdout"
        },
        {
          "output_type": "display_data",
          "data": {
            "application/vnd.colab-display-data+json": {
              "pip_warning": {
                "packages": [
                  "numpy"
                ]
              }
            }
          },
          "metadata": {
            "tags": []
          }
        }
      ]
    },
    {
      "cell_type": "code",
      "metadata": {
        "id": "yoDo3XLam_Cj",
        "colab_type": "code",
        "colab": {}
      },
      "source": [
        "import numpy as np\n",
        "import pandas as pd\n",
        "\n",
        "from sklearn.metrics import confusion_matrix\n",
        "\n",
        "import matplotlib.pyplot as plt\n",
        "import seaborn as sns\n",
        "\n",
        "import keras\n",
        "from keras.preprocessing import sequence\n",
        "from keras.models import Sequential\n",
        "from keras.layers import Dense, Embedding, BatchNormalization\n",
        "from keras.layers import RNN, SimpleRNN, GRU, LSTM, SimpleRNNCell, GRUCell, LSTMCell, StackedRNNCells, CuDNNGRU, CuDNNLSTM, ConvLSTM2D, Reshape, Flatten, Dropout\n",
        "from keras.datasets import imdb\n",
        "from keras import backend as K\n",
        "from keras.backend import tensorflow_backend as backend\n",
        "\n",
        "import time"
      ],
      "execution_count": 0,
      "outputs": []
    },
    {
      "cell_type": "code",
      "metadata": {
        "id": "VLkNupZVm_Cl",
        "colab_type": "code",
        "outputId": "43ddbc80-7f37-4910-f55b-49cddceabdaf",
        "colab": {
          "base_uri": "https://localhost:8080/",
          "height": 153
        }
      },
      "source": [
        "max_features = 20000\n",
        "maxlen = 80\n",
        "batch_size = 32\n",
        "\n",
        "print('Loading data...')\n",
        "(x_train, y_train), (x_test, y_test) = imdb.load_data(num_words=max_features)\n",
        "print(len(x_train), 'train sequences')\n",
        "print(len(x_test), 'test sequences')\n",
        "\n",
        "print('Pad sequences (samples x time)')\n",
        "x_train = sequence.pad_sequences(x_train, maxlen=maxlen)\n",
        "x_test = sequence.pad_sequences(x_test, maxlen=maxlen)\n",
        "print('x_train shape:', x_train.shape)\n",
        "print('x_test shape:', x_test.shape)"
      ],
      "execution_count": 2,
      "outputs": [
        {
          "output_type": "stream",
          "text": [
            "Loading data...\n",
            "Downloading data from https://s3.amazonaws.com/text-datasets/imdb.npz\n",
            "17465344/17464789 [==============================] - 0s 0us/step\n",
            "25000 train sequences\n",
            "25000 test sequences\n",
            "Pad sequences (samples x time)\n",
            "x_train shape: (25000, 80)\n",
            "x_test shape: (25000, 80)\n"
          ],
          "name": "stdout"
        }
      ]
    },
    {
      "cell_type": "code",
      "metadata": {
        "id": "SeQ_tXmWm_Cp",
        "colab_type": "code",
        "outputId": "ec97832f-f144-4b09-d64c-7d38937febed",
        "colab": {
          "base_uri": "https://localhost:8080/",
          "height": 88
        }
      },
      "source": [
        "UNITS = 128\n",
        "EPOCH = 3\n",
        "\n",
        "layer_name = [\"SimpleRNN\", \"GRU\", \"LSTM\", \"CuDNNGRU\", \"CuDNNLSTM\"]\n",
        "\n",
        "cell_names = [\"SimpleRNNCell\", \"GRUCell\", \"LSTMCell\",\"MixedCell\"]\n",
        "\n",
        "# layers\n",
        "layers = {\"SimpleRNN\":keras.layers.SimpleRNN(UNITS, activation='tanh', use_bias=True, kernel_initializer='glorot_uniform', recurrent_initializer='orthogonal', bias_initializer='zeros', kernel_regularizer=None, recurrent_regularizer=None, bias_regularizer=None, activity_regularizer=None, kernel_constraint=None, recurrent_constraint=None, bias_constraint=None, dropout=0.0, recurrent_dropout=0.0, return_sequences=False, return_state=False, go_backwards=False, stateful=False, unroll=False),\n",
        "                 \"GRU\":keras.layers.GRU(UNITS, activation='tanh', recurrent_activation='hard_sigmoid', use_bias=True, kernel_initializer='glorot_uniform', recurrent_initializer='orthogonal', bias_initializer='zeros', kernel_regularizer=None, recurrent_regularizer=None, bias_regularizer=None, activity_regularizer=None, kernel_constraint=None, recurrent_constraint=None, bias_constraint=None, dropout=0.0, recurrent_dropout=0.0, implementation=1, return_sequences=False, return_state=False, go_backwards=False, stateful=False, unroll=False, reset_after=False),\n",
        "                 \"LSTM\":keras.layers.LSTM(UNITS, activation='tanh', recurrent_activation='hard_sigmoid', use_bias=True, kernel_initializer='glorot_uniform', recurrent_initializer='orthogonal', bias_initializer='zeros', unit_forget_bias=True, kernel_regularizer=None, recurrent_regularizer=None, bias_regularizer=None, activity_regularizer=None, kernel_constraint=None, recurrent_constraint=None, bias_constraint=None, dropout=0.0, recurrent_dropout=0.0, implementation=1, return_sequences=False, return_state=False, go_backwards=False, stateful=False, unroll=False),\n",
        "                 \"CuDNNGRU\":CuDNNGRU(UNITS, kernel_initializer='glorot_uniform', recurrent_initializer='orthogonal', bias_initializer='zeros', kernel_regularizer=None, recurrent_regularizer=None, bias_regularizer=None, activity_regularizer=None, kernel_constraint=None, recurrent_constraint=None, bias_constraint=None, return_sequences=False, return_state=False, stateful=False),\n",
        "                 \"CuDNNLSTM\":CuDNNLSTM(UNITS, kernel_initializer='glorot_uniform', recurrent_initializer='orthogonal', bias_initializer='zeros', unit_forget_bias=True, kernel_regularizer=None, recurrent_regularizer=None, bias_regularizer=None, activity_regularizer=None, kernel_constraint=None, recurrent_constraint=None, bias_constraint=None, return_sequences=False, return_state=False, stateful=False)}"
      ],
      "execution_count": 3,
      "outputs": [
        {
          "output_type": "stream",
          "text": [
            "WARNING: Logging before flag parsing goes to stderr.\n",
            "W0630 03:43:21.379490 140538127951744 deprecation_wrapper.py:119] From /usr/local/lib/python3.6/dist-packages/keras/backend/tensorflow_backend.py:74: The name tf.get_default_graph is deprecated. Please use tf.compat.v1.get_default_graph instead.\n",
            "\n"
          ],
          "name": "stderr"
        }
      ]
    },
    {
      "cell_type": "code",
      "metadata": {
        "scrolled": true,
        "id": "P2vve33Um_Cq",
        "colab_type": "code",
        "colab": {}
      },
      "source": [
        "mixed_cells = [SimpleRNNCell(UNITS, activation='tanh', use_bias=True, kernel_initializer='glorot_uniform', recurrent_initializer='orthogonal', bias_initializer='zeros', kernel_regularizer=None, recurrent_regularizer=None, bias_regularizer=None, kernel_constraint=None, recurrent_constraint=None, bias_constraint=None, dropout=0.0, recurrent_dropout=0.0),\n",
        "                          GRUCell(UNITS, activation='tanh', recurrent_activation='hard_sigmoid', use_bias=True, kernel_initializer='glorot_uniform', recurrent_initializer='orthogonal', bias_initializer='zeros', kernel_regularizer=None, recurrent_regularizer=None, bias_regularizer=None, kernel_constraint=None, recurrent_constraint=None, bias_constraint=None, dropout=0.0, recurrent_dropout=0.0, implementation=1),\n",
        "                          LSTMCell(UNITS, activation='tanh', recurrent_activation='hard_sigmoid', use_bias=True, kernel_initializer='glorot_uniform', recurrent_initializer='orthogonal', bias_initializer='zeros', unit_forget_bias=True, kernel_regularizer=None, recurrent_regularizer=None, bias_regularizer=None, kernel_constraint=None, recurrent_constraint=None, bias_constraint=None, dropout=0.0, recurrent_dropout=0.0, implementation=1)]\n",
        "\n",
        "\n",
        "cells = {\"SimpleRNNCell\" : SimpleRNNCell(UNITS, activation='tanh', use_bias=True, kernel_initializer='glorot_uniform', recurrent_initializer='orthogonal', bias_initializer='zeros', kernel_regularizer=None, recurrent_regularizer=None, bias_regularizer=None, kernel_constraint=None, recurrent_constraint=None, bias_constraint=None, dropout=0.0, recurrent_dropout=0.0),\n",
        "             \"GRUCell\" : GRUCell(UNITS, activation='tanh', recurrent_activation='hard_sigmoid', use_bias=True, kernel_initializer='glorot_uniform', recurrent_initializer='orthogonal', bias_initializer='zeros', kernel_regularizer=None, recurrent_regularizer=None, bias_regularizer=None, kernel_constraint=None, recurrent_constraint=None, bias_constraint=None, dropout=0.0, recurrent_dropout=0.0, implementation=1),\n",
        "             \"LSTMCell\":LSTMCell(UNITS, activation='tanh', recurrent_activation='hard_sigmoid', use_bias=True, kernel_initializer='glorot_uniform', recurrent_initializer='orthogonal', bias_initializer='zeros', unit_forget_bias=True, kernel_regularizer=None, recurrent_regularizer=None, bias_regularizer=None, kernel_constraint=None, recurrent_constraint=None, bias_constraint=None, dropout=0.0, recurrent_dropout=0.0, implementation=1),\n",
        "             \"MixedCell\":StackedRNNCells(mixed_cells)}"
      ],
      "execution_count": 0,
      "outputs": []
    },
    {
      "cell_type": "markdown",
      "metadata": {
        "id": "P6nuM3ljm_Cs",
        "colab_type": "text"
      },
      "source": [
        "### Layer\n",
        "\n",
        "以下の5レイヤーについて学習・評価を行う。\n",
        "\n",
        "1. SimpleRNN\n",
        "2. GRU\n",
        "3. LSTM\n",
        "4. CuDNNGRU\n",
        "5. CuDNNLSTM"
      ]
    },
    {
      "cell_type": "code",
      "metadata": {
        "id": "bSgrtcoLm_Ct",
        "colab_type": "code",
        "outputId": "ca7f281c-d2d4-4d97-8267-214ed719e0fb",
        "colab": {
          "base_uri": "https://localhost:8080/",
          "height": 1000
        }
      },
      "source": [
        "results = {}\n",
        "\n",
        "for name in layer_name:\n",
        "    \n",
        "    # 処理前の時刻\n",
        "    t1 = time.time()\n",
        "\n",
        "    # 学習・予測\n",
        "    print('Build {} ...'.format(name))\n",
        "    model = Sequential()\n",
        "    model.add(Embedding(max_features, 128))\n",
        "    model.add(layers[name])\n",
        "    model.add(Dense(1, activation='sigmoid'))\n",
        "\n",
        "    # try using different optimizers and different optimizer configs\n",
        "    model.compile(loss='binary_crossentropy',\n",
        "                  optimizer='adam',\n",
        "                  metrics=['accuracy'])\n",
        "    \n",
        "    model.summary()\n",
        "    \n",
        "    print('Train...')\n",
        "    history = model.fit(x_train, y_train, batch_size=batch_size,\n",
        "                                      epochs=EPOCH, validation_data=(x_test, y_test))\n",
        "    score, acc = model.evaluate(x_test, y_test, batch_size=batch_size)\n",
        "\n",
        "    print('Test score:', score)\n",
        "    print('Test accuracy:', acc)\n",
        "\n",
        "    # 処理後の時刻\n",
        "    t2 = time.time()\n",
        "\n",
        "    # 経過時間を表示\n",
        "    elapsed_time = t2 - t1\n",
        "    print(f\"経過時間：{elapsed_time}\")\n",
        "    print(\"\")\n",
        "\n",
        "    # 結果を格納\n",
        "    results[name] = {\"time\":round(elapsed_time, 2), \"score\" : round(score,2), \"accuracy\" : round(acc,2)}\n",
        "    \n",
        "    # セッション終了\n",
        "    backend.clear_session()"
      ],
      "execution_count": 5,
      "outputs": [
        {
          "output_type": "stream",
          "text": [
            "W0630 03:43:21.458705 140538127951744 deprecation_wrapper.py:119] From /usr/local/lib/python3.6/dist-packages/keras/backend/tensorflow_backend.py:517: The name tf.placeholder is deprecated. Please use tf.compat.v1.placeholder instead.\n",
            "\n",
            "W0630 03:43:21.468638 140538127951744 deprecation_wrapper.py:119] From /usr/local/lib/python3.6/dist-packages/keras/backend/tensorflow_backend.py:4138: The name tf.random_uniform is deprecated. Please use tf.random.uniform instead.\n",
            "\n"
          ],
          "name": "stderr"
        },
        {
          "output_type": "stream",
          "text": [
            "Build SimpleRNN ...\n"
          ],
          "name": "stdout"
        },
        {
          "output_type": "stream",
          "text": [
            "W0630 03:43:21.587354 140538127951744 deprecation_wrapper.py:119] From /usr/local/lib/python3.6/dist-packages/keras/optimizers.py:790: The name tf.train.Optimizer is deprecated. Please use tf.compat.v1.train.Optimizer instead.\n",
            "\n",
            "W0630 03:43:21.609414 140538127951744 deprecation_wrapper.py:119] From /usr/local/lib/python3.6/dist-packages/keras/backend/tensorflow_backend.py:3376: The name tf.log is deprecated. Please use tf.math.log instead.\n",
            "\n",
            "W0630 03:43:21.615403 140538127951744 deprecation.py:323] From /usr/local/lib/python3.6/dist-packages/tensorflow/python/ops/nn_impl.py:180: add_dispatch_support.<locals>.wrapper (from tensorflow.python.ops.array_ops) is deprecated and will be removed in a future version.\n",
            "Instructions for updating:\n",
            "Use tf.where in 2.0, which has the same broadcast rule as np.where\n"
          ],
          "name": "stderr"
        },
        {
          "output_type": "stream",
          "text": [
            "_________________________________________________________________\n",
            "Layer (type)                 Output Shape              Param #   \n",
            "=================================================================\n",
            "embedding_1 (Embedding)      (None, None, 128)         2560000   \n",
            "_________________________________________________________________\n",
            "simple_rnn_1 (SimpleRNN)     (None, 128)               32896     \n",
            "_________________________________________________________________\n",
            "dense_1 (Dense)              (None, 1)                 129       \n",
            "=================================================================\n",
            "Total params: 2,593,025\n",
            "Trainable params: 2,593,025\n",
            "Non-trainable params: 0\n",
            "_________________________________________________________________\n",
            "Train...\n"
          ],
          "name": "stdout"
        },
        {
          "output_type": "stream",
          "text": [
            "W0630 03:43:21.922169 140538127951744 deprecation_wrapper.py:119] From /usr/local/lib/python3.6/dist-packages/keras/backend/tensorflow_backend.py:986: The name tf.assign_add is deprecated. Please use tf.compat.v1.assign_add instead.\n",
            "\n"
          ],
          "name": "stderr"
        },
        {
          "output_type": "stream",
          "text": [
            "Train on 25000 samples, validate on 25000 samples\n",
            "Epoch 1/3\n",
            "25000/25000 [==============================] - 30s 1ms/step - loss: 0.6317 - acc: 0.6176 - val_loss: 0.5972 - val_acc: 0.6809\n",
            "Epoch 2/3\n",
            "25000/25000 [==============================] - 26s 1ms/step - loss: 0.5324 - acc: 0.7287 - val_loss: 0.5823 - val_acc: 0.6845\n",
            "Epoch 3/3\n",
            "25000/25000 [==============================] - 26s 1ms/step - loss: 0.4337 - acc: 0.8084 - val_loss: 0.5330 - val_acc: 0.7526\n",
            "25000/25000 [==============================] - 5s 192us/step\n",
            "Test score: 0.5330192252349853\n",
            "Test accuracy: 0.75256\n",
            "経過時間：87.95338916778564\n",
            "\n",
            "Build GRU ...\n",
            "_________________________________________________________________\n",
            "Layer (type)                 Output Shape              Param #   \n",
            "=================================================================\n",
            "embedding_1 (Embedding)      (None, None, 128)         2560000   \n",
            "_________________________________________________________________\n",
            "gru_1 (GRU)                  (None, 128)               98688     \n",
            "_________________________________________________________________\n",
            "dense_1 (Dense)              (None, 1)                 129       \n",
            "=================================================================\n",
            "Total params: 2,658,817\n",
            "Trainable params: 2,658,817\n",
            "Non-trainable params: 0\n",
            "_________________________________________________________________\n",
            "Train...\n",
            "Train on 25000 samples, validate on 25000 samples\n",
            "Epoch 1/3\n",
            "25000/25000 [==============================] - 79s 3ms/step - loss: 0.4278 - acc: 0.7944 - val_loss: 0.3736 - val_acc: 0.8353\n",
            "Epoch 2/3\n",
            "25000/25000 [==============================] - 78s 3ms/step - loss: 0.2376 - acc: 0.9057 - val_loss: 0.3586 - val_acc: 0.8465\n",
            "Epoch 3/3\n",
            "25000/25000 [==============================] - 79s 3ms/step - loss: 0.1312 - acc: 0.9524 - val_loss: 0.4507 - val_acc: 0.8261\n",
            "25000/25000 [==============================] - 14s 563us/step\n",
            "Test score: 0.4506932534503937\n",
            "Test accuracy: 0.82612\n",
            "経過時間：251.050856590271\n",
            "\n",
            "Build LSTM ...\n",
            "_________________________________________________________________\n",
            "Layer (type)                 Output Shape              Param #   \n",
            "=================================================================\n",
            "embedding_1 (Embedding)      (None, None, 128)         2560000   \n",
            "_________________________________________________________________\n",
            "lstm_1 (LSTM)                (None, 128)               131584    \n",
            "_________________________________________________________________\n",
            "dense_1 (Dense)              (None, 1)                 129       \n",
            "=================================================================\n",
            "Total params: 2,691,713\n",
            "Trainable params: 2,691,713\n",
            "Non-trainable params: 0\n",
            "_________________________________________________________________\n",
            "Train...\n",
            "Train on 25000 samples, validate on 25000 samples\n",
            "Epoch 1/3\n",
            "25000/25000 [==============================] - 97s 4ms/step - loss: 0.4348 - acc: 0.7960 - val_loss: 0.3803 - val_acc: 0.8326\n",
            "Epoch 2/3\n",
            "25000/25000 [==============================] - 97s 4ms/step - loss: 0.2544 - acc: 0.8986 - val_loss: 0.3869 - val_acc: 0.8373\n",
            "Epoch 3/3\n",
            "25000/25000 [==============================] - 97s 4ms/step - loss: 0.1541 - acc: 0.9413 - val_loss: 0.4867 - val_acc: 0.8290\n",
            "25000/25000 [==============================] - 17s 693us/step\n",
            "Test score: 0.4866956539869308\n",
            "Test accuracy: 0.829\n",
            "経過時間：309.10368371009827\n",
            "\n",
            "Build CuDNNGRU ...\n",
            "_________________________________________________________________\n",
            "Layer (type)                 Output Shape              Param #   \n",
            "=================================================================\n",
            "embedding_1 (Embedding)      (None, None, 128)         2560000   \n",
            "_________________________________________________________________\n",
            "cu_dnngru_1 (CuDNNGRU)       (None, 128)               99072     \n",
            "_________________________________________________________________\n",
            "dense_1 (Dense)              (None, 1)                 129       \n",
            "=================================================================\n",
            "Total params: 2,659,201\n",
            "Trainable params: 2,659,201\n",
            "Non-trainable params: 0\n",
            "_________________________________________________________________\n",
            "Train...\n",
            "Train on 25000 samples, validate on 25000 samples\n",
            "Epoch 1/3\n",
            "25000/25000 [==============================] - 12s 460us/step - loss: 0.4306 - acc: 0.7930 - val_loss: 0.3543 - val_acc: 0.8392\n",
            "Epoch 2/3\n",
            "25000/25000 [==============================] - 8s 338us/step - loss: 0.2306 - acc: 0.9096 - val_loss: 0.3575 - val_acc: 0.8422\n",
            "Epoch 3/3\n",
            "25000/25000 [==============================] - 8s 337us/step - loss: 0.1212 - acc: 0.9554 - val_loss: 0.4603 - val_acc: 0.8330\n",
            "25000/25000 [==============================] - 2s 89us/step\n",
            "Test score: 0.46027592329502104\n",
            "Test accuracy: 0.83304\n",
            "経過時間：33.35449004173279\n",
            "\n",
            "Build CuDNNLSTM ...\n",
            "_________________________________________________________________\n",
            "Layer (type)                 Output Shape              Param #   \n",
            "=================================================================\n",
            "embedding_1 (Embedding)      (None, None, 128)         2560000   \n",
            "_________________________________________________________________\n",
            "cu_dnnlstm_1 (CuDNNLSTM)     (None, 128)               132096    \n",
            "_________________________________________________________________\n",
            "dense_1 (Dense)              (None, 1)                 129       \n",
            "=================================================================\n",
            "Total params: 2,692,225\n",
            "Trainable params: 2,692,225\n",
            "Non-trainable params: 0\n",
            "_________________________________________________________________\n",
            "Train...\n",
            "Train on 25000 samples, validate on 25000 samples\n",
            "Epoch 1/3\n",
            "25000/25000 [==============================] - 9s 374us/step - loss: 0.4385 - acc: 0.7926 - val_loss: 0.3870 - val_acc: 0.8298\n",
            "Epoch 2/3\n",
            "25000/25000 [==============================] - 9s 350us/step - loss: 0.2540 - acc: 0.8984 - val_loss: 0.3698 - val_acc: 0.8376\n",
            "Epoch 3/3\n",
            "25000/25000 [==============================] - 9s 348us/step - loss: 0.1549 - acc: 0.9420 - val_loss: 0.4485 - val_acc: 0.8180\n",
            "25000/25000 [==============================] - 2s 89us/step\n",
            "Test score: 0.4485156123828888\n",
            "Test accuracy: 0.81796\n",
            "経過時間：29.63374423980713\n",
            "\n"
          ],
          "name": "stdout"
        }
      ]
    },
    {
      "cell_type": "code",
      "metadata": {
        "id": "L3BL_-6fs7Qr",
        "colab_type": "code",
        "outputId": "4ce10836-8ed7-42aa-d09e-9e26cde5ebff",
        "colab": {
          "base_uri": "https://localhost:8080/",
          "height": 102
        }
      },
      "source": [
        "results"
      ],
      "execution_count": 6,
      "outputs": [
        {
          "output_type": "execute_result",
          "data": {
            "text/plain": [
              "{'CuDNNGRU': {'accuracy': 0.83, 'score': 0.46, 'time': 33.35},\n",
              " 'CuDNNLSTM': {'accuracy': 0.82, 'score': 0.45, 'time': 29.63},\n",
              " 'GRU': {'accuracy': 0.83, 'score': 0.45, 'time': 251.05},\n",
              " 'LSTM': {'accuracy': 0.83, 'score': 0.49, 'time': 309.1},\n",
              " 'SimpleRNN': {'accuracy': 0.75, 'score': 0.53, 'time': 87.95}}"
            ]
          },
          "metadata": {
            "tags": []
          },
          "execution_count": 6
        }
      ]
    },
    {
      "cell_type": "markdown",
      "metadata": {
        "id": "Sv1UAgZim_Cv",
        "colab_type": "text"
      },
      "source": [
        "#### RNNCells\n",
        "\n",
        "- SimpleRNNCell\n",
        "- GRUCell\n",
        "- LSTMCell\n",
        "- MixedCell：StackedRNNCells"
      ]
    },
    {
      "cell_type": "code",
      "metadata": {
        "id": "UVX_91QzxRMr",
        "colab_type": "code",
        "outputId": "7c11a5bb-303c-45b7-b3a4-4afa9a8ae3f4",
        "colab": {
          "base_uri": "https://localhost:8080/",
          "height": 1000
        }
      },
      "source": [
        "for cell_name in cell_names:\n",
        "    \n",
        "    print(\"cell_name:\", cell_name)\n",
        "\n",
        "    # 学習・予測\n",
        "    print('Build {} ...'.format(cell_name))\n",
        "    model = Sequential()\n",
        "    model.add(Embedding(max_features, 128))\n",
        "    model.add(keras.layers.RNN(cells[cell_name]))\n",
        "    model.add(Dense(1, activation='sigmoid'))\n",
        "\n",
        "    # try using different optimizers and different optimizer configs\n",
        "    model.compile(loss='binary_crossentropy',\n",
        "                  optimizer='adam',\n",
        "                  metrics=['accuracy'])\n",
        "  \n",
        "    model.summary()\n",
        "    \n",
        "    # 処理前の時刻\n",
        "    t1 = time.time()\n",
        "    \n",
        "    print('Train...')\n",
        "    model.fit(x_train, y_train, batch_size=batch_size,\n",
        "                     epochs=EPOCH, validation_data=(x_test, y_test))\n",
        "    score, acc = model.evaluate(x_test, y_test, batch_size=batch_size)\n",
        "\n",
        "    print('Test score:', score)\n",
        "    print('Test accuracy:', acc)\n",
        "\n",
        "    # 処理後の時刻\n",
        "    t2 = time.time()\n",
        "\n",
        "    # 経過時間を表示\n",
        "    elapsed_time = t2 - t1\n",
        "    print(f\"経過時間：{elapsed_time}\")\n",
        "    print(\"\")\n",
        "    \n",
        "    # 結果を格納\n",
        "    results[cell_name] = {\"time\":round(elapsed_time, 2), \"score\" : round(score,2), \"accuracy\" : round(acc,2)}\n",
        "    \n",
        "    # 処理終了時にセッションクローズ\n",
        "    backend.clear_session()\n",
        "    "
      ],
      "execution_count": 7,
      "outputs": [
        {
          "output_type": "stream",
          "text": [
            "cell_name: SimpleRNNCell\n",
            "Build SimpleRNNCell ...\n",
            "_________________________________________________________________\n",
            "Layer (type)                 Output Shape              Param #   \n",
            "=================================================================\n",
            "embedding_1 (Embedding)      (None, None, 128)         2560000   \n",
            "_________________________________________________________________\n",
            "rnn_1 (RNN)                  (None, 128)               32896     \n",
            "_________________________________________________________________\n",
            "dense_1 (Dense)              (None, 1)                 129       \n",
            "=================================================================\n",
            "Total params: 2,593,025\n",
            "Trainable params: 2,593,025\n",
            "Non-trainable params: 0\n",
            "_________________________________________________________________\n",
            "Train...\n",
            "Train on 25000 samples, validate on 25000 samples\n",
            "Epoch 1/3\n",
            "25000/25000 [==============================] - 27s 1ms/step - loss: 0.5974 - acc: 0.6612 - val_loss: 0.4819 - val_acc: 0.7797\n",
            "Epoch 2/3\n",
            "25000/25000 [==============================] - 27s 1ms/step - loss: 0.4107 - acc: 0.8176 - val_loss: 0.4714 - val_acc: 0.7840\n",
            "Epoch 3/3\n",
            "25000/25000 [==============================] - 27s 1ms/step - loss: 0.5258 - acc: 0.7368 - val_loss: 0.6221 - val_acc: 0.6492\n",
            "25000/25000 [==============================] - 5s 196us/step\n",
            "Test score: 0.6220645855712891\n",
            "Test accuracy: 0.6492\n",
            "経過時間：86.29666543006897\n",
            "\n",
            "cell_name: GRUCell\n",
            "Build GRUCell ...\n",
            "_________________________________________________________________\n",
            "Layer (type)                 Output Shape              Param #   \n",
            "=================================================================\n",
            "embedding_1 (Embedding)      (None, None, 128)         2560000   \n",
            "_________________________________________________________________\n",
            "rnn_1 (RNN)                  (None, 128)               98688     \n",
            "_________________________________________________________________\n",
            "dense_1 (Dense)              (None, 1)                 129       \n",
            "=================================================================\n",
            "Total params: 2,658,817\n",
            "Trainable params: 2,658,817\n",
            "Non-trainable params: 0\n",
            "_________________________________________________________________\n",
            "Train...\n",
            "Train on 25000 samples, validate on 25000 samples\n",
            "Epoch 1/3\n",
            "25000/25000 [==============================] - 82s 3ms/step - loss: 0.4457 - acc: 0.7851 - val_loss: 0.3599 - val_acc: 0.8421\n",
            "Epoch 2/3\n",
            "25000/25000 [==============================] - 80s 3ms/step - loss: 0.2466 - acc: 0.9022 - val_loss: 0.4011 - val_acc: 0.8409\n",
            "Epoch 3/3\n",
            "25000/25000 [==============================] - 81s 3ms/step - loss: 0.1331 - acc: 0.9510 - val_loss: 0.4479 - val_acc: 0.8325\n",
            "25000/25000 [==============================] - 14s 571us/step\n",
            "Test score: 0.4479032301568985\n",
            "Test accuracy: 0.83252\n",
            "経過時間：257.7597908973694\n",
            "\n",
            "cell_name: LSTMCell\n",
            "Build LSTMCell ...\n",
            "_________________________________________________________________\n",
            "Layer (type)                 Output Shape              Param #   \n",
            "=================================================================\n",
            "embedding_1 (Embedding)      (None, None, 128)         2560000   \n",
            "_________________________________________________________________\n",
            "rnn_1 (RNN)                  (None, 128)               131584    \n",
            "_________________________________________________________________\n",
            "dense_1 (Dense)              (None, 1)                 129       \n",
            "=================================================================\n",
            "Total params: 2,691,713\n",
            "Trainable params: 2,691,713\n",
            "Non-trainable params: 0\n",
            "_________________________________________________________________\n",
            "Train...\n",
            "Train on 25000 samples, validate on 25000 samples\n",
            "Epoch 1/3\n",
            "25000/25000 [==============================] - 100s 4ms/step - loss: 0.4359 - acc: 0.7895 - val_loss: 0.3671 - val_acc: 0.8400\n",
            "Epoch 2/3\n",
            "25000/25000 [==============================] - 99s 4ms/step - loss: 0.2501 - acc: 0.8994 - val_loss: 0.3747 - val_acc: 0.8340\n",
            "Epoch 3/3\n",
            "25000/25000 [==============================] - 98s 4ms/step - loss: 0.1554 - acc: 0.9418 - val_loss: 0.4672 - val_acc: 0.8262\n",
            "25000/25000 [==============================] - 18s 700us/step\n",
            "Test score: 0.46724447803020475\n",
            "Test accuracy: 0.8262\n",
            "経過時間：315.46423745155334\n",
            "\n",
            "cell_name: MixedCell\n",
            "Build MixedCell ...\n",
            "_________________________________________________________________\n",
            "Layer (type)                 Output Shape              Param #   \n",
            "=================================================================\n",
            "embedding_1 (Embedding)      (None, None, 128)         2560000   \n",
            "_________________________________________________________________\n",
            "rnn_1 (RNN)                  (None, 128)               263168    \n",
            "_________________________________________________________________\n",
            "dense_1 (Dense)              (None, 1)                 129       \n",
            "=================================================================\n",
            "Total params: 2,823,297\n",
            "Trainable params: 2,823,297\n",
            "Non-trainable params: 0\n",
            "_________________________________________________________________\n",
            "Train...\n",
            "Train on 25000 samples, validate on 25000 samples\n",
            "Epoch 1/3\n",
            "25000/25000 [==============================] - 178s 7ms/step - loss: 0.5864 - acc: 0.6609 - val_loss: 0.4706 - val_acc: 0.7830\n",
            "Epoch 2/3\n",
            "25000/25000 [==============================] - 176s 7ms/step - loss: 0.5390 - acc: 0.7250 - val_loss: 0.5746 - val_acc: 0.7059\n",
            "Epoch 3/3\n",
            "25000/25000 [==============================] - 176s 7ms/step - loss: 0.4229 - acc: 0.8088 - val_loss: 0.4178 - val_acc: 0.8138\n",
            "25000/25000 [==============================] - 32s 1ms/step\n",
            "Test score: 0.41780390617370605\n",
            "Test accuracy: 0.81376\n",
            "経過時間：563.2544302940369\n",
            "\n"
          ],
          "name": "stdout"
        }
      ]
    },
    {
      "cell_type": "code",
      "metadata": {
        "id": "pBrqJK6wypCS",
        "colab_type": "code",
        "colab": {
          "base_uri": "https://localhost:8080/",
          "height": 170
        },
        "outputId": "2a148fe3-0b9e-4a3e-ca16-b6d9749c0728"
      },
      "source": [
        "results"
      ],
      "execution_count": 8,
      "outputs": [
        {
          "output_type": "execute_result",
          "data": {
            "text/plain": [
              "{'CuDNNGRU': {'accuracy': 0.83, 'score': 0.46, 'time': 33.35},\n",
              " 'CuDNNLSTM': {'accuracy': 0.82, 'score': 0.45, 'time': 29.63},\n",
              " 'GRU': {'accuracy': 0.83, 'score': 0.45, 'time': 251.05},\n",
              " 'GRUCell': {'accuracy': 0.83, 'score': 0.45, 'time': 257.76},\n",
              " 'LSTM': {'accuracy': 0.83, 'score': 0.49, 'time': 309.1},\n",
              " 'LSTMCell': {'accuracy': 0.83, 'score': 0.47, 'time': 315.46},\n",
              " 'MixedCell': {'accuracy': 0.81, 'score': 0.42, 'time': 563.25},\n",
              " 'SimpleRNN': {'accuracy': 0.75, 'score': 0.53, 'time': 87.95},\n",
              " 'SimpleRNNCell': {'accuracy': 0.65, 'score': 0.62, 'time': 86.3}}"
            ]
          },
          "metadata": {
            "tags": []
          },
          "execution_count": 8
        }
      ]
    },
    {
      "cell_type": "markdown",
      "metadata": {
        "id": "k5xQ63VM45Kl",
        "colab_type": "text"
      },
      "source": [
        "### ConvLSTM2D（入力：IMDB）"
      ]
    },
    {
      "cell_type": "code",
      "metadata": {
        "id": "3dIWpB-ORGaa",
        "colab_type": "code",
        "colab": {
          "base_uri": "https://localhost:8080/",
          "height": 153
        },
        "outputId": "c933230d-00cf-454f-986d-807d5f71b96a"
      },
      "source": [
        "max_features = 20000\n",
        "maxlen = 80\n",
        "batch_size = 32\n",
        "\n",
        "print('Loading data...')\n",
        "(x_train_conv, y_train_conv), (x_test_conv, y_test_conv) = imdb.load_data(num_words=max_features)\n",
        "print(len(x_train_conv), 'train sequences')\n",
        "print(len(x_test_conv), 'test sequences')\n",
        "\n",
        "print('Pad sequences (samples x time)')\n",
        "x_train_conv = sequence.pad_sequences(x_train_conv, maxlen=maxlen)\n",
        "x_test_conv = sequence.pad_sequences(x_test_conv, maxlen=maxlen)\n",
        "print('x_train_conv shape:', x_train_conv.shape)\n",
        "print('x_test_conv shape:', x_test_conv.shape)\n",
        "print('y_train_conv shape:', y_train_conv.shape)\n",
        "print('y_test_conv shape:', y_test_conv.shape)"
      ],
      "execution_count": 9,
      "outputs": [
        {
          "output_type": "stream",
          "text": [
            "Loading data...\n",
            "25000 train sequences\n",
            "25000 test sequences\n",
            "Pad sequences (samples x time)\n",
            "x_train_conv shape: (25000, 80)\n",
            "x_test_conv shape: (25000, 80)\n",
            "y_train_conv shape: (25000,)\n",
            "y_test_conv shape: (25000,)\n"
          ],
          "name": "stdout"
        }
      ]
    },
    {
      "cell_type": "markdown",
      "metadata": {
        "id": "o1HoGXDfyJ2t",
        "colab_type": "text"
      },
      "source": [
        "- 正解データが1次元配列である点に注意。軸を足す必要がある。"
      ]
    },
    {
      "cell_type": "code",
      "metadata": {
        "id": "650piKlam_Cw",
        "colab_type": "code",
        "colab": {}
      },
      "source": [
        "x_train_conv = x_train_conv.reshape(25000,80,1,1,1)\n",
        "x_test_conv = x_test_conv.reshape(25000,80,1,1,1)\n",
        "y_train_conv = y_train_conv.reshape(25000, 1)\n",
        "y_test_conv = y_test_conv.reshape(25000,1)"
      ],
      "execution_count": 0,
      "outputs": []
    },
    {
      "cell_type": "code",
      "metadata": {
        "id": "p9rmoKDG44BG",
        "colab_type": "code",
        "colab": {}
      },
      "source": [
        "from keras import layers\n",
        "from keras.models import Sequential\n",
        "from keras.layers.convolutional import Conv3D\n",
        "from keras.layers.convolutional_recurrent import ConvLSTM2D\n",
        "from keras.layers.normalization import BatchNormalization\n",
        "import numpy as np\n",
        "import pylab as plt"
      ],
      "execution_count": 0,
      "outputs": []
    },
    {
      "cell_type": "code",
      "metadata": {
        "id": "2PXmGBolsT5J",
        "colab_type": "code",
        "colab": {
          "base_uri": "https://localhost:8080/",
          "height": 411
        },
        "outputId": "c7b2e0bc-4c75-4da1-8097-35b3f8c54a51"
      },
      "source": [
        "# モデルの構築\n",
        "\n",
        "model = Sequential()\n",
        "\n",
        "model.add(ConvLSTM2D(filters=40, kernel_size=(3, 3),\n",
        "                   input_shape=(80, 1, 1,1),\n",
        "                   padding='same', return_sequences=True))\n",
        "\n",
        "model.add(BatchNormalization())\n",
        "\n",
        "model.add(Dropout(0.5))\n",
        "model.add(Flatten())\n",
        "model.add(Dense(100, activation='relu'))\n",
        "model.add(Dense(1, activation='sigmoid'))\n",
        "\n",
        "model.compile(optimizer='rmsprop', loss='binary_crossentropy', metrics=['accuracy'])\n",
        "\n",
        "model.summary()"
      ],
      "execution_count": 12,
      "outputs": [
        {
          "output_type": "stream",
          "text": [
            "W0630 04:15:41.860887 140538127951744 deprecation.py:506] From /usr/local/lib/python3.6/dist-packages/keras/backend/tensorflow_backend.py:3445: calling dropout (from tensorflow.python.ops.nn_ops) with keep_prob is deprecated and will be removed in a future version.\n",
            "Instructions for updating:\n",
            "Please use `rate` instead of `keep_prob`. Rate should be set to `rate = 1 - keep_prob`.\n"
          ],
          "name": "stderr"
        },
        {
          "output_type": "stream",
          "text": [
            "_________________________________________________________________\n",
            "Layer (type)                 Output Shape              Param #   \n",
            "=================================================================\n",
            "conv_lst_m2d_1 (ConvLSTM2D)  (None, 80, 1, 1, 40)      59200     \n",
            "_________________________________________________________________\n",
            "batch_normalization_1 (Batch (None, 80, 1, 1, 40)      160       \n",
            "_________________________________________________________________\n",
            "dropout_1 (Dropout)          (None, 80, 1, 1, 40)      0         \n",
            "_________________________________________________________________\n",
            "flatten_1 (Flatten)          (None, 3200)              0         \n",
            "_________________________________________________________________\n",
            "dense_1 (Dense)              (None, 100)               320100    \n",
            "_________________________________________________________________\n",
            "dense_2 (Dense)              (None, 1)                 101       \n",
            "=================================================================\n",
            "Total params: 379,561\n",
            "Trainable params: 379,481\n",
            "Non-trainable params: 80\n",
            "_________________________________________________________________\n"
          ],
          "name": "stdout"
        }
      ]
    },
    {
      "cell_type": "code",
      "metadata": {
        "id": "0TgEmjz97CfD",
        "colab_type": "code",
        "colab": {
          "base_uri": "https://localhost:8080/",
          "height": 292
        },
        "outputId": "f443dd3a-1d4c-4b75-f488-17a1373f9b44"
      },
      "source": [
        "print(\"x_train_conv.shape:\", x_train_conv.shape)\n",
        "print(\"\")\n",
        "\n",
        "# 処理前の時刻\n",
        "t1 = time.time()\n",
        "\n",
        "print('Train...')\n",
        "model.fit(x_train_conv, y_train_conv, batch_size=batch_size,\n",
        "               epochs=EPOCH, validation_data=(x_test_conv, y_test_conv))\n",
        "\n",
        "score, acc = model.evaluate(x_test_conv, y_test_conv, batch_size=batch_size)\n",
        "\n",
        "print('Test score:', score)\n",
        "print('Test accuracy:', acc)\n",
        "\n",
        "# 処理後の時刻\n",
        "t2 = time.time()\n",
        "\n",
        "# 経過時間を表示\n",
        "elapsed_time = t2 - t1\n",
        "print(f\"経過時間：{elapsed_time}\")\n",
        "print(\"\")\n",
        "\n",
        "# 結果を格納\n",
        "results[\"conv2lstm_imdb\"] = {\"time\":round(elapsed_time, 2), \"score\" : round(score,2), \"accuracy\" : round(acc,2)}\n",
        "\n",
        "# 処理終了時にセッションクローズ\n",
        "backend.clear_session()"
      ],
      "execution_count": 13,
      "outputs": [
        {
          "output_type": "stream",
          "text": [
            "x_train_conv.shape: (25000, 80, 1, 1, 1)\n",
            "\n",
            "Train...\n",
            "Train on 25000 samples, validate on 25000 samples\n",
            "Epoch 1/3\n",
            "25000/25000 [==============================] - 179s 7ms/step - loss: 0.7173 - acc: 0.5326 - val_loss: 0.6886 - val_acc: 0.5422\n",
            "Epoch 2/3\n",
            "25000/25000 [==============================] - 177s 7ms/step - loss: 0.6902 - acc: 0.5433 - val_loss: 0.7854 - val_acc: 0.5254\n",
            "Epoch 3/3\n",
            "25000/25000 [==============================] - 175s 7ms/step - loss: 0.6884 - acc: 0.5459 - val_loss: 0.7113 - val_acc: 0.5245\n",
            "25000/25000 [==============================] - 47s 2ms/step\n",
            "Test score: 0.7113242695999146\n",
            "Test accuracy: 0.52452\n",
            "経過時間：579.5503726005554\n",
            "\n"
          ],
          "name": "stdout"
        }
      ]
    },
    {
      "cell_type": "code",
      "metadata": {
        "id": "jOecJ5P3JJ1Q",
        "colab_type": "code",
        "colab": {
          "base_uri": "https://localhost:8080/",
          "height": 187
        },
        "outputId": "5cc9c359-cb6a-4d7e-e3a1-34a81f90a1c9"
      },
      "source": [
        "results"
      ],
      "execution_count": 14,
      "outputs": [
        {
          "output_type": "execute_result",
          "data": {
            "text/plain": [
              "{'CuDNNGRU': {'accuracy': 0.83, 'score': 0.46, 'time': 33.35},\n",
              " 'CuDNNLSTM': {'accuracy': 0.82, 'score': 0.45, 'time': 29.63},\n",
              " 'GRU': {'accuracy': 0.83, 'score': 0.45, 'time': 251.05},\n",
              " 'GRUCell': {'accuracy': 0.83, 'score': 0.45, 'time': 257.76},\n",
              " 'LSTM': {'accuracy': 0.83, 'score': 0.49, 'time': 309.1},\n",
              " 'LSTMCell': {'accuracy': 0.83, 'score': 0.47, 'time': 315.46},\n",
              " 'MixedCell': {'accuracy': 0.81, 'score': 0.42, 'time': 563.25},\n",
              " 'SimpleRNN': {'accuracy': 0.75, 'score': 0.53, 'time': 87.95},\n",
              " 'SimpleRNNCell': {'accuracy': 0.65, 'score': 0.62, 'time': 86.3},\n",
              " 'conv2lstm_imdb': {'accuracy': 0.52, 'score': 0.71, 'time': 579.55}}"
            ]
          },
          "metadata": {
            "tags": []
          },
          "execution_count": 14
        }
      ]
    },
    {
      "cell_type": "markdown",
      "metadata": {
        "id": "Gys9tlD_yfz9",
        "colab_type": "text"
      },
      "source": [
        "### ConvLSTM2D（入力：MNIST）"
      ]
    },
    {
      "cell_type": "code",
      "metadata": {
        "id": "FrTcIjlZQQQi",
        "colab_type": "code",
        "colab": {
          "base_uri": "https://localhost:8080/",
          "height": 51
        },
        "outputId": "98bec746-b247-4366-bb7b-2a03fba9dc02"
      },
      "source": [
        "import keras\n",
        "from keras.datasets import mnist\n",
        "from keras.models import Sequential\n",
        "from keras.layers import Dense, Dropout, InputLayer\n",
        "from keras.optimizers import RMSprop\n",
        "\n",
        "# MNISTデータを読込む\n",
        "(x_train, y_train), (x_test, y_test) = mnist.load_data()\n",
        "\n",
        "# MNISTデータを加工する\n",
        "x_train  = x_train.reshape(60000, 28,28)\n",
        "x_test   = x_test.reshape(10000, 28,28)\n",
        "x_train  = x_train.astype('float32')\n",
        "x_test   = x_test.astype('float32')\n",
        "x_train /= 255\n",
        "x_test  /= 255\n",
        "y_train  = keras.utils.to_categorical(y_train, 10)\n",
        "y_test   = keras.utils.to_categorical(y_test, 10)"
      ],
      "execution_count": 15,
      "outputs": [
        {
          "output_type": "stream",
          "text": [
            "Downloading data from https://s3.amazonaws.com/img-datasets/mnist.npz\n",
            "11493376/11490434 [==============================] - 0s 0us/step\n"
          ],
          "name": "stdout"
        }
      ]
    },
    {
      "cell_type": "code",
      "metadata": {
        "id": "_Jchh4_rQ4Q1",
        "colab_type": "code",
        "colab": {
          "base_uri": "https://localhost:8080/",
          "height": 34
        },
        "outputId": "8f64770a-993e-41aa-95f4-2e080bdcae11"
      },
      "source": [
        "x_train = x_train.reshape(60000, 1, 28, 28,1)\n",
        "x_test = x_test.reshape(10000, 1, 28, 28, 1)\n",
        "\n",
        "y_train.shape"
      ],
      "execution_count": 16,
      "outputs": [
        {
          "output_type": "execute_result",
          "data": {
            "text/plain": [
              "(60000, 10)"
            ]
          },
          "metadata": {
            "tags": []
          },
          "execution_count": 16
        }
      ]
    },
    {
      "cell_type": "code",
      "metadata": {
        "id": "Nez5DnKsQPuN",
        "colab_type": "code",
        "colab": {
          "base_uri": "https://localhost:8080/",
          "height": 340
        },
        "outputId": "371a0d98-3ced-49da-cac3-3b44176498a1"
      },
      "source": [
        "from keras.models import Sequential\n",
        "from keras.layers.convolutional import Conv3D\n",
        "from keras.layers.convolutional_recurrent import ConvLSTM2D\n",
        "from keras.layers.normalization import BatchNormalization\n",
        "import numpy as np\n",
        "import pylab as plt\n",
        "\n",
        "# We create a layer which take as input movies of shape\n",
        "# (n_frames, width, height, channels) and returns a movie\n",
        "# of identical shape.\n",
        "\n",
        "model = Sequential()\n",
        "\n",
        "model.add(ConvLSTM2D(filters=40, kernel_size=(3, 3),\n",
        "                   input_shape=(1, 28, 28, 1),\n",
        "                   padding='same', return_sequences=True))\n",
        "\n",
        "model.add(BatchNormalization())\n",
        "\n",
        "model.add(Dropout(0.5))\n",
        "model.add(Flatten())\n",
        "model.add(Dense(100, activation='relu'))\n",
        "model.add(Dense(10, activation='softmax'))\n",
        "\n",
        "model.compile(optimizer='rmsprop', loss='categorical_crossentropy', metrics=['accuracy'])\n",
        "\n",
        "model.summary()"
      ],
      "execution_count": 17,
      "outputs": [
        {
          "output_type": "stream",
          "text": [
            "_________________________________________________________________\n",
            "Layer (type)                 Output Shape              Param #   \n",
            "=================================================================\n",
            "conv_lst_m2d_1 (ConvLSTM2D)  (None, 1, 28, 28, 40)     59200     \n",
            "_________________________________________________________________\n",
            "batch_normalization_1 (Batch (None, 1, 28, 28, 40)     160       \n",
            "_________________________________________________________________\n",
            "dropout_1 (Dropout)          (None, 1, 28, 28, 40)     0         \n",
            "_________________________________________________________________\n",
            "flatten_1 (Flatten)          (None, 31360)             0         \n",
            "_________________________________________________________________\n",
            "dense_1 (Dense)              (None, 100)               3136100   \n",
            "_________________________________________________________________\n",
            "dense_2 (Dense)              (None, 10)                1010      \n",
            "=================================================================\n",
            "Total params: 3,196,470\n",
            "Trainable params: 3,196,390\n",
            "Non-trainable params: 80\n",
            "_________________________________________________________________\n"
          ],
          "name": "stdout"
        }
      ]
    },
    {
      "cell_type": "code",
      "metadata": {
        "id": "ONnYKwDMQSVV",
        "colab_type": "code",
        "colab": {
          "base_uri": "https://localhost:8080/",
          "height": 241
        },
        "outputId": "7796050f-d6f7-411c-f830-bc8220042dd6"
      },
      "source": [
        "# 処理前の時刻\n",
        "t1 = time.time()\n",
        "\n",
        "# 学習\n",
        "model.fit(x_train, y_train,  \n",
        "            batch_size=batch_size,\n",
        "            epochs=EPOCH,   \n",
        "            verbose=1,         \n",
        "            validation_data=(x_test, y_test))\n",
        "\n",
        "score, acc = model.evaluate(x_test, y_test, batch_size=batch_size)\n",
        "\n",
        "print('Test score:', score)\n",
        "print('Test accuracy:', acc)\n",
        "\n",
        "# 処理後の時刻\n",
        "t2 = time.time()\n",
        "\n",
        "# 経過時間を表示\n",
        "elapsed_time = t2 - t1\n",
        "print(f\"経過時間：{elapsed_time}\")\n",
        "print(\"\")\n",
        "\n",
        "# 結果を格納\n",
        "results[\"conv2lstm_mnist\"] = {\"time\":round(elapsed_time, 2), \"score\" : round(score,2), \"accuracy\" : round(acc,2)}\n",
        "\n",
        "# 処理終了時にセッションクローズ\n",
        "backend.clear_session()"
      ],
      "execution_count": 19,
      "outputs": [
        {
          "output_type": "stream",
          "text": [
            "Train on 60000 samples, validate on 10000 samples\n",
            "Epoch 1/3\n",
            "60000/60000 [==============================] - 31s 511us/step - loss: 0.2087 - acc: 0.9401 - val_loss: 0.1234 - val_acc: 0.9603\n",
            "Epoch 2/3\n",
            "60000/60000 [==============================] - 31s 510us/step - loss: 0.0768 - acc: 0.9770 - val_loss: 0.0676 - val_acc: 0.9799\n",
            "Epoch 3/3\n",
            "60000/60000 [==============================] - 31s 512us/step - loss: 0.0508 - acc: 0.9850 - val_loss: 0.0876 - val_acc: 0.9786\n",
            "10000/10000 [==============================] - 1s 149us/step\n",
            "Test score: 0.08756815353274433\n",
            "Test accuracy: 0.9786\n",
            "経過時間：93.4403464794159\n",
            "\n"
          ],
          "name": "stdout"
        }
      ]
    },
    {
      "cell_type": "code",
      "metadata": {
        "id": "XjtjnjP7JLWS",
        "colab_type": "code",
        "colab": {
          "base_uri": "https://localhost:8080/",
          "height": 204
        },
        "outputId": "b5b7706f-dcdd-4721-f456-77a9e33cc00b"
      },
      "source": [
        "results"
      ],
      "execution_count": 20,
      "outputs": [
        {
          "output_type": "execute_result",
          "data": {
            "text/plain": [
              "{'CuDNNGRU': {'accuracy': 0.83, 'score': 0.46, 'time': 33.35},\n",
              " 'CuDNNLSTM': {'accuracy': 0.82, 'score': 0.45, 'time': 29.63},\n",
              " 'GRU': {'accuracy': 0.83, 'score': 0.45, 'time': 251.05},\n",
              " 'GRUCell': {'accuracy': 0.83, 'score': 0.45, 'time': 257.76},\n",
              " 'LSTM': {'accuracy': 0.83, 'score': 0.49, 'time': 309.1},\n",
              " 'LSTMCell': {'accuracy': 0.83, 'score': 0.47, 'time': 315.46},\n",
              " 'MixedCell': {'accuracy': 0.81, 'score': 0.42, 'time': 563.25},\n",
              " 'SimpleRNN': {'accuracy': 0.75, 'score': 0.53, 'time': 87.95},\n",
              " 'SimpleRNNCell': {'accuracy': 0.65, 'score': 0.62, 'time': 86.3},\n",
              " 'conv2lstm_imdb': {'accuracy': 0.52, 'score': 0.71, 'time': 579.55},\n",
              " 'conv2lstm_mnist': {'accuracy': 0.98, 'score': 0.09, 'time': 93.44}}"
            ]
          },
          "metadata": {
            "tags": []
          },
          "execution_count": 20
        }
      ]
    },
    {
      "cell_type": "markdown",
      "metadata": {
        "id": "SXf8HbVVm_Cz",
        "colab_type": "text"
      },
      "source": [
        "## 【問題2】比較結果の説明\n",
        "\n",
        "11の項目それぞれがどういうものなのかを説明すること。（また、比較した結果を表やグラフで載せること）\n",
        "\n",
        "今回は「RNNはそれほど詳しくないがタスクで必要になったためKerasのドキュメントを見た」と仮定する。\n",
        "\n",
        "- RNN\n",
        "- SimpleRNN\n",
        "- GRU\n",
        "- LSTM\n",
        "- ConvLSTM2D\n",
        "- SimpleRNNCell\n",
        "- GRUCell\n",
        "- LSTMCell\n",
        "- StackedRNNCells\n",
        "- CuDNNGRU\n",
        "- CuDNNLSTM"
      ]
    },
    {
      "cell_type": "markdown",
      "metadata": {
        "id": "JZDjBBU1VzUv",
        "colab_type": "text"
      },
      "source": [
        "### 結果の可視化"
      ]
    },
    {
      "cell_type": "code",
      "metadata": {
        "id": "SeBaevN5V0ZW",
        "colab_type": "code",
        "colab": {
          "base_uri": "https://localhost:8080/",
          "height": 390
        },
        "outputId": "dee1ac96-7f93-4ef0-ac78-a0cdafd86297"
      },
      "source": [
        "df = pd.DataFrame(results).T\n",
        "df"
      ],
      "execution_count": 21,
      "outputs": [
        {
          "output_type": "execute_result",
          "data": {
            "text/html": [
              "<div>\n",
              "<style scoped>\n",
              "    .dataframe tbody tr th:only-of-type {\n",
              "        vertical-align: middle;\n",
              "    }\n",
              "\n",
              "    .dataframe tbody tr th {\n",
              "        vertical-align: top;\n",
              "    }\n",
              "\n",
              "    .dataframe thead th {\n",
              "        text-align: right;\n",
              "    }\n",
              "</style>\n",
              "<table border=\"1\" class=\"dataframe\">\n",
              "  <thead>\n",
              "    <tr style=\"text-align: right;\">\n",
              "      <th></th>\n",
              "      <th>accuracy</th>\n",
              "      <th>score</th>\n",
              "      <th>time</th>\n",
              "    </tr>\n",
              "  </thead>\n",
              "  <tbody>\n",
              "    <tr>\n",
              "      <th>SimpleRNN</th>\n",
              "      <td>0.75</td>\n",
              "      <td>0.53</td>\n",
              "      <td>87.95</td>\n",
              "    </tr>\n",
              "    <tr>\n",
              "      <th>GRU</th>\n",
              "      <td>0.83</td>\n",
              "      <td>0.45</td>\n",
              "      <td>251.05</td>\n",
              "    </tr>\n",
              "    <tr>\n",
              "      <th>LSTM</th>\n",
              "      <td>0.83</td>\n",
              "      <td>0.49</td>\n",
              "      <td>309.10</td>\n",
              "    </tr>\n",
              "    <tr>\n",
              "      <th>CuDNNGRU</th>\n",
              "      <td>0.83</td>\n",
              "      <td>0.46</td>\n",
              "      <td>33.35</td>\n",
              "    </tr>\n",
              "    <tr>\n",
              "      <th>CuDNNLSTM</th>\n",
              "      <td>0.82</td>\n",
              "      <td>0.45</td>\n",
              "      <td>29.63</td>\n",
              "    </tr>\n",
              "    <tr>\n",
              "      <th>SimpleRNNCell</th>\n",
              "      <td>0.65</td>\n",
              "      <td>0.62</td>\n",
              "      <td>86.30</td>\n",
              "    </tr>\n",
              "    <tr>\n",
              "      <th>GRUCell</th>\n",
              "      <td>0.83</td>\n",
              "      <td>0.45</td>\n",
              "      <td>257.76</td>\n",
              "    </tr>\n",
              "    <tr>\n",
              "      <th>LSTMCell</th>\n",
              "      <td>0.83</td>\n",
              "      <td>0.47</td>\n",
              "      <td>315.46</td>\n",
              "    </tr>\n",
              "    <tr>\n",
              "      <th>MixedCell</th>\n",
              "      <td>0.81</td>\n",
              "      <td>0.42</td>\n",
              "      <td>563.25</td>\n",
              "    </tr>\n",
              "    <tr>\n",
              "      <th>conv2lstm_imdb</th>\n",
              "      <td>0.52</td>\n",
              "      <td>0.71</td>\n",
              "      <td>579.55</td>\n",
              "    </tr>\n",
              "    <tr>\n",
              "      <th>conv2lstm_mnist</th>\n",
              "      <td>0.98</td>\n",
              "      <td>0.09</td>\n",
              "      <td>93.44</td>\n",
              "    </tr>\n",
              "  </tbody>\n",
              "</table>\n",
              "</div>"
            ],
            "text/plain": [
              "                 accuracy  score    time\n",
              "SimpleRNN            0.75   0.53   87.95\n",
              "GRU                  0.83   0.45  251.05\n",
              "LSTM                 0.83   0.49  309.10\n",
              "CuDNNGRU             0.83   0.46   33.35\n",
              "CuDNNLSTM            0.82   0.45   29.63\n",
              "SimpleRNNCell        0.65   0.62   86.30\n",
              "GRUCell              0.83   0.45  257.76\n",
              "LSTMCell             0.83   0.47  315.46\n",
              "MixedCell            0.81   0.42  563.25\n",
              "conv2lstm_imdb       0.52   0.71  579.55\n",
              "conv2lstm_mnist      0.98   0.09   93.44"
            ]
          },
          "metadata": {
            "tags": []
          },
          "execution_count": 21
        }
      ]
    },
    {
      "cell_type": "code",
      "metadata": {
        "id": "nB2sySawBVfE",
        "colab_type": "code",
        "colab": {}
      },
      "source": [
        "# 値を抽出\n",
        "acc = df[\"accuracy\"].values[0]\n",
        "elapsed_time = df[\"time\"].values[0]\n",
        "score = df[\"score\"].values[0]\n",
        "model_name = df.index"
      ],
      "execution_count": 0,
      "outputs": []
    },
    {
      "cell_type": "code",
      "metadata": {
        "id": "jwnJQcpcY2v7",
        "colab_type": "code",
        "colab": {
          "base_uri": "https://localhost:8080/",
          "height": 356
        },
        "outputId": "b0fdc43d-7530-4a41-e4c7-c57c9fdde39f"
      },
      "source": [
        "df.plot(kind=\"bar\", y=\"accuracy\")\n",
        "plt.title(\"1. Comparison of validation accuracy among multiple models.\", color=\"b\")\n",
        "plt.show()"
      ],
      "execution_count": 89,
      "outputs": [
        {
          "output_type": "display_data",
          "data": {
            "image/png": "[encoded data removed]",
            "text/plain": [
              "<Figure size 432x288 with 1 Axes>"
            ]
          },
          "metadata": {
            "tags": []
          }
        }
      ]
    },
    {
      "cell_type": "markdown",
      "metadata": {
        "id": "78aLivSu6c3t",
        "colab_type": "text"
      },
      "source": [
        "#### 考察\n",
        "\n",
        "- conv2lstm以外：SimRNNが若干精度で見劣りするものの、他のモデルは予測精度が概ね0.8前後で均衡している。\n",
        "\n",
        "- conv2lstm：インプットデータにimdbとmnistを使用した場合で、accuracyに乖離が見られる。\n",
        "  - imdbは試しにモデルに無理矢理インプットしたのみで、embedding等の前処理を行っていないため精度が出ていないと思われる。\n",
        "  - 一方、mnistについては、正規化を含む前処理を実行したことも高精度の一因と思われる。"
      ]
    },
    {
      "cell_type": "code",
      "metadata": {
        "id": "LkkUo32dY2pN",
        "colab_type": "code",
        "colab": {
          "base_uri": "https://localhost:8080/",
          "height": 356
        },
        "outputId": "062d59c7-15d7-4a05-9583-b5e919e9f7b2"
      },
      "source": [
        "df.plot(kind=\"bar\", y=\"score\")\n",
        "plt.title(\"2. Comparison of validation score among multiple models.\", color=\"b\")\n",
        "plt.show()"
      ],
      "execution_count": 90,
      "outputs": [
        {
          "output_type": "display_data",
          "data": {
            "image/png": "[encoded data removed]",
            "text/plain": [
              "<Figure size 432x288 with 1 Axes>"
            ]
          },
          "metadata": {
            "tags": []
          }
        }
      ]
    },
    {
      "cell_type": "markdown",
      "metadata": {
        "id": "UGH3gqDp8wGx",
        "colab_type": "text"
      },
      "source": [
        "#### 考察\n",
        "\n",
        "- conv2lstm以外：SimRNNが若干見劣りするものの、他のモデルはvalidation_score（損失）が概ね0.4〜0.5で均衡している。\n",
        "\n",
        "- conv2lstm：\n",
        "  - imdbを用いた場合は、validation_scoreが0.7と高止まりしている。\n",
        "  - mnistを用いた場合は、validation_scoreが下がっており、学習が進んでいる。"
      ]
    },
    {
      "cell_type": "code",
      "metadata": {
        "id": "DHiUhEGVBUhw",
        "colab_type": "code",
        "colab": {
          "base_uri": "https://localhost:8080/",
          "height": 373
        },
        "outputId": "c87016f5-c055-4a9d-c999-129ee17aee40"
      },
      "source": [
        "df.plot(kind=\"bar\", y=\"time\")\n",
        "plt.title(\"3. Comparison of time spent on learning among multiple models.\", color=\"b\")"
      ],
      "execution_count": 25,
      "outputs": [
        {
          "output_type": "execute_result",
          "data": {
            "text/plain": [
              "Text(0.5, 1.0, '3. Comparison of time spent on learning among multiple models.')"
            ]
          },
          "metadata": {
            "tags": []
          },
          "execution_count": 25
        },
        {
          "output_type": "display_data",
          "data": {
            "image/png": "[encoded data removed]",
            "text/plain": [
              "<Figure size 432x288 with 1 Axes>"
            ]
          },
          "metadata": {
            "tags": []
          }
        }
      ]
    },
    {
      "cell_type": "markdown",
      "metadata": {
        "id": "bmiLdrbb9TR2",
        "colab_type": "text"
      },
      "source": [
        "#### 考察\n",
        "\n",
        "- conv2lstm以外：\n",
        "  - CuDNN系（CuDNNGRU、CuDNNLSTM）の学習所要時間が最も少ない。\n",
        "  - Cell系の横比較では、SimpleRNNCellが最もMixedcellのみ3つのcellを組み合わせており、その分所要時間がかかっている。\n",
        "\n",
        "- conv2lstm：\n",
        "  - （単純な横比較はできないが）MNISTを用いた際は、SimpleRNN並の速度で学習が行われている。\n",
        "  - （同様に単純な横比較はできないが）同じLSTM系でも、LSTMやLSTMCellよりconv2LSTMのほうが早い。"
      ]
    },
    {
      "cell_type": "markdown",
      "metadata": {
        "id": "7Tj4XTcBl0t6",
        "colab_type": "text"
      },
      "source": [
        "### 1. RNN\n",
        "\n",
        "- Recurrentレイヤーに対する基底クラス。\n",
        "\n",
        "- 引数にcellクラスを渡すことで、任意のRNNを生成することができる。"
      ]
    },
    {
      "cell_type": "markdown",
      "metadata": {
        "id": "iObKhrD9l0KR",
        "colab_type": "text"
      },
      "source": [
        "### 2. SimpleRNN\n",
        "\n",
        "- 出力が入力にフィードバックされる全結合RNN．\n",
        "\n",
        "  - つまり、SimpleRNNCellで構成されたRNNクラスであり、SimpleRNNCelは各シーケンス($t$)において外部の入力($x$)に、前時刻の状態($h_{t-1}$)、及びバイアス($b$)を加算した値を入力として状態($h_t$)を算出する。\n",
        "  - 算出された状態$h_t$は、外部に出力されると共に、次時刻$t+1$の状態を算出する際の入力として用いられる。"
      ]
    },
    {
      "cell_type": "markdown",
      "metadata": {
        "id": "kqyPIXpdl9GK",
        "colab_type": "text"
      },
      "source": [
        "### 3. GRU\n",
        "\n",
        "- ゲートのあるリカレントユニット\n",
        "  - ゲートとは入出力の調整弁を意味する。\n",
        "  - 具体的には入力値をシグモイド関数等で評価した「入力に対する重み」を表し、入力値と重みのアダマール積が計算される。\n",
        "  - 重みは入力値に比例することから、大きな入力値のみを入力として扱われる（＝値の小さな入力は重要性が低いと判断して捨象する）。\n"
      ]
    },
    {
      "cell_type": "markdown",
      "metadata": {
        "id": "xJlN4M7ll8ya",
        "colab_type": "text"
      },
      "source": [
        "### 4. LSTM\n",
        "\n",
        "- LSTMCellsで構成される、長短期記憶ユニットを有するRNN。\n",
        "  - 長短期記憶（Long short term memory）とは、シーケンス$t$で算出された状態($h_t$：短期記憶）を最後のシーケンス($T$)まで保持する\n",
        "  （＝短期記憶の長期保時）ことを意味する。\n",
        "  - 具体的に、長短期記憶とは、シーケンス$t$までの状態($h_t$)の累積和$C_t（t=1,...T）$である。\n",
        "  - これにより、RNNの課題である勾配爆発、消失問題が解消される\n",
        "  - 尚、LSTMは以下3種類のゲートを有する。\n",
        "    1. Input Gate：（Affine変換後の）入力に対する重み\n",
        "    3. Output Gate：出力に対する重み\n",
        "    2. Forget Gate（LSTMの場合）：長短期記憶\n",
        "    "
      ]
    },
    {
      "cell_type": "markdown",
      "metadata": {
        "id": "Qg_OrOGhl8fo",
        "colab_type": "text"
      },
      "source": [
        "### 5. ConvLSTM2D\n",
        "\n",
        "- 畳み込みLSTM．\n",
        "\n",
        "- LSTMレイヤーに似ているが，入力の変換とリカレントな変換が畳み込み．"
      ]
    },
    {
      "cell_type": "markdown",
      "metadata": {
        "id": "JdVD_cHol8Nd",
        "colab_type": "text"
      },
      "source": [
        "### 6. SimpleRNNCell\n",
        "\n",
        "- SimpleRNNのCellクラス．\n",
        "  - RNNクラスの引数に用いる。"
      ]
    },
    {
      "cell_type": "markdown",
      "metadata": {
        "id": "-idCMUd6l78h",
        "colab_type": "text"
      },
      "source": [
        "### 7. GRUCell\n",
        "\n",
        "- GRUレイヤーのためのCellクラス．\n",
        "  - - RNNクラスの引数に用いる。"
      ]
    },
    {
      "cell_type": "markdown",
      "metadata": {
        "id": "MFJYDCN_l7sm",
        "colab_type": "text"
      },
      "source": [
        "### 8. LSTMCell\n",
        "\n",
        "- LSTMレイヤーのためのcellクラス．\n",
        "  - RNNクラスの引数に用いる。\n",
        "  - LSTMセルを有しており、シーケンス$t$における状態を累積、保持する。\n",
        "  "
      ]
    },
    {
      "cell_type": "markdown",
      "metadata": {
        "id": "sv1feiesl7d8",
        "colab_type": "text"
      },
      "source": [
        "### 9. StackedRNNCells\n",
        "\n",
        "- RNN cellのスタックの振る舞いを単一のcellのようにするためのラッパー．\n",
        "\n",
        "- 効率的なstacked RNNを実装するために使われる．"
      ]
    },
    {
      "cell_type": "markdown",
      "metadata": {
        "id": "XpwvSJXjl7Pb",
        "colab_type": "text"
      },
      "source": [
        "### 10. CuDNNGRU\n",
        "\n",
        "- GRUと同様のアーキテクチャを持つRNN。\n",
        "- NVIDIAが開発したプログラミング言語（CuDNN）を利用しており、高速に処理できる。 \n",
        "- TensorFlowバックエンドでGPU上でのみ動作する．"
      ]
    },
    {
      "cell_type": "markdown",
      "metadata": {
        "id": "fWHTtah-l7Aa",
        "colab_type": "text"
      },
      "source": [
        "### 11. CuDNNLSTM\n",
        "\n",
        "- LSTMと同様のアーキテクチャを持つRNN。\n",
        "- NVIDIAが開発したプログラミング言語（CuDNN）を利用しており、高速に処理できる。\n",
        "- TensorFlowバックエンドでGPU上でのみ動作する．"
      ]
    },
    {
      "cell_type": "markdown",
      "metadata": {
        "id": "xhILu9vrm_C1",
        "colab_type": "text"
      },
      "source": [
        "\n",
        "## 【問題3】（アドバンス課題）複数のデータセット間での比較\n",
        "\n",
        "単一のデータセットでの実験に留めず、他のデータセットでも実験する。\n",
        "\n",
        "- [データセット - Keras Documentation](https://keras.io/ja/datasets/#_5)\n",
        "\n",
        "- Kerasで簡単に利用できる自然言語データセットとしてロイターのニュースワイヤートピックス分類がある。（IMDBは2値分類であったが、こちらは46値分類の問題）"
      ]
    },
    {
      "cell_type": "code",
      "metadata": {
        "id": "ldyRl4Bvm_C2",
        "colab_type": "code",
        "colab": {
          "base_uri": "https://localhost:8080/",
          "height": 51
        },
        "outputId": "0e6571b1-8dac-42e9-dd0d-dd04126b009a"
      },
      "source": [
        "from keras.datasets import reuters\n",
        "\n",
        "(x_train, y_train), (x_test, y_test) = reuters.load_data(path=\"reuters.npz\",\n",
        "                                                         num_words=None,\n",
        "                                                         skip_top=0,\n",
        "                                                         maxlen=maxlen,\n",
        "                                                         test_split=0.2,\n",
        "                                                         seed=113,\n",
        "                                                         start_char=1,\n",
        "                                                         oov_char=2,\n",
        "                                                         index_from=3)"
      ],
      "execution_count": 26,
      "outputs": [
        {
          "output_type": "stream",
          "text": [
            "Downloading data from https://s3.amazonaws.com/text-datasets/reuters.npz\n",
            "2113536/2110848 [==============================] - 0s 0us/step\n"
          ],
          "name": "stdout"
        }
      ]
    },
    {
      "cell_type": "code",
      "metadata": {
        "id": "IZ5Aufahb6vM",
        "colab_type": "code",
        "colab": {
          "base_uri": "https://localhost:8080/",
          "height": 153
        },
        "outputId": "cc3433e7-3b6e-4dfb-d0cf-3d7f4b6ac635"
      },
      "source": [
        "np.unique(y_train, return_counts=True)"
      ],
      "execution_count": 27,
      "outputs": [
        {
          "output_type": "execute_result",
          "data": {
            "text/plain": [
              "(array([ 0,  1,  2,  3,  4,  5,  6,  7,  8,  9, 10, 11, 12, 13, 14, 15, 16,\n",
              "        17, 18, 19, 20, 21, 22, 23, 24, 25, 26, 27, 28, 30, 31, 32, 33, 34,\n",
              "        35, 36, 37, 38, 39, 40, 41, 42, 43, 44, 45]),\n",
              " array([  11,   84,   15, 2020,  730,    4,   14,    2,   33,   20,   25,\n",
              "          24,    6,   22,    7,    1,   60,    6,   17,  130,   73,    8,\n",
              "           1,    5,   25,   12,    1,    3,    4,    7,    6,    5,    6,\n",
              "          20,    3,   12,    5,    6,   10,    6,    3,    2,    6,    7,\n",
              "           5]))"
            ]
          },
          "metadata": {
            "tags": []
          },
          "execution_count": 27
        }
      ]
    },
    {
      "cell_type": "markdown",
      "metadata": {
        "id": "Nh_pJGbexqZO",
        "colab_type": "text"
      },
      "source": [
        "- 学習用データの分布に偏りがあり、正解ラベル3, 4が太宗を占める。\n",
        "- 結果、モデルが一部の正解値に対して過剰適合する可能性あり。\n"
      ]
    },
    {
      "cell_type": "code",
      "metadata": {
        "id": "JgH8KtXzfUim",
        "colab_type": "code",
        "colab": {
          "base_uri": "https://localhost:8080/",
          "height": 136
        },
        "outputId": "924d1df8-7155-444b-8729-47e654cd91d5"
      },
      "source": [
        "np.unique(y_test, return_counts=True)"
      ],
      "execution_count": 28,
      "outputs": [
        {
          "output_type": "execute_result",
          "data": {
            "text/plain": [
              "(array([ 0,  1,  2,  3,  4,  5,  6,  7,  8,  9, 10, 11, 12, 13, 16, 17, 18,\n",
              "        19, 20, 21, 22, 23, 24, 25, 26, 28, 29, 30, 31, 32, 33, 34, 35, 36,\n",
              "        38, 39, 40, 41, 43, 44]),\n",
              " array([  4,  21,   6, 521, 160,   1,   3,   1,  12,   1,   8,   5,   6,\n",
              "          5,  15,   2,   7,  20,  18,   3,   2,   3,   6,   3,   1,   1,\n",
              "          1,   5,   4,   1,   4,   1,   1,   1,   2,   1,   4,   2,   2,\n",
              "          4]))"
            ]
          },
          "metadata": {
            "tags": []
          },
          "execution_count": 28
        }
      ]
    },
    {
      "cell_type": "code",
      "metadata": {
        "id": "uGkh5uUzbvX_",
        "colab_type": "code",
        "colab": {
          "base_uri": "https://localhost:8080/",
          "height": 34
        },
        "outputId": "bf87f693-c791-4967-b1f2-6f0912e0ca35"
      },
      "source": [
        "x_train.shape, y_train.shape, x_test.shape, y_test.shape"
      ],
      "execution_count": 29,
      "outputs": [
        {
          "output_type": "execute_result",
          "data": {
            "text/plain": [
              "((3472,), (3472,), (868,), (868,))"
            ]
          },
          "metadata": {
            "tags": []
          },
          "execution_count": 29
        }
      ]
    },
    {
      "cell_type": "code",
      "metadata": {
        "id": "IOhJVNSzh6rZ",
        "colab_type": "code",
        "colab": {}
      },
      "source": [
        "# sequenceを追加\n",
        "x_train = sequence.pad_sequences(x_train, maxlen=maxlen)\n",
        "x_test = sequence.pad_sequences(x_test, maxlen=maxlen)"
      ],
      "execution_count": 0,
      "outputs": []
    },
    {
      "cell_type": "code",
      "metadata": {
        "id": "QYWI8GtAcKf-",
        "colab_type": "code",
        "colab": {}
      },
      "source": [
        "y_train = y_train[:, np.newaxis]\n",
        "y_test = y_test[:, np.newaxis]"
      ],
      "execution_count": 0,
      "outputs": []
    },
    {
      "cell_type": "code",
      "metadata": {
        "id": "vPJ8yV9TccYb",
        "colab_type": "code",
        "colab": {
          "base_uri": "https://localhost:8080/",
          "height": 34
        },
        "outputId": "a2be0444-517e-4d1c-de83-777e1a1ebe5f"
      },
      "source": [
        "x_train.shape, y_train.shape, x_test.shape, y_test.shape"
      ],
      "execution_count": 32,
      "outputs": [
        {
          "output_type": "execute_result",
          "data": {
            "text/plain": [
              "((3472, 80), (3472, 1), (868, 80), (868, 1))"
            ]
          },
          "metadata": {
            "tags": []
          },
          "execution_count": 32
        }
      ]
    },
    {
      "cell_type": "code",
      "metadata": {
        "id": "BN6SBzL0abab",
        "colab_type": "code",
        "colab": {
          "base_uri": "https://localhost:8080/",
          "height": 1000
        },
        "outputId": "0f0027b9-0f58-4b5a-af20-d62d45197ce0"
      },
      "source": [
        "reuters_results = {}\n",
        "num_class = 46\n",
        "max_features = 30000\n",
        "\n",
        "# 処理前の時刻\n",
        "t1 = time.time()\n",
        "\n",
        "# 学習・予測\n",
        "print('Build {} ...'.format(\"CuDNNLSTM\"))\n",
        "model = Sequential()\n",
        "model.add(Embedding(max_features, 128, input_length=maxlen))\n",
        "model.add(BatchNormalization())\n",
        "model.add(CuDNNLSTM(UNITS))\n",
        "model.add(Dropout(0.5))\n",
        "model.add(Dense(num_class, activation='softmax'))\n",
        "\n",
        "# try using different optimizers and different optimizer configs\n",
        "model.compile(loss='sparse_categorical_crossentropy',\n",
        "              optimizer='adam',\n",
        "              metrics=['accuracy'])\n",
        "\n",
        "model.summary()\n",
        "\n",
        "print('Train...')\n",
        "\n",
        "history = model.fit(x_train, y_train, batch_size=batch_size,\n",
        "                                  epochs=100, validation_data=(x_test, y_test))\n",
        "\n",
        "score, acc = model.evaluate(x_test, y_test, batch_size=batch_size)\n",
        "\n",
        "y_pred = model.predict_classes(x_test, batch_size=10)\n",
        "\n",
        "print('Test score:', score)\n",
        "print('Test accuracy:', acc)\n",
        "\n",
        "# 処理後の時刻\n",
        "t2 = time.time()\n",
        "\n",
        "# 経過時間を表示\n",
        "elapsed_time = t2 - t1\n",
        "print(f\"経過時間：{elapsed_time}\")\n",
        "print(\"\")\n",
        "\n",
        "# 結果を格納\n",
        "reuters_results[name] = {\"time\":round(elapsed_time, 2), \"score\" : round(score,2), \"accuracy\" : round(acc,2)}\n",
        "\n",
        "# セッション終了\n",
        "backend.clear_session()\n",
        "print(f\"経過時間：{elapsed_time}\")\n",
        "print(\"\")"
      ],
      "execution_count": 83,
      "outputs": [
        {
          "output_type": "stream",
          "text": [
            "Build CuDNNLSTM ...\n",
            "_________________________________________________________________\n",
            "Layer (type)                 Output Shape              Param #   \n",
            "=================================================================\n",
            "embedding_3 (Embedding)      (None, 80, 128)           3840000   \n",
            "_________________________________________________________________\n",
            "batch_normalization_1 (Batch (None, 80, 128)           512       \n",
            "_________________________________________________________________\n",
            "cu_dnnlstm_1 (CuDNNLSTM)     (None, 128)               132096    \n",
            "_________________________________________________________________\n",
            "dropout_1 (Dropout)          (None, 128)               0         \n",
            "_________________________________________________________________\n",
            "dense_1 (Dense)              (None, 46)                5934      \n",
            "=================================================================\n",
            "Total params: 3,978,542\n",
            "Trainable params: 3,978,286\n",
            "Non-trainable params: 256\n",
            "_________________________________________________________________\n",
            "Train...\n",
            "Train on 3472 samples, validate on 868 samples\n",
            "Epoch 1/100\n",
            "3472/3472 [==============================] - 2s 642us/step - loss: 1.3657 - acc: 0.7128 - val_loss: 0.9788 - val_acc: 0.7938\n",
            "Epoch 2/100\n",
            "3472/3472 [==============================] - 1s 356us/step - loss: 0.7858 - acc: 0.8306 - val_loss: 0.8927 - val_acc: 0.8157\n",
            "Epoch 3/100\n",
            "3472/3472 [==============================] - 1s 358us/step - loss: 0.5404 - acc: 0.8796 - val_loss: 0.8268 - val_acc: 0.8399\n",
            "Epoch 4/100\n",
            "3472/3472 [==============================] - 1s 348us/step - loss: 0.3884 - acc: 0.9185 - val_loss: 0.7881 - val_acc: 0.8422\n",
            "Epoch 5/100\n",
            "3472/3472 [==============================] - 1s 340us/step - loss: 0.2670 - acc: 0.9410 - val_loss: 0.8282 - val_acc: 0.8306\n",
            "Epoch 6/100\n",
            "3472/3472 [==============================] - 1s 351us/step - loss: 0.2001 - acc: 0.9505 - val_loss: 0.8541 - val_acc: 0.8341\n",
            "Epoch 7/100\n",
            "3472/3472 [==============================] - 1s 347us/step - loss: 0.1684 - acc: 0.9568 - val_loss: 0.8591 - val_acc: 0.8468\n",
            "Epoch 8/100\n",
            "3472/3472 [==============================] - 1s 361us/step - loss: 0.1343 - acc: 0.9608 - val_loss: 0.8785 - val_acc: 0.8399\n",
            "Epoch 9/100\n",
            "3472/3472 [==============================] - 1s 349us/step - loss: 0.1171 - acc: 0.9617 - val_loss: 0.8999 - val_acc: 0.8353\n",
            "Epoch 10/100\n",
            "3472/3472 [==============================] - 1s 350us/step - loss: 0.1117 - acc: 0.9626 - val_loss: 0.8984 - val_acc: 0.8456\n",
            "Epoch 11/100\n",
            "3472/3472 [==============================] - 1s 347us/step - loss: 0.0967 - acc: 0.9649 - val_loss: 0.9108 - val_acc: 0.8468\n",
            "Epoch 12/100\n",
            "3472/3472 [==============================] - 1s 352us/step - loss: 0.0898 - acc: 0.9698 - val_loss: 0.9500 - val_acc: 0.8456\n",
            "Epoch 13/100\n",
            "3472/3472 [==============================] - 1s 344us/step - loss: 0.0895 - acc: 0.9651 - val_loss: 0.9192 - val_acc: 0.8422\n",
            "Epoch 14/100\n",
            "3472/3472 [==============================] - 1s 349us/step - loss: 0.0937 - acc: 0.9623 - val_loss: 0.9413 - val_acc: 0.8514\n",
            "Epoch 15/100\n",
            "3472/3472 [==============================] - 1s 348us/step - loss: 0.0877 - acc: 0.9663 - val_loss: 0.9417 - val_acc: 0.8364\n",
            "Epoch 16/100\n",
            "3472/3472 [==============================] - 1s 347us/step - loss: 0.0893 - acc: 0.9640 - val_loss: 0.9711 - val_acc: 0.8456\n",
            "Epoch 17/100\n",
            "3472/3472 [==============================] - 1s 349us/step - loss: 0.0838 - acc: 0.9643 - val_loss: 0.9725 - val_acc: 0.8468\n",
            "Epoch 18/100\n",
            "3472/3472 [==============================] - 1s 354us/step - loss: 0.0859 - acc: 0.9660 - val_loss: 0.9875 - val_acc: 0.8364\n",
            "Epoch 19/100\n",
            "3472/3472 [==============================] - 1s 355us/step - loss: 0.0833 - acc: 0.9689 - val_loss: 0.9912 - val_acc: 0.8433\n",
            "Epoch 20/100\n",
            "3472/3472 [==============================] - 1s 351us/step - loss: 0.0812 - acc: 0.9660 - val_loss: 0.9849 - val_acc: 0.8445\n",
            "Epoch 21/100\n",
            "3472/3472 [==============================] - 1s 351us/step - loss: 0.0837 - acc: 0.9646 - val_loss: 0.9777 - val_acc: 0.8445\n",
            "Epoch 22/100\n",
            "3472/3472 [==============================] - 1s 358us/step - loss: 0.0824 - acc: 0.9643 - val_loss: 0.9882 - val_acc: 0.8387\n",
            "Epoch 23/100\n",
            "3472/3472 [==============================] - 1s 360us/step - loss: 0.0815 - acc: 0.9695 - val_loss: 0.9914 - val_acc: 0.8456\n",
            "Epoch 24/100\n",
            "3472/3472 [==============================] - 1s 351us/step - loss: 0.0801 - acc: 0.9654 - val_loss: 1.0060 - val_acc: 0.8410\n",
            "Epoch 25/100\n",
            "3472/3472 [==============================] - 1s 359us/step - loss: 0.0765 - acc: 0.9660 - val_loss: 1.0083 - val_acc: 0.8387\n",
            "Epoch 26/100\n",
            "3472/3472 [==============================] - 1s 355us/step - loss: 0.0761 - acc: 0.9651 - val_loss: 1.0186 - val_acc: 0.8456\n",
            "Epoch 27/100\n",
            "3472/3472 [==============================] - 1s 354us/step - loss: 0.0746 - acc: 0.9666 - val_loss: 1.0081 - val_acc: 0.8410\n",
            "Epoch 28/100\n",
            "3472/3472 [==============================] - 1s 349us/step - loss: 0.0836 - acc: 0.9608 - val_loss: 1.0092 - val_acc: 0.8341\n",
            "Epoch 29/100\n",
            "3472/3472 [==============================] - 1s 351us/step - loss: 0.0832 - acc: 0.9683 - val_loss: 1.0293 - val_acc: 0.8376\n",
            "Epoch 30/100\n",
            "3472/3472 [==============================] - 1s 355us/step - loss: 0.0827 - acc: 0.9640 - val_loss: 1.0182 - val_acc: 0.8364\n",
            "Epoch 31/100\n",
            "3472/3472 [==============================] - 1s 356us/step - loss: 0.0792 - acc: 0.9675 - val_loss: 1.0373 - val_acc: 0.8399\n",
            "Epoch 32/100\n",
            "3472/3472 [==============================] - 1s 350us/step - loss: 0.0722 - acc: 0.9675 - val_loss: 1.0066 - val_acc: 0.8445\n",
            "Epoch 33/100\n",
            "3472/3472 [==============================] - 1s 355us/step - loss: 0.0823 - acc: 0.9651 - val_loss: 1.0199 - val_acc: 0.8445\n",
            "Epoch 34/100\n",
            "3472/3472 [==============================] - 1s 347us/step - loss: 0.0729 - acc: 0.9663 - val_loss: 1.0308 - val_acc: 0.8410\n",
            "Epoch 35/100\n",
            "3472/3472 [==============================] - 1s 348us/step - loss: 0.0721 - acc: 0.9692 - val_loss: 1.0183 - val_acc: 0.8399\n",
            "Epoch 36/100\n",
            "3472/3472 [==============================] - 1s 345us/step - loss: 0.0821 - acc: 0.9623 - val_loss: 1.0385 - val_acc: 0.8479\n",
            "Epoch 37/100\n",
            "3472/3472 [==============================] - 1s 351us/step - loss: 0.0742 - acc: 0.9672 - val_loss: 1.0406 - val_acc: 0.8410\n",
            "Epoch 38/100\n",
            "3472/3472 [==============================] - 1s 350us/step - loss: 0.0770 - acc: 0.9657 - val_loss: 1.0387 - val_acc: 0.8433\n",
            "Epoch 39/100\n",
            "3472/3472 [==============================] - 1s 348us/step - loss: 0.0752 - acc: 0.9657 - val_loss: 1.0372 - val_acc: 0.8491\n",
            "Epoch 40/100\n",
            "3472/3472 [==============================] - 1s 346us/step - loss: 0.0720 - acc: 0.9649 - val_loss: 1.0433 - val_acc: 0.8445\n",
            "Epoch 41/100\n",
            "3472/3472 [==============================] - 1s 350us/step - loss: 0.0707 - acc: 0.9657 - val_loss: 1.0409 - val_acc: 0.8525\n",
            "Epoch 42/100\n",
            "3472/3472 [==============================] - 1s 355us/step - loss: 0.0776 - acc: 0.9654 - val_loss: 1.0607 - val_acc: 0.8491\n",
            "Epoch 43/100\n",
            "3472/3472 [==============================] - 1s 351us/step - loss: 0.0686 - acc: 0.9675 - val_loss: 1.0507 - val_acc: 0.8468\n",
            "Epoch 44/100\n",
            "3472/3472 [==============================] - 1s 348us/step - loss: 0.0716 - acc: 0.9660 - val_loss: 1.0414 - val_acc: 0.8514\n",
            "Epoch 45/100\n",
            "3472/3472 [==============================] - 1s 349us/step - loss: 0.0741 - acc: 0.9654 - val_loss: 1.0618 - val_acc: 0.8548\n",
            "Epoch 46/100\n",
            "3472/3472 [==============================] - 1s 342us/step - loss: 0.0635 - acc: 0.9689 - val_loss: 1.0454 - val_acc: 0.8537\n",
            "Epoch 47/100\n",
            "3472/3472 [==============================] - 1s 349us/step - loss: 0.0758 - acc: 0.9634 - val_loss: 1.0665 - val_acc: 0.8479\n",
            "Epoch 48/100\n",
            "3472/3472 [==============================] - 1s 344us/step - loss: 0.0703 - acc: 0.9672 - val_loss: 1.0435 - val_acc: 0.8456\n",
            "Epoch 49/100\n",
            "3472/3472 [==============================] - 1s 357us/step - loss: 0.0704 - acc: 0.9677 - val_loss: 1.0422 - val_acc: 0.8502\n",
            "Epoch 50/100\n",
            "3472/3472 [==============================] - 1s 354us/step - loss: 0.0749 - acc: 0.9666 - val_loss: 1.0180 - val_acc: 0.8514\n",
            "Epoch 51/100\n",
            "3472/3472 [==============================] - 1s 349us/step - loss: 0.0705 - acc: 0.9669 - val_loss: 1.0165 - val_acc: 0.8525\n",
            "Epoch 52/100\n",
            "3472/3472 [==============================] - 1s 349us/step - loss: 0.0695 - acc: 0.9669 - val_loss: 1.0414 - val_acc: 0.8502\n",
            "Epoch 53/100\n",
            "3472/3472 [==============================] - 1s 348us/step - loss: 0.0679 - acc: 0.9672 - val_loss: 1.0450 - val_acc: 0.8491\n",
            "Epoch 54/100\n",
            "3472/3472 [==============================] - 1s 350us/step - loss: 0.0766 - acc: 0.9654 - val_loss: 1.0340 - val_acc: 0.8410\n",
            "Epoch 55/100\n",
            "3472/3472 [==============================] - 1s 349us/step - loss: 0.0719 - acc: 0.9654 - val_loss: 1.0433 - val_acc: 0.8479\n",
            "Epoch 56/100\n",
            "3472/3472 [==============================] - 1s 349us/step - loss: 0.0766 - acc: 0.9626 - val_loss: 1.0443 - val_acc: 0.8456\n",
            "Epoch 57/100\n",
            "3472/3472 [==============================] - 1s 349us/step - loss: 0.0718 - acc: 0.9686 - val_loss: 1.0218 - val_acc: 0.8502\n",
            "Epoch 58/100\n",
            "3472/3472 [==============================] - 1s 348us/step - loss: 0.0692 - acc: 0.9669 - val_loss: 1.0568 - val_acc: 0.8560\n",
            "Epoch 59/100\n",
            "3472/3472 [==============================] - 1s 352us/step - loss: 0.0671 - acc: 0.9680 - val_loss: 1.0700 - val_acc: 0.8433\n",
            "Epoch 60/100\n",
            "3472/3472 [==============================] - 1s 346us/step - loss: 0.0703 - acc: 0.9669 - val_loss: 1.0787 - val_acc: 0.8433\n",
            "Epoch 61/100\n",
            "3472/3472 [==============================] - 1s 347us/step - loss: 0.0606 - acc: 0.9669 - val_loss: 1.1019 - val_acc: 0.8479\n",
            "Epoch 62/100\n",
            "3472/3472 [==============================] - 1s 353us/step - loss: 0.0701 - acc: 0.9669 - val_loss: 1.0925 - val_acc: 0.8422\n",
            "Epoch 63/100\n",
            "3472/3472 [==============================] - 1s 358us/step - loss: 0.0663 - acc: 0.9675 - val_loss: 1.0837 - val_acc: 0.8456\n",
            "Epoch 64/100\n",
            "3472/3472 [==============================] - 1s 358us/step - loss: 0.0700 - acc: 0.9672 - val_loss: 1.0751 - val_acc: 0.8479\n",
            "Epoch 65/100\n",
            "3472/3472 [==============================] - 1s 356us/step - loss: 0.0702 - acc: 0.9680 - val_loss: 1.0894 - val_acc: 0.8468\n",
            "Epoch 66/100\n",
            "3472/3472 [==============================] - 1s 355us/step - loss: 0.0716 - acc: 0.9657 - val_loss: 1.0653 - val_acc: 0.8468\n",
            "Epoch 67/100\n",
            "3472/3472 [==============================] - 1s 355us/step - loss: 0.0691 - acc: 0.9680 - val_loss: 1.0943 - val_acc: 0.8514\n",
            "Epoch 68/100\n",
            "3472/3472 [==============================] - 1s 352us/step - loss: 0.0672 - acc: 0.9672 - val_loss: 1.0761 - val_acc: 0.8491\n",
            "Epoch 69/100\n",
            "3472/3472 [==============================] - 1s 355us/step - loss: 0.0680 - acc: 0.9695 - val_loss: 1.1304 - val_acc: 0.8456\n",
            "Epoch 70/100\n",
            "3472/3472 [==============================] - 1s 346us/step - loss: 0.0665 - acc: 0.9677 - val_loss: 1.0794 - val_acc: 0.8491\n",
            "Epoch 71/100\n",
            "3472/3472 [==============================] - 1s 349us/step - loss: 0.0607 - acc: 0.9703 - val_loss: 1.0806 - val_acc: 0.8479\n",
            "Epoch 72/100\n",
            "3472/3472 [==============================] - 1s 347us/step - loss: 0.0682 - acc: 0.9672 - val_loss: 1.0880 - val_acc: 0.8468\n",
            "Epoch 73/100\n",
            "3472/3472 [==============================] - 1s 350us/step - loss: 0.0698 - acc: 0.9689 - val_loss: 1.0640 - val_acc: 0.8422\n",
            "Epoch 74/100\n",
            "3472/3472 [==============================] - 1s 348us/step - loss: 0.0756 - acc: 0.9634 - val_loss: 1.0471 - val_acc: 0.8479\n",
            "Epoch 75/100\n",
            "3472/3472 [==============================] - 1s 349us/step - loss: 0.0704 - acc: 0.9666 - val_loss: 1.0398 - val_acc: 0.8479\n",
            "Epoch 76/100\n",
            "3472/3472 [==============================] - 1s 353us/step - loss: 0.0677 - acc: 0.9689 - val_loss: 1.0563 - val_acc: 0.8502\n",
            "Epoch 77/100\n",
            "3472/3472 [==============================] - 1s 352us/step - loss: 0.0654 - acc: 0.9700 - val_loss: 1.0686 - val_acc: 0.8433\n",
            "Epoch 78/100\n",
            "3472/3472 [==============================] - 1s 351us/step - loss: 0.0723 - acc: 0.9660 - val_loss: 1.0884 - val_acc: 0.8491\n",
            "Epoch 79/100\n",
            "3472/3472 [==============================] - 1s 348us/step - loss: 0.0665 - acc: 0.9666 - val_loss: 1.0966 - val_acc: 0.8422\n",
            "Epoch 80/100\n",
            "3472/3472 [==============================] - 1s 347us/step - loss: 0.0661 - acc: 0.9657 - val_loss: 1.1034 - val_acc: 0.8422\n",
            "Epoch 81/100\n",
            "3472/3472 [==============================] - 1s 351us/step - loss: 0.0612 - acc: 0.9686 - val_loss: 1.0890 - val_acc: 0.8433\n",
            "Epoch 82/100\n",
            "3472/3472 [==============================] - 1s 345us/step - loss: 0.0628 - acc: 0.9683 - val_loss: 1.1445 - val_acc: 0.8410\n",
            "Epoch 83/100\n",
            "3472/3472 [==============================] - 1s 346us/step - loss: 0.0661 - acc: 0.9700 - val_loss: 1.1574 - val_acc: 0.8433\n",
            "Epoch 84/100\n",
            "3472/3472 [==============================] - 1s 349us/step - loss: 0.0661 - acc: 0.9680 - val_loss: 1.1021 - val_acc: 0.8491\n",
            "Epoch 85/100\n",
            "3472/3472 [==============================] - 1s 346us/step - loss: 0.0669 - acc: 0.9669 - val_loss: 1.1289 - val_acc: 0.8399\n",
            "Epoch 86/100\n",
            "3472/3472 [==============================] - 1s 350us/step - loss: 0.0601 - acc: 0.9695 - val_loss: 1.1419 - val_acc: 0.8456\n",
            "Epoch 87/100\n",
            "3472/3472 [==============================] - 1s 344us/step - loss: 0.0664 - acc: 0.9689 - val_loss: 1.1627 - val_acc: 0.8422\n",
            "Epoch 88/100\n",
            "3472/3472 [==============================] - 1s 345us/step - loss: 0.0680 - acc: 0.9675 - val_loss: 1.1237 - val_acc: 0.8456\n",
            "Epoch 89/100\n",
            "3472/3472 [==============================] - 1s 350us/step - loss: 0.0642 - acc: 0.9660 - val_loss: 1.0643 - val_acc: 0.8399\n",
            "Epoch 90/100\n",
            "3472/3472 [==============================] - 1s 350us/step - loss: 0.0777 - acc: 0.9680 - val_loss: 1.7150 - val_acc: 0.6141\n",
            "Epoch 91/100\n",
            "3472/3472 [==============================] - 1s 350us/step - loss: 0.0904 - acc: 0.9643 - val_loss: 1.1031 - val_acc: 0.8353\n",
            "Epoch 92/100\n",
            "3472/3472 [==============================] - 1s 345us/step - loss: 0.0833 - acc: 0.9654 - val_loss: 1.1113 - val_acc: 0.8399\n",
            "Epoch 93/100\n",
            "3472/3472 [==============================] - 1s 346us/step - loss: 0.0689 - acc: 0.9640 - val_loss: 1.0856 - val_acc: 0.8422\n",
            "Epoch 94/100\n",
            "3472/3472 [==============================] - 1s 347us/step - loss: 0.0668 - acc: 0.9666 - val_loss: 1.1227 - val_acc: 0.8410\n",
            "Epoch 95/100\n",
            "3472/3472 [==============================] - 1s 347us/step - loss: 0.0627 - acc: 0.9680 - val_loss: 1.1260 - val_acc: 0.8433\n",
            "Epoch 96/100\n",
            "3472/3472 [==============================] - 1s 350us/step - loss: 0.0689 - acc: 0.9654 - val_loss: 1.1291 - val_acc: 0.8410\n",
            "Epoch 97/100\n",
            "3472/3472 [==============================] - 1s 352us/step - loss: 0.0662 - acc: 0.9660 - val_loss: 1.1492 - val_acc: 0.8433\n",
            "Epoch 98/100\n",
            "3472/3472 [==============================] - 1s 346us/step - loss: 0.0626 - acc: 0.9657 - val_loss: 1.1374 - val_acc: 0.8422\n",
            "Epoch 99/100\n",
            "3472/3472 [==============================] - 1s 352us/step - loss: 0.0653 - acc: 0.9675 - val_loss: 1.1451 - val_acc: 0.8445\n",
            "Epoch 100/100\n",
            "3472/3472 [==============================] - 1s 349us/step - loss: 0.0598 - acc: 0.9703 - val_loss: 1.1511 - val_acc: 0.8399\n",
            "868/868 [==============================] - 0s 107us/step\n",
            "Test score: 1.1511240285662463\n",
            "Test accuracy: 0.8398617511520737\n",
            "経過時間：124.69098424911499\n",
            "\n",
            "経過時間：124.69098424911499\n",
            "\n"
          ],
          "name": "stdout"
        }
      ]
    },
    {
      "cell_type": "code",
      "metadata": {
        "id": "xpZhO4mDyquN",
        "colab_type": "code",
        "colab": {
          "base_uri": "https://localhost:8080/",
          "height": 34
        },
        "outputId": "c9caf152-d993-4b47-dd32-ee67a57fd03a"
      },
      "source": [
        "# 評価結果\n",
        "reuters_results"
      ],
      "execution_count": 88,
      "outputs": [
        {
          "output_type": "execute_result",
          "data": {
            "text/plain": [
              "{'CuDNNLSTM': {'accuracy': 0.84, 'score': 1.15, 'time': 124.69}}"
            ]
          },
          "metadata": {
            "tags": []
          },
          "execution_count": 88
        }
      ]
    },
    {
      "cell_type": "code",
      "metadata": {
        "id": "xcfz7vrdy6fV",
        "colab_type": "code",
        "colab": {
          "base_uri": "https://localhost:8080/",
          "height": 281
        },
        "outputId": "a40c3842-3650-4b01-f319-29a27d44c761"
      },
      "source": [
        "# 学習曲線\n",
        "\n",
        "loss = history.history[\"loss\"]\n",
        "val_loss = history.history[\"val_loss\"]\n",
        "\n",
        "epochs = range(len(loss))\n",
        "\n",
        "plt.plot(epochs, loss, \"bo\", label=\"Train_loss\")\n",
        "plt.plot(epochs, val_loss, \"b\", label=\"Validation _loss\")\n",
        "plt.title(\"Learning Curve\")\n",
        "plt.legend()\n",
        "\n",
        "plt.show()"
      ],
      "execution_count": 84,
      "outputs": [
        {
          "output_type": "display_data",
          "data": {
            "image/png": "[encoded data removed]",
            "text/plain": [
              "<Figure size 432x288 with 1 Axes>"
            ]
          },
          "metadata": {
            "tags": []
          }
        }
      ]
    },
    {
      "cell_type": "code",
      "metadata": {
        "id": "bQkrgD14wHrU",
        "colab_type": "code",
        "colab": {
          "base_uri": "https://localhost:8080/",
          "height": 286
        },
        "outputId": "11669d51-7a73-4535-d358-267d572d73bb"
      },
      "source": [
        "# 評価結果の可視化\n",
        "\n",
        "sns.distplot(y_test, label=\"y_test\")\n",
        "sns.distplot(y_pred, label=\"y_pred\")\n",
        "plt.legend()"
      ],
      "execution_count": 85,
      "outputs": [
        {
          "output_type": "execute_result",
          "data": {
            "text/plain": [
              "<matplotlib.legend.Legend at 0x7fd13eabcdd8>"
            ]
          },
          "metadata": {
            "tags": []
          },
          "execution_count": 85
        },
        {
          "output_type": "display_data",
          "data": {
            "image/png": "[encoded data removed]",
            "text/plain": [
              "<Figure size 432x288 with 1 Axes>"
            ]
          },
          "metadata": {
            "tags": []
          }
        }
      ]
    },
    {
      "cell_type": "markdown",
      "metadata": {
        "id": "FqZ15XaY1mgm",
        "colab_type": "text"
      },
      "source": [
        "###"
      ]
    },
    {
      "cell_type": "code",
      "metadata": {
        "id": "Q7xpXaO_sBPn",
        "colab_type": "code",
        "colab": {
          "base_uri": "https://localhost:8080/",
          "height": 459
        },
        "outputId": "5828e6a8-e985-4d5b-926f-a2863110ac5a"
      },
      "source": [
        "# 評価結果の可視化\n",
        "\n",
        "labels = np.arange(num_class+1)  # 46値分類\n",
        "\n",
        "cmx_data = confusion_matrix(y_test, y_pred, labels=labels)\n",
        "df_cmx = pd.DataFrame(cmx_data, index=labels, columns=labels)\n",
        "\n",
        "plt.figure(figsize = (10,7))\n",
        "sns.heatmap(df_cmx, annot=False, cmap=\"GnBu\", vmax=5)\n",
        "\n",
        "plt.xlabel(\"y_true\")\n",
        "plt.ylabel(\"y_pred\")\n",
        "plt.title(\"confusion_matrix\")\n",
        "\n",
        "plt.show()"
      ],
      "execution_count": 87,
      "outputs": [
        {
          "output_type": "display_data",
          "data": {
            "image/png": "[encoded data removed]",
            "text/plain": [
              "<Figure size 720x504 with 2 Axes>"
            ]
          },
          "metadata": {
            "tags": []
          }
        }
      ]
    },
    {
      "cell_type": "markdown",
      "metadata": {
        "id": "EsHh3X1hydis",
        "colab_type": "text"
      },
      "source": [
        "#### 考察\n",
        "\n",
        "- val_accuracyは0.82と相応に高く、正解値と予測値の分布は概ね整合しているように見える。\n",
        "- 一方、仮説通り、学習曲線からモデルが過剰適合している様子が確認された。\n",
        "- また、混同行列のヒートマップからは、頻度の大きい正解値3,4に対する予測値が3,4以外にも確認されており、学習用データの偏りを小さくする等の補正が必要かもしれない。"
      ]
    },
    {
      "cell_type": "markdown",
      "metadata": {
        "id": "gvmAY44Jm_C5",
        "colab_type": "text"
      },
      "source": [
        "### Take away\n",
        "\n",
        "1. Kerasの使い方\n",
        "  - 複数のモデルを使用する際には、各処理実行後にセッションを終了すること(clear_session)。\n",
        "  - RNNを用いる際は、インプットデータにシーケンスの次元があることを確認する。\n",
        "    - シーケンスの次元が存在しない場合、sequence.pad_sequencesでシーケンスの次元を補完すること。\n",
        "  - 正解ラベルを1次元配列の形で入力しない。\n",
        "    - 正解ラベルを2次元配列に変換（reshape）せずに学習させると、エラーメッセージ（=レイヤーのshapeが合わない）が発生した。\n",
        "    - Kerasには、1次元配列を自動的に2次元配列に変換する機能が備わっていない模様。\n",
        "    - モデルとインプットデータの相性を考える。\n",
        "      - conv2LSTMは、例えばMNISTのように（高さ、幅）の次元を持つデータを与えることが有用と思われる。\n",
        "      \n",
        "2. RNN\n",
        "  - 今回のsprintを通じて、シンプルな設定でRNNを動かす場合、GPU環境を利用できるのであれば、精度や学習時間の観点から、CuDNNGRUもしくはCuDNNLSTMを利用することが有用だと分かった。\n",
        "  - 一方、細かいチューニングが必要な場合は、個別にパラメータをチューニングしたCellsを組み合わせる必要があると思われる。"
      ]
    }
  ]
}