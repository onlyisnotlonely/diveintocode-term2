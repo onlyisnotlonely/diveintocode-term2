{
 "cells": [
  {
   "cell_type": "markdown",
   "metadata": {},
   "source": [
    "# Sprint10課題 深層学習スクラッチニューラルネットワーク\n"
   ]
  },
  {
   "cell_type": "markdown",
   "metadata": {},
   "source": [
    "## 1.この課題の目的\n",
    "\n",
    "- スクラッチを通してニューラルネットワークの基礎を理解する\n",
    "- 画像データの簡単な扱い方を知る"
   ]
  },
  {
   "cell_type": "markdown",
   "metadata": {},
   "source": [
    "## 2.スクラッチによる実装\n",
    "\n",
    "NumPyなど最低限のライブラリのみを使いアルゴリズムを実装する。\n",
    "\n",
    "今回は多クラス分類を行う3層のニューラルネットワークを作成する。\n",
    "\n",
    "層の数などは固定した上でニューラルネットワークの基本を確認する。\n",
    "\n",
    "次のSprintで層を自由に変えられる設計とする。"
   ]
  },
  {
   "cell_type": "code",
   "execution_count": 1,
   "metadata": {},
   "outputs": [
    {
     "name": "stderr",
     "output_type": "stream",
     "text": [
      "Using TensorFlow backend.\n"
     ]
    }
   ],
   "source": [
    "# 演算\n",
    "import numpy as np\n",
    "import pandas as pd\n",
    "\n",
    "# 可視化\n",
    "import matplotlib.pyplot as plt\n",
    "import seaborn as sns\n",
    "\n",
    "# 機械学習\n",
    "from sklearn.model_selection import train_test_split\n",
    "from sklearn.preprocessing import OneHotEncoder\n",
    "from sklearn.metrics import accuracy_score, precision_score, recall_score, f1_score, auc\n",
    "\n",
    "# データセットの準備\n",
    "from keras.datasets import mnist\n",
    "\n",
    "# 表示\n",
    "import pprint\n",
    "\n",
    "%matplotlib inline"
   ]
  },
  {
   "cell_type": "markdown",
   "metadata": {},
   "source": [
    "### データセットの用意\n",
    "MNISTデータセットを使用する。\n",
    "\n",
    "以下のコードを実行すれば、Kerasによりデータセットをダウンロード、展開が行われる。"
   ]
  },
  {
   "cell_type": "code",
   "execution_count": 2,
   "metadata": {},
   "outputs": [],
   "source": [
    "# データを格納\n",
    "(X_train, y_train), (X_test, y_test) = mnist.load_data()"
   ]
  },
  {
   "cell_type": "code",
   "execution_count": 3,
   "metadata": {},
   "outputs": [
    {
     "data": {
      "text/plain": [
       "array([0, 1, 2, 3, 4, 5, 6, 7, 8, 9], dtype=uint8)"
      ]
     },
     "execution_count": 3,
     "metadata": {},
     "output_type": "execute_result"
    }
   ],
   "source": [
    "value = np.unique(y_test)\n",
    "value"
   ]
  },
  {
   "cell_type": "markdown",
   "metadata": {},
   "source": [
    "### MNISTとは？\n",
    "\n",
    "- 画像分類のための定番データセットで、手書き数字認識を行う。\n",
    "\n",
    "- このデータセットには学習用6万枚、テスト用1万枚の28×28ピクセルの白黒画像、およびそれらが0〜9のどの数字であるかが含まれている。\n",
    "\n",
    "### 画像データとは？\n",
    "\n",
    "- デジタル画像は点の集合で、これをピクセルと呼ぶ。\n",
    "- 一般的に白黒画像であればピクセルには0〜255の値が含まれる。\n",
    "- 一方、カラー画像であればR（赤）、G（緑）、B（青）それぞれに対応する0〜255の値が含まれる。\n",
    "- 機械学習をする上では、この0〜255の値一つひとつが特徴量として扱われる。\n",
    "- 0〜255は符号なしの8ビット整数で表せる範囲になるため、NumPyであれば「uint8」型の変数として保持できる。"
   ]
  },
  {
   "cell_type": "code",
   "execution_count": 4,
   "metadata": {},
   "outputs": [
    {
     "name": "stdout",
     "output_type": "stream",
     "text": [
      "(60000, 28, 28)\n",
      "(10000, 28, 28)\n",
      "uint8\n",
      "(28, 28)\n"
     ]
    }
   ],
   "source": [
    "# データセットの確認\n",
    "print(X_train.shape) # (60000, 28, 28)\n",
    "print(X_test.shape) # (10000, 28, 28)\n",
    "print(X_train[0].dtype) # uint8\n",
    "print(X_train[0].shape) # (28, 28)\n",
    "#print(X_train[0])"
   ]
  },
  {
   "cell_type": "markdown",
   "metadata": {},
   "source": [
    "## 3.平滑化\n",
    "\n",
    "- (1, 28, 28)の各画像を、(1, 784)に変換する。\n",
    "\n",
    "- これまで学んできた機械学習手法や、今回扱う全結合層のみのニューラルネットワークではこの形で扱う。\n",
    "\n",
    "- 全てのピクセルが一列になっていることを、<font color = \"Blue\">**平滑化（flatten）**</font>と表現する。"
   ]
  },
  {
   "cell_type": "code",
   "execution_count": 5,
   "metadata": {},
   "outputs": [],
   "source": [
    "X_train = X_train.reshape(-1, 784)\n",
    "X_test = X_test.reshape(-1, 784)"
   ]
  },
  {
   "cell_type": "markdown",
   "metadata": {},
   "source": [
    "### 補足\n",
    "\n",
    "- ここまで機械学習を学んでくる中で、特徴量の数を**「次元」**と呼んできた。\n",
    "- その視点では、MNISTは784次元（＝28 * 28）のデータとなる。\n",
    "- 一方、NumPyのshapeが(784,)の状態を1次元配列とも呼びます。\n",
    "\n",
    "- 画像としての縦横の情報を持つ（28, 28)の状態であれば、2次元配列です。\n",
    "- この視点では2次元のデータであり、もしもカラー画像であれば(28, 28, 3)ということになり、3次元配列となる。\n",
    "- 先ほどの視点では3次元のデータとなる。\n",
    "\n",
    "- しかし、白黒でもカラーでも平面画像であり、立体データではないという視点で、2次元のデータである。\n",
    "- 画像データを扱う際にはこのように「次元」という言葉が複数の意味合いで使われることに注意すること。"
   ]
  },
  {
   "cell_type": "code",
   "execution_count": 6,
   "metadata": {},
   "outputs": [
    {
     "name": "stdout",
     "output_type": "stream",
     "text": [
      "(60000, 784)\n",
      "(10000, 784)\n"
     ]
    }
   ],
   "source": [
    "print(X_train.shape) # (60000, 784)\n",
    "print(X_test.shape) # (10000, 784)"
   ]
  },
  {
   "cell_type": "markdown",
   "metadata": {},
   "source": [
    "### 画像データの可視化\n",
    "画像データを可視化する。plt.imshowに渡す。"
   ]
  },
  {
   "cell_type": "code",
   "execution_count": 7,
   "metadata": {},
   "outputs": [
    {
     "data": {
      "image/png": "[encoded data removed]",
      "text/plain": [
       "<Figure size 432x288 with 1 Axes>"
      ]
     },
     "metadata": {
      "needs_background": "light"
     },
     "output_type": "display_data"
    }
   ],
   "source": [
    "%matplotlib inline\n",
    "\n",
    "index = 0\n",
    "image = X_train[index].reshape(28,28)\n",
    "# X_train[index]: (784,)\n",
    "# image: (28, 28)\n",
    "plt.imshow(image, 'gray', vmin = 0, vmax = 255)\n",
    "plt.title('label : {}'.format(y_train[index]))\n",
    "plt.show()"
   ]
  },
  {
   "cell_type": "markdown",
   "metadata": {},
   "source": [
    "### 前処理\n",
    "\n",
    "- 画像は0から255のuint8型で表されるが、機械学習をする上では0から1のfloat型で扱うことになる。\n",
    "- 色は理想的には連続値であり、それを特徴量とするためである。（以下のコードで変換可能）"
   ]
  },
  {
   "cell_type": "code",
   "execution_count": 8,
   "metadata": {},
   "outputs": [
    {
     "name": "stdout",
     "output_type": "stream",
     "text": [
      "1.0\n",
      "0.0\n"
     ]
    }
   ],
   "source": [
    "# 最大値、最小値の確認\n",
    "\n",
    "X_train = X_train.astype(np.float)\n",
    "X_test = X_test.astype(np.float)\n",
    "X_train /= 255\n",
    "X_test /= 255\n",
    "print(X_train.max()) # 1.0\n",
    "print(X_train.min()) # 0.0"
   ]
  },
  {
   "cell_type": "code",
   "execution_count": 9,
   "metadata": {},
   "outputs": [
    {
     "name": "stdout",
     "output_type": "stream",
     "text": [
      "(48000, 784)\n",
      "(12000, 784)\n"
     ]
    }
   ],
   "source": [
    "# 学習用データ、検証用データの生成\n",
    "X_train, X_val, y_train, y_val = train_test_split(X_train, y_train, test_size = 0.2)\n",
    "print(X_train.shape)\n",
    "print(X_val.shape)"
   ]
  },
  {
   "cell_type": "markdown",
   "metadata": {},
   "source": [
    "### One-Hot Encoding"
   ]
  },
  {
   "cell_type": "code",
   "execution_count": 10,
   "metadata": {
    "scrolled": true
   },
   "outputs": [
    {
     "name": "stdout",
     "output_type": "stream",
     "text": [
      "(48000,)\n",
      "(48000, 10)\n",
      "float64\n"
     ]
    }
   ],
   "source": [
    "enc = OneHotEncoder(handle_unknown=\"ignore\", sparse=False)\n",
    "y_train_one_hot = enc.fit_transform(y_train[:, np.newaxis]) # 学習用データ\n",
    "y_test_one_hot = enc.transform(y_test[:, np.newaxis]) # テストデータ\n",
    "\n",
    "print(y_train.shape)\n",
    "print(y_train_one_hot.shape) # (60000, 10)\n",
    "print(y_train_one_hot.dtype) # float64"
   ]
  },
  {
   "cell_type": "markdown",
   "metadata": {},
   "source": [
    "- 正解ラベルは0から9の整数だが、ニューラルネットワークで多クラス分類を行う際にはone-hot表現に変換します。\n",
    "- scikit-learnのOneHotEncoderを使用して変換できる。（one-hot表現による値はそのラベルである確率を示していることになるため、float型で扱う）"
   ]
  },
  {
   "cell_type": "code",
   "execution_count": 11,
   "metadata": {},
   "outputs": [
    {
     "data": {
      "text/plain": [
       "(48000, 10)"
      ]
     },
     "execution_count": 11,
     "metadata": {},
     "output_type": "execute_result"
    }
   ],
   "source": [
    "y_train_one_hot.shape"
   ]
  },
  {
   "cell_type": "markdown",
   "metadata": {},
   "source": [
    "- さらに、学習用データ6万枚の内2割を検証用データとして分割すること。\n",
    "- 学習用データが48000枚、検証用データが12000枚となる。"
   ]
  },
  {
   "cell_type": "markdown",
   "metadata": {},
   "source": [
    "### 【問題1】ニューラルネットワーク分類器のクラスを作成\n",
    "\n",
    "ニューラルネットワーク分類器のクラスScratchSimpleNeuralNetrowkClassifierを作成する。"
   ]
  },
  {
   "cell_type": "markdown",
   "metadata": {},
   "source": [
    "### フォワードプロパゲーション\n",
    "\n",
    "- 三層のニューラルネットワークのフォワードプロパゲーションを作成する。\n",
    "- 以下の説明ではノード数は1層目は400、2層目は200としますが、変更しても構わない。"
   ]
  },
  {
   "cell_type": "markdown",
   "metadata": {},
   "source": [
    "### 重みの初期値\n",
    "\n",
    "- ニューラルネットワークにおいて、重みの初期値は重要な要素である。\n",
    "- 様々な方法が提案されているが、今回はガウス分布による単純な初期化を行う（バイアスに関しても同様）。"
   ]
  },
  {
   "cell_type": "markdown",
   "metadata": {},
   "source": [
    "### クラスの作成"
   ]
  },
  {
   "cell_type": "code",
   "execution_count": 69,
   "metadata": {},
   "outputs": [],
   "source": [
    "# 演算処理\n",
    "import numpy as np\n",
    "\n",
    "# 可視化\n",
    "import matplotlib.pyplot as plt\n",
    "\n",
    "# 機械学習\n",
    "from sklearn.preprocessing import OneHotEncoder\n",
    "from sklearn.metrics import accuracy_score\n",
    "\n",
    "# 時間計測\n",
    "from tqdm import tqdm_notebook as tqdm\n",
    "import time\n",
    "\n",
    "class ScratchSimpleNeuralNetworkClassifier:\n",
    "    \"\"\"\n",
    "    ニューラルネットワークのスクラッチ実装\n",
    "    \n",
    "    Parameters\n",
    "    ----------\n",
    "    lr : float (default : 0.01)\n",
    "        学習率\n",
    "    \n",
    "    batch : int\n",
    "        バッチサイズ\n",
    "        \n",
    "    epoch : int\n",
    "        epoch\n",
    "    \n",
    "    n_nodes1 : int\n",
    "        １層目のノード数\n",
    "        \n",
    "    n_nodes2 : int\n",
    "        2層目のノード数   \n",
    "    \n",
    "    func : str\n",
    "        活性化関数(\"sigmoid\" or \"tanh\")\n",
    "    \n",
    "    random_state_batch : int\n",
    "        乱数（ミニバッチ）生成のシード値\n",
    "    \n",
    "    random_state_para : int\n",
    "        乱数（パラメータ初期値）生成のシード値\n",
    "    \n",
    "    \n",
    "    Attributes\n",
    "    ----------\n",
    "    self.w : 次の形のndarray, shape\n",
    "        重み\n",
    "        \n",
    "    self.b : 次の形のndarray, shape\n",
    "        バイアス\n",
    "    \n",
    "    self.loss : float\n",
    "        交差エントロピー誤差\n",
    "    \n",
    "    \"\"\"\n",
    "    \n",
    "    def __init__(self, lr=0.01, batch_size=10, activation_f=\"tanh\", epoch=10, n_nodes1=400, n_nodes2=200,\n",
    "                 n_output = 10, random_state_batch=1, random_state_para=1, sigma=0.01, verbose=False):\n",
    "        \n",
    "        # パラメータ\n",
    "        self.activation_f = activation_f # 活性化関数の種類\n",
    "        self.batch = batch_size # バッチサイズ\n",
    "        self.epoch = epoch # バッチあたりの学習回数\n",
    "        self.label = None # 正解ラベル\n",
    "        self.lr = lr # 学習率\n",
    "        self.n_nodes1 = n_nodes1 # 1層目のノード数\n",
    "        self.n_nodes2 = n_nodes2 # 2層目のノード数\n",
    "        self.n_output = None # 出力のクラス数（3層目のノード数）\n",
    "        self.random_state_batch  = random_state_batch # ランダムなミニバッチ生成時のシード値\n",
    "        self.random_state_para = random_state_para # パラメータ初期値をランダムに生成する際のシード値\n",
    "        self.sigma = sigma # 正規分布の標準偏差\n",
    "        \n",
    "        # 重み\n",
    "        self.w1 = None # 第1層\n",
    "        self.w2 = None # 第２層\n",
    "        self.w3 = None # 第３層\n",
    "        \n",
    "        # バイアス\n",
    "        self.b1 = None # 第１層\n",
    "        self.b2 = None # 第２層\n",
    "        self.b3 = None # 第３層\n",
    "        \n",
    "        # 交差エントロピー誤差\n",
    "        self.train_loss = [] # 学習用データに基づく損失\n",
    "        self.val_loss = [] # 検証用データに基づく損失\n",
    "        \n",
    "        # 予測精度\n",
    "        self.accuracy_train = []\n",
    "        self.accuracy_val = []\n",
    "        \n",
    "        # 活性化関数の入力\n",
    "        self.a1 = 0 # 1層目\n",
    "        self.a2 = 0 # 2層目\n",
    "        self.a3 = 0 # 3層目\n",
    "        \n",
    "        # 活性化関数の出力\n",
    "        self.z1 = 0 # 1層目\n",
    "        self.z2 = 0 # 2層目\n",
    "        self.z3 = 0 # 3層目\n",
    "    \n",
    "        # 学習過程の出力\n",
    "        self.verbose = verbose\n",
    "        \n",
    "    \n",
    "    def fit(self, X_train, y_train, X_val=None, y_val=None):\n",
    "        \"\"\"\n",
    "        ニューラルネットワーク分類器を学習する\n",
    "        \n",
    "        Parameters\n",
    "        ----------\n",
    "        X_train : 次の形のndarray, shape(batch_size, n_features)\n",
    "            学習用データ（特徴量）\n",
    "        \n",
    "        y_train : 次の形のndarray, shape(batch_size, n_output)\n",
    "            学習用データ（正解ラベル）\n",
    "        \n",
    "        \"\"\"\n",
    "        # 正解ラベル\n",
    "        self.label = np.unique(y_train)\n",
    "        self.n_output  = len(np.unique(y_train)) # 個数        \n",
    "        \n",
    "        # One-Hot Encoding\n",
    "        enc = OneHotEncoder(handle_unknown=\"ignore\", sparse=False)\n",
    "        y_train = enc.fit_transform(y_train[:, np.newaxis]) # 学習用データ\n",
    "        if y_val is not None:\n",
    "            y_val = enc.fit_transform(y_val[:, np.newaxis]) # 検証用データ\n",
    "        \n",
    "        np.random.seed(self.random_state_para)\n",
    "        \n",
    "        # 重みの初期値\n",
    "        self.w1 = self.sigma * np.random.randn(X_train.shape[1] * self.n_nodes1).reshape(X_train.shape[1], self.n_nodes1)\n",
    "        self.w2 = self.sigma * np.random.randn(self.n_nodes1 * self.n_nodes2).reshape(self.n_nodes1, self.n_nodes2)\n",
    "        self.w3 = self.sigma * np.random.randn(self.n_nodes2 * self.n_output).reshape(self.n_nodes2, self.n_output)\n",
    "\n",
    "        # バイアスの初期値 \n",
    "        self.b1 = self.sigma * np.random.randn(self.n_nodes1) # 1層目\n",
    "        self.b2 = self.sigma * np.random.randn(self.n_nodes2) # 2層目\n",
    "        self.b3 = self.sigma * np.random.randn(self.n_output) # 3層目\n",
    "        \n",
    "        # 学習\n",
    "        for i in tqdm(range(self.epoch)):\n",
    "            get_mini_batch = GetMiniBatch(X_train, y_train, batch_size=self.batch, seed=self.random_state_batch)\n",
    "            \n",
    "            for mini_X_train, mini_y_train in tqdm(get_mini_batch):\n",
    "            \n",
    "                # 学習用データ\n",
    "                z_train = self._forward_propagation(mini_X_train)# フォワードプロパゲーション\n",
    "                y_pred_train = np.argmax(z_train, axis=1)\n",
    "                self._back_propagation(mini_X_train, z_train, mini_y_train) #バックプロパゲーション\n",
    "                \n",
    "                # 損失、予測精度を計算する\n",
    "                train_loss = self._cross_entropy_error(z_train, mini_y_train) / self.batch\n",
    "                accuracy_train = accuracy_score(np.where(mini_y_train == 1)[1], y_pred_train)\n",
    "                self.train_loss.append(train_loss)\n",
    "                self.accuracy_train.append(accuracy_train)\n",
    "                \n",
    "                # 学習過程を表示する\n",
    "                if self.verbose == True:\n",
    "                    print(\"train_loss : {}\".format(train_loss))\n",
    "\n",
    "                \n",
    "                # 検証用データがある場合、交差エントロピー誤差を算出する\n",
    "                if (X_val is not None) and (y_val is not None):\n",
    "                    z_val = self._forward_propagation(X_val)\n",
    "                    y_pred_val = np.argmax(z_val, axis=1)\n",
    "                    \n",
    "                    # 損失、予測精度を計算する\n",
    "                    val_loss = self._cross_entropy_error(z_val, y_val) / len(z_val)\n",
    "                    accuracy_val = accuracy_score(np.where(y_val == 1)[1], y_pred_val)\n",
    "                    self.val_loss.append(val_loss)\n",
    "                    self.accuracy_val.append(accuracy_val)\n",
    "\n",
    "                    # 学習過程を表示する\n",
    "                    if self.verbose == True:\n",
    "                        print(\"val_loss : {}\".format(val_loss))\n",
    "            \n",
    "\n",
    "                    \n",
    "    def predict(self, X):\n",
    "        \"\"\"\n",
    "        ニューラルネットワーク分類器を使い推定する。\n",
    "        \n",
    "        Parameters\n",
    "        -----------\n",
    "        X : 次の形のndarray, shape(m_samples, n_features)\n",
    "            テストデータ（特徴量）\n",
    "        \n",
    "        \n",
    "        Returns\n",
    "        ---------\n",
    "        y_pred : 次の形のndarray, shape(m_sample, 1)\n",
    "            推定結果\n",
    "        \n",
    "        \"\"\"\n",
    "        # フォワードプロパゲーション（確率ベクトルの算出）\n",
    "        z = self._forward_propagation(X)\n",
    "        \n",
    "        # 最も確率の高いラベルを取得する\n",
    "        y_pred = np.argmax(z, axis=1)\n",
    "                \n",
    "        return y_pred\n",
    "    \n",
    "    \n",
    "    \n",
    "    def _forward_propagation(self, X):\n",
    "        \"\"\"\n",
    "        フォワードプロパゲーション\n",
    "        \n",
    "        Paramerters\n",
    "        ---------\n",
    "        X : 次の形のndarray, shape(m_samples, n_features)\n",
    "            特徴量\n",
    "            \n",
    "        Returns\n",
    "        ---------\n",
    "        z3 : 次の形のndarray, shape(m_samples, n_nodes)\n",
    "            3層目の出力\n",
    "        \n",
    "        \"\"\"\n",
    "\n",
    "        # 第１層\n",
    "        a1 = np.dot(X, self.w1) + self.b1 # 各ノードの出力（活性化前）\n",
    "        z1 = self._activation_function(a1) # 出力（2層目の入力）\n",
    "        \n",
    "        self.a1 = a1\n",
    "        self.z1 = z1\n",
    "\n",
    "        \n",
    "        # 第２層\n",
    "        a2 = np.dot(z1, self.w2) + self.b2 # 各ノードの出力（活性化前）\n",
    "        z2 = self._activation_function(a2) # 出力：3層目の入力（m_samples, n_nodes2)\n",
    "        \n",
    "        self.a2 = a2\n",
    "        self.z2 = z2\n",
    "        \n",
    "        \n",
    "        # 第３層\n",
    "        a3 = np.dot(z2, self.w3) + self.b3 # 各ノードの出力（活性化前）\n",
    "        z3 = self._softmax(a3) # 出力：確率ベクトル(m_samples, n_output)\n",
    "        \n",
    "        self.a3 = a3\n",
    "        self.z3 = z3\n",
    "        \n",
    "        return z3\n",
    "    \n",
    "    \n",
    "    def _back_propagation(self, X, z, y):\n",
    "        \"\"\"\n",
    "        バックプロパゲーション\n",
    "        \n",
    "        Parameters\n",
    "        ----------\n",
    "        X : 次の形のndarray, shape(batch_size, n_features)\n",
    "            学習用データ（特徴量）\n",
    "        \n",
    "        z : 次の形のndarray, shape(batch_size, n_output)\n",
    "            確率ベクトル\n",
    "            \n",
    "        y : 次の形のndarray, shape(batch_size, n_output)\n",
    "            正解ラベル\n",
    "        \n",
    "        \"\"\"\n",
    "        \n",
    "        # 第３層のパラメータ更新\n",
    "        grad3 = z - y # 勾配\n",
    "        self.b3 = self.b3 - self.lr * np.mean(grad3, axis=0) # バイアスの更新        \n",
    "        self.w3 = self.w3 - self.lr * np.dot(self.z2.T, grad3)/self.batch # 重みの更新\n",
    "\n",
    "        \n",
    "        # 第２層のパラメータ更新\n",
    "        grad2 = np.dot(grad3, self.w3.T) * self._activation_function_diff(self.a2) # 勾配        \n",
    "        self.b2 =  self.b2 - self.lr * np.mean(grad2, axis=0) # バイアスの更新\n",
    "        self.w2 = self.w2 - self.lr * np.dot(self.z1.T, grad2)/self.batch # 重みの更新\n",
    "        \n",
    "        \n",
    "        # 第1層のパラメータ更新\n",
    "        grad1 = np.dot(grad2, self.w2.T) * self._activation_function_diff(self.a1) # 勾配\n",
    "        self.b1 =  self.b1 - self.lr * np.mean(grad1, axis=0) # バイアス\n",
    "        self.w1 = self.w1 - self.lr * np.dot(X.T, grad1)/self.batch # 重み\n",
    "        \n",
    "    \n",
    "    def _sigmoid(self, x):\n",
    "        \"\"\"\n",
    "        シグモイド関数\n",
    "        \n",
    "        Parameters\n",
    "        ---------\n",
    "        x : 次の形のndarray, shape(m_samples, n_features)\n",
    "            特徴量\n",
    "\n",
    "        Returns\n",
    "        ---------\n",
    "        z : 次の形のndarray, shape(m_samples, n_features)\n",
    "            確率\n",
    "        \"\"\"\n",
    "        \n",
    "        z = 1 / (1 + np.exp(-x))\n",
    "        \n",
    "        return z\n",
    "    \n",
    "    \n",
    "    def _activation_function(self, x):\n",
    "        \"\"\"\n",
    "        活性化関数\n",
    "        \n",
    "        Parameters\n",
    "        ---------\n",
    "        X : 次の形のndarray, shape(m_samples, n_features)\n",
    "            特徴量\n",
    "        \n",
    "        Returns\n",
    "        ---------\n",
    "        z : 次の形のndarray, shape(m_samples, n_features)\n",
    "            確率\n",
    "        \n",
    "        \"\"\"\n",
    "        try:\n",
    "            if self.activation_f == \"tanh\":\n",
    "                return np.tanh(x)\n",
    "            elif self.activation_f == \"sigmoid\":\n",
    "                return self._sigmoid(x)\n",
    "        except ValueError:\n",
    "            print(\"'ValueError! : Activation function type are 'sigmoid' or 'tanh.'\")\n",
    "    \n",
    "    \n",
    "    def _activation_function_diff(self, x):\n",
    "        \"\"\"\n",
    "        シグモイド関数\n",
    "        \n",
    "        Parameters\n",
    "        ---------\n",
    "        x : 次の形のndarray, shape(m_samples, n_features)\n",
    "            特徴量\n",
    "            \n",
    "        \n",
    "        Returns\n",
    "        ---------\n",
    "        z : 次の形のndarray, shape(m_samples, n_features)\n",
    "            確率\n",
    "        \n",
    "        \"\"\"\n",
    "        if self.activation_f == \"tanh\":\n",
    "            return 1- np.tanh(x)**2\n",
    "        elif self.activation_f == \"sigmoid\":\n",
    "            return (1- self.sigmoid(x)) * self.sigmoid(x)\n",
    "    \n",
    "\n",
    "    \n",
    "    def _softmax(self, x):\n",
    "        \"\"\"\n",
    "        ソフトマックス関数\n",
    "        \n",
    "        Parameters\n",
    "        ----------\n",
    "        x : 次の形のndarray, shape(m_samples, n_nodes2)\n",
    "            出力（想定：第２層の出力／第３層の入力）\n",
    "        \n",
    "        \n",
    "        Returns\n",
    "        ----------\n",
    "        z : 次の形の出力（m_samples, n_output）\n",
    "            予測確率（第３層の出力）\n",
    "        \n",
    "        \"\"\"\n",
    "        \n",
    "        z = np.exp(x) / np.sum(np.exp(x), axis = 1).reshape(-1, 1)        \n",
    "        \n",
    "        return z\n",
    "    \n",
    "    \n",
    "    def _cross_entropy_error(self, z, y):\n",
    "        \"\"\"\n",
    "        交差エントロピー誤差\n",
    "\n",
    "        Parameters\n",
    "        ---------\n",
    "        z : 次の形のndarray, shape()\n",
    "            出力値（想定：第３層の出力）\n",
    "        \n",
    "        y : 次の形のndarray, shape(m_samples, n_output)\n",
    "            正解値\n",
    "        \n",
    "        \"\"\"\n",
    "        \n",
    "        return - np.sum(y * np.log(z))\n",
    "        \n",
    "    \n",
    "    def show_learning_curve(self, ):\n",
    "        \"\"\"\n",
    "        学習曲線を描画する\n",
    "        \n",
    "        \"\"\"\n",
    "        iteration = np.arange(len(self.train_loss))\n",
    "        train_loss = self.train_loss\n",
    "        val_loss = self.val_loss\n",
    "        \n",
    "        accuracy_train = self.accuracy_train\n",
    "        accuracy_val = self.accuracy_val\n",
    "        \n",
    "        FIG_SIZE = (12,4)\n",
    "        fig = plt.figure(figsize=FIG_SIZE)\n",
    "        \n",
    "        plt.style.use(\"seaborn-whitegrid\")\n",
    "        \n",
    "        # 損失の推移を描画\n",
    "        plt.subplot(1,2,1)\n",
    "        plt.plot(iteration, train_loss, label = \"average_train_loss\", color=\"b\")\n",
    "        if val_loss is not []:\n",
    "            plt.plot(iteration, val_loss, label=\"average_val_loss\", color=\"r\")\n",
    "        plt.xlabel(\"epoch * iteration\")\n",
    "        plt.ylabel(\"average_cross_entropy_loss\")\n",
    "        plt.title(\"Learning Curve : value of cost function\")\n",
    "        plt.legend(loc=\"best\")\n",
    "        \n",
    "        # 予測精度を描画\n",
    "        plt.subplot(1,2,2)\n",
    "        plt.plot(iteration, accuracy_train, label = \"accuracy_train\", color=\"b\")\n",
    "        if accuracy_val is not []:\n",
    "            plt.plot(iteration, accuracy_val, label=\"accuracy_val\", color=\"r\")\n",
    "        plt.xlabel(\"epoch * iteration\")\n",
    "        plt.ylabel(\"accuracy\")\n",
    "        plt.title(\"Learning Curve : accuracy\")\n",
    "        plt.legend(loc=\"best\")\n",
    "        \n",
    "        # グラフ表示\n",
    "        plt.tight_layout()\n",
    "        plt.show()\n",
    "        \n",
    "class GetMiniBatch:\n",
    "    \"\"\"\n",
    "    ミニバッチを取得するイテレータ\n",
    "\n",
    "    Parameters\n",
    "    ----------\n",
    "    X : 次の形のndarray, shape (n_samples, n_features)\n",
    "      学習データ\n",
    "      \n",
    "    y : 次の形のndarray, shape (n_samples, 1)\n",
    "      正解値\n",
    "    \n",
    "    batch_size : int\n",
    "      バッチサイズ\n",
    "    \n",
    "    seed : int\n",
    "      NumPyの乱数のシード\n",
    "    \"\"\"\n",
    "    def __init__(self, X, y, batch_size = 10, seed=0):\n",
    "        self.batch_size = batch_size\n",
    "        np.random.seed(seed)\n",
    "        shuffle_index = np.random.permutation(np.arange(X.shape[0]))\n",
    "        self.X = X[shuffle_index]\n",
    "        self.y = y[shuffle_index]\n",
    "        self._stop = np.ceil(X.shape[0]/self.batch_size).astype(np.int)\n",
    "\n",
    "    def __len__(self):\n",
    "        return self._stop\n",
    "\n",
    "    def __getitem__(self,item):\n",
    "        p0 = item*self.batch_size\n",
    "        p1 = item*self.batch_size + self.batch_size\n",
    "        return self.X[p0:p1], self.y[p0:p1]        \n",
    "\n",
    "    def __iter__(self):\n",
    "        self._counter = 0\n",
    "        return self\n",
    "\n",
    "    def __next__(self):\n",
    "        if self._counter >= self._stop:\n",
    "            raise StopIteration()\n",
    "        p0 = self._counter*self.batch_size\n",
    "        p1 = self._counter*self.batch_size + self.batch_size\n",
    "        self._counter += 1\n",
    "        return self.X[p0:p1], self.y[p0:p1]"
   ]
  },
  {
   "cell_type": "markdown",
   "metadata": {},
   "source": [
    "### 検証"
   ]
  },
  {
   "cell_type": "code",
   "execution_count": 74,
   "metadata": {},
   "outputs": [],
   "source": [
    "# インスタンス生成(Multi-layer Perceptron classifier)\n",
    "clf = ScratchSimpleNeuralNetworkClassifier(batch_size=30, epoch=5, n_nodes1=400, n_nodes2=200, verbose=False)"
   ]
  },
  {
   "cell_type": "code",
   "execution_count": 75,
   "metadata": {
    "scrolled": true
   },
   "outputs": [
    {
     "data": {
      "application/vnd.jupyter.widget-view+json": {
       "model_id": "e875a04930a4497ab09dafb0cd5e50d2",
       "version_major": 2,
       "version_minor": 0
      },
      "text/plain": [
       "HBox(children=(IntProgress(value=0, max=5), HTML(value='')))"
      ]
     },
     "metadata": {},
     "output_type": "display_data"
    },
    {
     "data": {
      "application/vnd.jupyter.widget-view+json": {
       "model_id": "cb19fd4e4cfd4ae69cd6e43306ef587b",
       "version_major": 2,
       "version_minor": 0
      },
      "text/plain": [
       "HBox(children=(IntProgress(value=0, max=1600), HTML(value='')))"
      ]
     },
     "metadata": {},
     "output_type": "display_data"
    },
    {
     "data": {
      "application/vnd.jupyter.widget-view+json": {
       "model_id": "428573eb6c1f444bbf22513349d5aec6",
       "version_major": 2,
       "version_minor": 0
      },
      "text/plain": [
       "HBox(children=(IntProgress(value=0, max=1600), HTML(value='')))"
      ]
     },
     "metadata": {},
     "output_type": "display_data"
    },
    {
     "data": {
      "application/vnd.jupyter.widget-view+json": {
       "model_id": "f6224c4ad5294f86b4e490beef9bd851",
       "version_major": 2,
       "version_minor": 0
      },
      "text/plain": [
       "HBox(children=(IntProgress(value=0, max=1600), HTML(value='')))"
      ]
     },
     "metadata": {},
     "output_type": "display_data"
    },
    {
     "data": {
      "application/vnd.jupyter.widget-view+json": {
       "model_id": "6fa31eb9cddd484597a63b0d807c3d6d",
       "version_major": 2,
       "version_minor": 0
      },
      "text/plain": [
       "HBox(children=(IntProgress(value=0, max=1600), HTML(value='')))"
      ]
     },
     "metadata": {},
     "output_type": "display_data"
    },
    {
     "data": {
      "application/vnd.jupyter.widget-view+json": {
       "model_id": "a9e007f3cd114bd2aa134439c28a65e5",
       "version_major": 2,
       "version_minor": 0
      },
      "text/plain": [
       "HBox(children=(IntProgress(value=0, max=1600), HTML(value='')))"
      ]
     },
     "metadata": {},
     "output_type": "display_data"
    },
    {
     "name": "stdout",
     "output_type": "stream",
     "text": [
      "CPU times: user 30 µs, sys: 0 ns, total: 30 µs\n",
      "Wall time: 11.9 µs\n"
     ]
    }
   ],
   "source": [
    "# 学習\n",
    "clf.fit(X_train, y_train, X_val, y_val)\n",
    "%time"
   ]
  },
  {
   "cell_type": "markdown",
   "metadata": {},
   "source": [
    "### 【問題2】学習曲線のプロット"
   ]
  },
  {
   "cell_type": "code",
   "execution_count": 76,
   "metadata": {
    "scrolled": true
   },
   "outputs": [
    {
     "data": {
      "image/png": "[encoded data removed]",
      "text/plain": [
       "<Figure size 864x288 with 2 Axes>"
      ]
     },
     "metadata": {},
     "output_type": "display_data"
    }
   ],
   "source": [
    "# 学習曲線\n",
    "clf.show_learning_curve()"
   ]
  },
  {
   "cell_type": "markdown",
   "metadata": {},
   "source": [
    "- epochを重ねるごとに損失（交差エントロピー誤差）が減少しており、学習が進んでいる様子を確認できる。\n",
    "- 検証用データによる交差エントロピー誤差も漸減し、またaccuracyも漸増していることから、過剰適合は生じていないことが確認された。"
   ]
  },
  {
   "cell_type": "markdown",
   "metadata": {},
   "source": [
    "### 【問題3】指標値の算出\n",
    "\n",
    "分類に関する指標値で精度を確認する。"
   ]
  },
  {
   "cell_type": "code",
   "execution_count": 79,
   "metadata": {},
   "outputs": [
    {
     "data": {
      "text/html": [
       "<div>\n",
       "<style scoped>\n",
       "    .dataframe tbody tr th:only-of-type {\n",
       "        vertical-align: middle;\n",
       "    }\n",
       "\n",
       "    .dataframe tbody tr th {\n",
       "        vertical-align: top;\n",
       "    }\n",
       "\n",
       "    .dataframe thead th {\n",
       "        text-align: right;\n",
       "    }\n",
       "</style>\n",
       "<table border=\"1\" class=\"dataframe\">\n",
       "  <thead>\n",
       "    <tr style=\"text-align: right;\">\n",
       "      <th></th>\n",
       "      <th>score</th>\n",
       "    </tr>\n",
       "  </thead>\n",
       "  <tbody>\n",
       "    <tr>\n",
       "      <th>accuracy</th>\n",
       "      <td>0.91</td>\n",
       "    </tr>\n",
       "    <tr>\n",
       "      <th>precision</th>\n",
       "      <td>0.91</td>\n",
       "    </tr>\n",
       "    <tr>\n",
       "      <th>recall</th>\n",
       "      <td>0.91</td>\n",
       "    </tr>\n",
       "    <tr>\n",
       "      <th>f1</th>\n",
       "      <td>0.91</td>\n",
       "    </tr>\n",
       "  </tbody>\n",
       "</table>\n",
       "</div>"
      ],
      "text/plain": [
       "           score\n",
       "accuracy    0.91\n",
       "precision   0.91\n",
       "recall      0.91\n",
       "f1          0.91"
      ]
     },
     "execution_count": 79,
     "metadata": {},
     "output_type": "execute_result"
    }
   ],
   "source": [
    "# 検証用データの特徴量に基づく予測\n",
    "y_pred = clf.predict(X_test)\n",
    "\n",
    "# パラメータ\n",
    "average=\"micro\"\n",
    "index = [\"accuracy\", \"precision\", \"recall\", \"f1\"]\n",
    "\n",
    "# 評価指標を算出\n",
    "accuracy = np.round(accuracy_score(y_test, y_pred), 2)\n",
    "precision = np.round(precision_score(y_test, y_pred, average=average), 2)\n",
    "recall = np.round(recall_score(y_test, y_pred, average=average), 2)\n",
    "f1 = np.round(f1_score(y_test, y_pred, average=average), 2)\n",
    "\n",
    "# 出力\n",
    "df = pd.DataFrame([accuracy, precision, recall, f1], index=index, columns=[\"score\"])\n",
    "df"
   ]
  },
  {
   "cell_type": "markdown",
   "metadata": {},
   "source": [
    "### （オプション）誤分類の確認\n",
    "\n",
    "- 誤分類した画像はどのようなものだったかを見てみる。\n",
    "- 推定値を用意し、以下のコードを実行する。"
   ]
  },
  {
   "cell_type": "code",
   "execution_count": 80,
   "metadata": {
    "scrolled": false
   },
   "outputs": [
    {
     "name": "stderr",
     "output_type": "stream",
     "text": [
      "/Users/makintosh/.pyenv/versions/anaconda3-5.3.1/lib/python3.7/site-packages/ipykernel_launcher.py:15: DeprecationWarning: elementwise == comparison failed; this will raise an error in the future.\n",
      "  from ipykernel import kernelapp as app\n"
     ]
    },
    {
     "data": {
      "image/png": "[encoded data removed]",
      "text/plain": [
       "<Figure size 432x432 with 1 Axes>"
      ]
     },
     "metadata": {},
     "output_type": "display_data"
    }
   ],
   "source": [
    "\"\"\"\n",
    "誤分類結果を並べて表示する。画像の上の表示は「推定結果/正解」である。\n",
    "\n",
    "Parameters:\n",
    "----------\n",
    "y_pred : 推定値のndarray (n_samples,)\n",
    "y_val : 検証用データの正解ラベル(n_samples,)\n",
    "X_val : 検証用データの特徴量（n_samples, n_features)\n",
    "\"\"\"\n",
    "import numpy as np\n",
    "import matplotlib.pyplot as plt\n",
    "\n",
    "num = 36 # いくつ表示するか\n",
    "\n",
    "true_false = y_pred==y_val\n",
    "false_list = np.where(true_false==False)[0].astype(np.int)\n",
    "\n",
    "if false_list.shape[0] < num:\n",
    "    num = false_list.shape[0]\n",
    "fig = plt.figure(figsize=(6, 6))\n",
    "fig.subplots_adjust(left=0, right=0.8,  bottom=0, top=0.8, hspace=1, wspace=0.5)\n",
    "for i in range(num):\n",
    "    ax = fig.add_subplot(6, 6, i + 1, xticks=[], yticks=[])\n",
    "    ax.set_title(\"{} / {}\".format(y_pred[false_list[i]],y_val[false_list[i]]))\n",
    "    ax.imshow(X_val.reshape(-1,28,28)[false_list[i]], cmap='gray')"
   ]
  },
  {
   "cell_type": "markdown",
   "metadata": {},
   "source": [
    "### 正解率"
   ]
  },
  {
   "cell_type": "code",
   "execution_count": 83,
   "metadata": {
    "scrolled": false
   },
   "outputs": [
    {
     "data": {
      "image/png": "[encoded data removed]",
      "text/plain": [
       "<Figure size 720x576 with 2 Axes>"
      ]
     },
     "metadata": {},
     "output_type": "display_data"
    }
   ],
   "source": [
    "# カウント\n",
    "true_false  = np.zeros(100).reshape(10,10)\n",
    "\n",
    "# 正解ラベル、予測値の正誤表を作成\n",
    "for i in range(len(y_test)):\n",
    "    true = y_test[i]\n",
    "    pred = y_pred[i]\n",
    "    \n",
    "    true_false[true][pred] += 1\n",
    "\n",
    "# パーセンテージ換算\n",
    "true_false = np.round(true_false / np.sum(true_false, axis=1), 2)\n",
    "\n",
    "# 可視化\n",
    "plt.figure(figsize=(10, 8))\n",
    "sns.heatmap(true_false, annot=True, cmap=\"GnBu\")\n",
    "plt.xlabel(\"y_pred\")\n",
    "plt.ylabel(\"y_true\")\n",
    "plt.title(\"Accuracy of predicting digits.\")\n",
    "plt.show()"
   ]
  },
  {
   "cell_type": "markdown",
   "metadata": {},
   "source": [
    "- 予測の結果、正解率はいずれの数値も80%を超える結果となった。\n",
    "\n",
    "- 数値毎の正解率に偏りがみられるが、エポック数を増やし、学習を進めることで全体的に正解率が向上すると思われる。"
   ]
  },
  {
   "cell_type": "markdown",
   "metadata": {},
   "source": [
    "### 本課題からの学び\n",
    "\n",
    "1. スクラッチ実装を通じて、ニューラルネットワークの要点を理解することができた。\n",
    "    - パラメータの初期値：\n",
    "        - レイヤー、ノードの数：何層にするか？\n",
    "        - 初期値はランダムに設定する（同じ値で初期化すると精度が上がらなかった）\n",
    "    - 順伝播、逆伝播：\n",
    "        - 連鎖律（和、積の違い）を理解する。\n",
    "        - 逆伝播においては平均誤差（誤差をバッチサイズで除した値）を用いることで、推計されるパラメータが不偏推定量（学習曲線の振幅が抑えられる）になる。\n",
    "    - 損失関数：回帰の場合は交差エントロピー誤差。ニューラルネットワークでは回帰も可能。その場合は平均二乗誤差を用いるのが良さそう。）\n",
    "    - ミニバッチ処理：データを分割、処理することで計算を効率的に行うことができる。（メモリの制約等で一度に全てのデータを処理できないこともある）\n",
    "\n",
    "\n",
    "2. スクラッチ実装時の留意点\n",
    "    - 行列の形状、ブロードキャスティング、sumやmeanを計算する際のaxisの指定に注意する。\n",
    "    - 学習曲線の挙動を確認する\n",
    "    - 推定結果を可視化して確かめる。（今回は多値分類なのでヒートマップを試した）\n"
   ]
  },
  {
   "cell_type": "markdown",
   "metadata": {},
   "source": [
    "### 補足\n",
    "\n",
    "GetMiniBatchクラスを書き換えると、検証用データもミニバッチ処理できる。"
   ]
  },
  {
   "cell_type": "code",
   "execution_count": null,
   "metadata": {},
   "outputs": [],
   "source": [
    "class GetMiniBatch:\n",
    "    \"\"\"\n",
    "    ミニバッチを取得するイテレータ\n",
    "\n",
    "    Parameters\n",
    "    ----------\n",
    "    X : 次の形のndarray, shape (n_samples, n_features)\n",
    "      学習データ\n",
    "      \n",
    "    y : 次の形のndarray, shape (n_samples, 1)\n",
    "      正解値\n",
    "    \n",
    "    batch_size : int\n",
    "      バッチサイズ\n",
    "    \n",
    "    seed : int\n",
    "      NumPyの乱数のシード\n",
    "    \"\"\"\n",
    "    def __init__(self, X, y, X_val=None, y_val=None, batch_size = 10, seed=0):\n",
    "        self.batch_size = batch_size\n",
    "        np.random.seed(seed)\n",
    "        shuffle_index_train = np.random.permutation(np.arange(X.shape[0]))\n",
    "        shuffle_index_val = np.random.permutation(np.arange(X_val.shape[0]))\n",
    "        self.X = X[shuffle_index_train]\n",
    "        self.y = y[shuffle_index_train]\n",
    "        self._stop = np.ceil(X.shape[0]/self.batch_size).astype(np.int)\n",
    "        \n",
    "        if (X_val is not None) and (y_val is not None):\n",
    "            self.X_val = X_val[shuffle_index_val]\n",
    "            self.y_val = y_val[shuffle_index_val]        \n",
    "\n",
    "    def __len__(self):\n",
    "        return self._stop\n",
    "\n",
    "    def __getitem__(self, item):\n",
    "        p0 = item*self.batch_size\n",
    "        p1 = item*self.batch_size + self.batch_size\n",
    "        return self.X[p0:p1], self.y[p0:p1], self.X_val[p0:p1], self.y_val[p0:p1]\n",
    "\n",
    "    def __iter__(self):\n",
    "        self._counter = 0\n",
    "        return self\n",
    "\n",
    "    def __next__(self):\n",
    "        if self._counter >= self._stop:\n",
    "            raise StopIteration()\n",
    "        p0 = self._counter*self.batch_size\n",
    "        p1 = self._counter*self.batch_size + self.batch_size\n",
    "        self._counter += 1\n",
    "        return self.X[p0:p1], self.y[p0:p1], self.X_val[p0:p1], self.y_val[p0:p1]"
   ]
  }
 ],
 "metadata": {
  "kernelspec": {
   "display_name": "Python 3",
   "language": "python",
   "name": "python3"
  },
  "language_info": {
   "codemirror_mode": {
    "name": "ipython",
    "version": 3
   },
   "file_extension": ".py",
   "mimetype": "text/x-python",
   "name": "python",
   "nbconvert_exporter": "python",
   "pygments_lexer": "ipython3",
   "version": "3.7.0"
  }
 },
 "nbformat": 4,
 "nbformat_minor": 2
}
