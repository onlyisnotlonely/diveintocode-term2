{
 "cells": [
  {
   "cell_type": "markdown",
   "metadata": {},
   "source": [
    "# Sprint14課題 ディープラーニングフレームワーク1"
   ]
  },
  {
   "cell_type": "markdown",
   "metadata": {},
   "source": [
    "## 1.この課題の目的\n",
    "\n",
    "- フレームワークのコードを読めるようにする\n",
    "- フレームワークを習得し続けられるようになる\n",
    "- 理論を知っている範囲をフレームワークで動かす"
   ]
  },
  {
   "cell_type": "markdown",
   "metadata": {},
   "source": [
    "## 2.コードリーディング\n",
    "TensorFLowによって2値分類を行うサンプルコードををベースに進める。\n",
    "\n",
    "tf.kerasやtf.estimatorなどの高レベルAPIは使用せず、低レベルから見ていく。"
   ]
  },
  {
   "cell_type": "markdown",
   "metadata": {},
   "source": [
    "## 【問題1】スクラッチを振り返る\n",
    "\n",
    "ここまでのスクラッチを振り返り、ディープラーニングを実装するためにはどのようなものが必要だったかを列挙する。"
   ]
  },
  {
   "cell_type": "markdown",
   "metadata": {},
   "source": [
    "### ディープラーニングの実装に必要な準備\n",
    "\n",
    "1. データセットを用意する（データ型、shape）\n",
    "\n",
    "\n",
    "2. 目的関数（損失）を定義する（問題の種類（分類、回帰）で異なることに注意）\n",
    "\n",
    "\n",
    "3. ネットワークの以下クラスで誤差順伝播法、誤差逆伝播法のメソッドを定義）\n",
    "    - レイヤー：全結合層、畳み込み層、プーリング層\n",
    "    - 活性化関数：Sigmoid, Hyperbolic Tangent, ReLU\n",
    "\n",
    "\n",
    "4. 各レイヤーのクラスを作成する際は、引数として以下のクラスを入れる\n",
    "    - パラメータ初期値設定のアルゴリズム：SimpleInitializer, XavierInitializer, HeInitializer\n",
    "    - パラメータ更新（学習）のアルゴリズム：SGD、AdaGrad"
   ]
  },
  {
   "cell_type": "markdown",
   "metadata": {},
   "source": [
    "## 【問題2】スクラッチとTensorFlowの対応を考える\n",
    "\n",
    "問題１で列挙した「ディープラーニングを実装するために必要なもの」がTensorFlowではどう実装されているかを確認し、簡単に言葉でまとめること。\n",
    "単純な一対一の対応であるとは限らない。"
   ]
  },
  {
   "cell_type": "markdown",
   "metadata": {},
   "source": [
    "### スクラッチ実装とフレームワーク（TensorFlow）の対応関係\n",
    "\n",
    "1. 変数、パラメータの定義\n",
    "    - tf.placeholder() : 入出力を定義する。引数で「データ数、shape」を指定\n",
    "    - tf.Variable() : パラメータを定義する。\n",
    "\n",
    "\n",
    "2. 目的関数の定義\n",
    "    - 目的関数（loss_function）は、tf.nn. + 関数名（例：sigmoid_cross_entropy_with_logits）で定義\n",
    "    - 目的関数は学習時、学習後のロスの計算の２箇所で使用する。\n",
    "    - 学習時はtf.reduce_mean(loss_function)、学習後の計算ではsess.run(loss_function, feed_dict = {X:, y:})となる。\n",
    "\n",
    "\n",
    "3. ニューラルネットワークの定義\n",
    "    - 各レイヤーのインスタンス：tf.add()を用いて（計算グラフとして）定義する\n",
    "    - 活性化関数のインスタンス：tf.nn. + 活性化関数で定義する\n",
    "\n",
    "\n",
    "4. メソッド（fit, predict）の確認\n",
    "    - sess.run(train_op, dict_feed{X: X_train, Y: y_train})\n",
    "    - train_opが学習のメソッド(スクラッチ実装での.fit)を表現している。具体的には、optimizerのインスタンスが損失関数の最小化（.minimize(loss_function))を実行する。\n",
    "\n"
   ]
  },
  {
   "cell_type": "code",
   "execution_count": 1,
   "metadata": {},
   "outputs": [],
   "source": [
    "import numpy as np\n",
    "import pandas as pd\n",
    "\n",
    "import matplotlib.pyplot as plt\n",
    "import seaborn as sns\n",
    "\n",
    "from sklearn.preprocessing import OneHotEncoder, StandardScaler\n",
    "from sklearn.metrics import confusion_matrix\n",
    "\n",
    "from tqdm import tqdm_notebook as tqdm"
   ]
  },
  {
   "cell_type": "markdown",
   "metadata": {},
   "source": [
    "### 【問題3】3種類全ての目的変数を使用したIrisのモデルを作成\n",
    "\n",
    "[Iris Species](https://www.kaggle.com/uciml/iris/data)\n",
    "\n",
    "サンプルコードと同じくこの中のtrain.csvを使用する。（目的変数はSpeciesに含まれる3種類全てを使う）\n",
    "\n",
    "2クラスの分類と3クラス以上の分類の違いを考慮すること。\n",
    "\n",
    "それが、TensorFlowでどのように書き換えられるかを公式ドキュメントなどを参考に調べること。"
   ]
  },
  {
   "cell_type": "code",
   "execution_count": 2,
   "metadata": {},
   "outputs": [],
   "source": [
    "import pandas as pd\n",
    "import numpy as np\n",
    "\n",
    "from sklearn.model_selection import train_test_split\n",
    "from sklearn.preprocessing import OneHotEncoder\n",
    "from sklearn.metrics import r2_score\n",
    "\n",
    "import tensorflow as tf"
   ]
  },
  {
   "cell_type": "code",
   "execution_count": 3,
   "metadata": {},
   "outputs": [],
   "source": [
    "# データセットの準備\n",
    "dataset_path = \"Iris.csv\"\n",
    "df = pd.read_csv(dataset_path)\n",
    "\n",
    "# 多値分類なので、条件抽出は行わない\n",
    "X = df.loc[:, [\"SepalLengthCm\", \"SepalWidthCm\", \"PetalLengthCm\", \"PetalWidthCm\"]]\n",
    "y = df[\"Species\"]\n",
    "X = np.array(X)\n",
    "y = np.array(y)\n",
    "\n",
    "# ラベル値を数値に変換\n",
    "y[y=='Iris-setosa'] = 0\n",
    "y[y=='Iris-versicolor'] = 1\n",
    "y[y=='Iris-virginica'] = 2\n",
    "y = y.astype(np.int)[:, np.newaxis]"
   ]
  },
  {
   "cell_type": "code",
   "execution_count": 4,
   "metadata": {},
   "outputs": [],
   "source": [
    "# trainとtestに分割\n",
    "X_train, X_test, y_train, y_test = train_test_split(X, y, test_size=0.2, random_state=0)\n",
    "\n",
    "# さらにtrainとvalに分割\n",
    "X_train, X_val, y_train, y_val = train_test_split(X_train, y_train, test_size=0.2, random_state=0)"
   ]
  },
  {
   "cell_type": "code",
   "execution_count": 5,
   "metadata": {},
   "outputs": [],
   "source": [
    "# one hot encoding\n",
    "enc = OneHotEncoder(handle_unknown=\"ignore\", sparse=False)\n",
    "y_test = enc.fit(y_test).transform(y_test)\n",
    "y_train = enc.fit(y_train).transform(y_train)\n",
    "y_val = enc.fit(y_val).transform(y_val)"
   ]
  },
  {
   "cell_type": "code",
   "execution_count": 6,
   "metadata": {},
   "outputs": [
    {
     "data": {
      "text/plain": [
       "(96, 3)"
      ]
     },
     "execution_count": 6,
     "metadata": {},
     "output_type": "execute_result"
    }
   ],
   "source": [
    "y_train.shape"
   ]
  },
  {
   "cell_type": "code",
   "execution_count": 7,
   "metadata": {},
   "outputs": [
    {
     "data": {
      "text/plain": [
       "(array([0., 1.]), array([192,  96]))"
      ]
     },
     "execution_count": 7,
     "metadata": {},
     "output_type": "execute_result"
    }
   ],
   "source": [
    "# データの不均衡度を確認\n",
    "np.unique(y_train, return_counts=True)"
   ]
  },
  {
   "cell_type": "code",
   "execution_count": 8,
   "metadata": {},
   "outputs": [],
   "source": [
    "class GetMiniBatch:\n",
    "    \"\"\"\n",
    "    ミニバッチを取得するイテレータ\n",
    "\n",
    "    Parameters\n",
    "    ----------\n",
    "    X : 次の形のndarray, shape (n_samples, n_features)\n",
    "      学習データ\n",
    "    y : 次の形のndarray, shape (n_samples, 1)\n",
    "      正解値\n",
    "    batch_size : int\n",
    "      バッチサイズ\n",
    "    seed : int\n",
    "      NumPyの乱数のシード\n",
    "    \"\"\"\n",
    "    def __init__(self, X, y, batch_size = 10, seed=0):\n",
    "        self.batch_size = batch_size\n",
    "        np.random.seed(seed)\n",
    "        shuffle_index = np.random.permutation(np.arange(X.shape[0]))\n",
    "        self.X = X[shuffle_index]\n",
    "        self.y = y[shuffle_index]\n",
    "        self._stop = np.ceil(X.shape[0]/self.batch_size).astype(np.int)\n",
    "    def __len__(self):\n",
    "        return self._stop\n",
    "    def __getitem__(self,item):\n",
    "        p0 = item*self.batch_size\n",
    "        p1 = item*self.batch_size + self.batch_size\n",
    "        return self.X[p0:p1], self.y[p0:p1]        \n",
    "    def __iter__(self):\n",
    "        self._counter = 0\n",
    "        return self\n",
    "    def __next__(self):\n",
    "        if self._counter >= self._stop:\n",
    "            raise StopIteration()\n",
    "        p0 = self._counter*self.batch_size\n",
    "        p1 = self._counter*self.batch_size + self.batch_size\n",
    "        self._counter += 1\n",
    "        return self.X[p0:p1], self.y[p0:p1]"
   ]
  },
  {
   "cell_type": "code",
   "execution_count": 9,
   "metadata": {},
   "outputs": [],
   "source": [
    "# ハイパーパラメータの設定\n",
    "learning_rate = 0.01\n",
    "batch_size = 10\n",
    "num_epochs = 100\n",
    "\n",
    "n_hidden1 = 50\n",
    "n_hidden2 = 100\n",
    "n_input = X_train.shape[1]\n",
    "n_samples = X_train.shape[0]\n",
    "n_classes = 3"
   ]
  },
  {
   "cell_type": "code",
   "execution_count": 10,
   "metadata": {},
   "outputs": [
    {
     "name": "stdout",
     "output_type": "stream",
     "text": [
      "Tensor(\"Placeholder:0\", shape=(?, 4), dtype=float32)\n",
      "Tensor(\"Placeholder_1:0\", shape=(?, 3), dtype=float32)\n"
     ]
    }
   ],
   "source": [
    "# 計算グラフに渡す引数の形を決める\n",
    "X = tf.placeholder(\"float\", [None, n_input])\n",
    "Y = tf.placeholder(\"float\", [None, n_classes])\n",
    "print(X)\n",
    "print(Y)\n",
    "\n",
    "# trainのミニバッチイテレータ\n",
    "get_mini_batch_train = GetMiniBatch(X_train, y_train, batch_size=batch_size)"
   ]
  },
  {
   "cell_type": "code",
   "execution_count": 11,
   "metadata": {},
   "outputs": [],
   "source": [
    "def example_net(x):\n",
    "    \"\"\"\n",
    "    単純な３層ニューラルネットワーク\n",
    "    \"\"\"\n",
    "    \n",
    "    # 重みとバイアスの宣言\n",
    "    weights = {\n",
    "        \"w1\": tf.Variable(tf.random_normal([n_input, n_hidden1])),\n",
    "        \"w2\": tf.Variable(tf.random_normal([n_hidden1, n_hidden2])),\n",
    "        \"w3\": tf.Variable(tf.random_normal([n_hidden2, n_classes]))\n",
    "    }\n",
    "    \n",
    "    biases = {\n",
    "        \"b1\": tf.Variable(tf.random_normal([n_hidden1])),\n",
    "        \"b2\": tf.Variable(tf.random_normal([n_hidden2])),\n",
    "        \"b3\": tf.Variable(tf.random_normal([n_classes]))\n",
    "    }\n",
    "    \n",
    "    layer_1 = tf.add(tf.matmul(x, weights[\"w1\"]), biases[\"b1\"]) # 加算レイヤー\n",
    "    layer_1 = tf.nn.relu(layer_1) # 活性化（ReLU）\n",
    "    layer_2 = tf.add(tf.matmul(layer_1, weights[\"w2\"]), biases[\"b2\"]) # 加算レイヤー\n",
    "    layer_2 = tf.nn.relu(layer_2)\n",
    "    layer_output = tf.matmul(layer_2, weights[\"w3\"]) + biases[\"b3\"]\n",
    "    \n",
    "    return layer_output"
   ]
  },
  {
   "cell_type": "code",
   "execution_count": 12,
   "metadata": {},
   "outputs": [
    {
     "name": "stdout",
     "output_type": "stream",
     "text": [
      "WARNING:tensorflow:From /Users/makintosh/.pyenv/versions/anaconda3-5.3.1/lib/python3.7/site-packages/tensorflow/python/framework/op_def_library.py:263: colocate_with (from tensorflow.python.framework.ops) is deprecated and will be removed in a future version.\n",
      "Instructions for updating:\n",
      "Colocations handled automatically by placer.\n"
     ]
    }
   ],
   "source": [
    "# ネットワーク構造の読み込み\n",
    "logits = example_net(X)"
   ]
  },
  {
   "cell_type": "code",
   "execution_count": 13,
   "metadata": {},
   "outputs": [],
   "source": [
    "# 目的関数\n",
    "loss_op = tf.reduce_mean(tf.nn.softmax_cross_entropy_with_logits_v2(labels=Y, logits=logits))\n",
    "\n",
    "# 最適化手法\n",
    "optimizer = tf.train.AdamOptimizer(learning_rate=learning_rate)\n",
    "train_op = optimizer.minimize(loss_op)\n",
    "\n",
    "# 推定結果\n",
    "pred = tf.argmax(tf.nn.softmax(logits), axis=1)\n",
    "correct_pred = tf.equal(tf.argmax(Y, axis=1), tf.argmax(tf.nn.softmax(logits), axis=1))\n",
    "\n",
    "# 指標値計算\n",
    "accuracy = tf.reduce_mean(tf.cast(correct_pred, tf.float32))"
   ]
  },
  {
   "cell_type": "code",
   "execution_count": 14,
   "metadata": {
    "scrolled": true
   },
   "outputs": [
    {
     "name": "stdout",
     "output_type": "stream",
     "text": [
      "test_acc : 1.000\n",
      "\n",
      "Predicted classes for train data.\n",
      "[1 0 2 0 2 2 1 0 2 0 2 2 0 0 2 2 0 2 0 0 2 2 1 0 2 0 2 1 2 1 2 0 1 2 1 2 0\n",
      " 2 0 1 2 1 0 2 1 1 2 1 1 0 1 0 0 2 2 2 0 1 2 2 1 1 2 2 1 0 0 1 1 1 0 2 2 0\n",
      " 1 2 0 0 2 0 2 2 0 0 1 1 2 0 1 1 0 0 2 1 1 1]\n"
     ]
    }
   ],
   "source": [
    "# variableの初期化\n",
    "init = tf.global_variables_initializer()\n",
    "\n",
    "# 計算グラフの実行\n",
    "with tf.Session() as sess:\n",
    "    sess.run(init)\n",
    "    for epoch in range(num_epochs):\n",
    "        total_batch = np.ceil(X_train.shape[0]/batch_size).astype(np.int)\n",
    "        total_loss = 0\n",
    "        total_acc = 0\n",
    "        \n",
    "        for i , (mini_batch_x, mini_batch_y) in enumerate(get_mini_batch_train):\n",
    "            \n",
    "            sess.run(train_op, feed_dict={X: mini_batch_x, Y: mini_batch_y})\n",
    "            loss, acc = sess.run([loss_op, accuracy], feed_dict={X: mini_batch_x, Y: mini_batch_y})\n",
    "            total_loss += loss\n",
    "            total_acc += acc\n",
    "        \n",
    "        total_loss /= n_samples\n",
    "        total_acc /= n_samples\n",
    "        val_loss, val_acc = sess.run([loss_op, accuracy], feed_dict={X: X_val, Y: y_val})\n",
    "        #print(\"Epoch {}, loss : {:.4f}, val_loss : {:.4f}, acc : {:.3f}, val_acc : {:.3f}\".format(epoch, loss, val_loss, acc, val_acc))\n",
    "    test_acc = sess.run(accuracy, feed_dict={X: X_test, Y: y_test})\n",
    "    y_pred = sess.run(pred, feed_dict={X: X_test, Y: y_test})\n",
    "    print(\"test_acc : {:.3f}\\n\".format(test_acc))\n",
    "    \n",
    "    classified = sess.run(pred, feed_dict={\n",
    "        X:X_train,\n",
    "        Y:y_train\n",
    "    })\n",
    "    \n",
    "    print(\"Predicted classes for train data.\")\n",
    "    print(classified)"
   ]
  },
  {
   "cell_type": "markdown",
   "metadata": {},
   "source": [
    "#### 結果の可視化"
   ]
  },
  {
   "cell_type": "code",
   "execution_count": 15,
   "metadata": {
    "scrolled": true
   },
   "outputs": [],
   "source": [
    "# one-hot ラベルをmulti-labelへ戻す\n",
    "y_true = []\n",
    "\n",
    "for i in range(len(y_test)):\n",
    "    y_true.append(int(np.where(y_test[i] == 1)[0]))\n",
    "\n",
    "results = pd.DataFrame(y_true, columns=[\"true\"])\n",
    "results[\"pred\"] = y_pred"
   ]
  },
  {
   "cell_type": "markdown",
   "metadata": {},
   "source": [
    "- 1件（index：21）のみクラス1をクラス２に誤分類しているが、その他は全て正解と予測が一致している。"
   ]
  },
  {
   "cell_type": "code",
   "execution_count": 16,
   "metadata": {},
   "outputs": [
    {
     "data": {
      "image/png": "[encoded data removed]",
      "text/plain": [
       "<Figure size 432x288 with 2 Axes>"
      ]
     },
     "metadata": {
      "needs_background": "light"
     },
     "output_type": "display_data"
    }
   ],
   "source": [
    "# ラベルの生成\n",
    "labels = np.unique(y_true)\n",
    "    \n",
    "# 混同行列を生成\n",
    "cmx = confusion_matrix(y_true, y_pred, labels=labels)\n",
    "df = pd.DataFrame(cmx, index=labels, columns=labels)\n",
    "\n",
    "# 正解率（accuracy）に変換\n",
    "df = df.apply(lambda x: round(x/sum(x), 2), axis=1)\n",
    "\n",
    "# ヒートマップによる混同行列の可視化\n",
    "sns.heatmap(df, annot=True, cmap=\"GnBu\")\n",
    "plt.xlabel(\"pred\")\n",
    "plt.ylabel(\"true\")\n",
    "plt.title(\"Accuracy\")\n",
    "plt.show()"
   ]
  },
  {
   "cell_type": "markdown",
   "metadata": {},
   "source": [
    "## 【問題4】House Pricesのモデルを作成\n",
    "\n",
    "回帰問題のデータセットであるHouse Pricesを使用したモデルを作成する。\n",
    "\n",
    "[House Prices: Advanced Regression Techniques](https://www.kaggle.com/c/house-prices-advanced-regression-techniques/data)\n",
    "\n",
    "この中のtrain.csvをダウンロードし、目的変数として[SalePrice]、説明変数として[GrLivArea, YearBuilt]を使うこと。\n",
    "（説明変数はさらに増やしても構わない）\n",
    "\n",
    "分類問題と回帰問題の違いを考慮すること。"
   ]
  },
  {
   "cell_type": "code",
   "execution_count": 17,
   "metadata": {},
   "outputs": [],
   "source": [
    "def example_net_HP(x):\n",
    "    \"\"\"\n",
    "    単純な３層ニューラルネットワーク\n",
    "    \"\"\"\n",
    "    \n",
    "    # 重みとバイアスの宣言\n",
    "    weights = {\n",
    "        \"w1\": tf.Variable(tf.random_normal([n_input_HP, n_hidden1_HP])),\n",
    "        \"w2\": tf.Variable(tf.random_normal([n_hidden1_HP, n_hidden2_HP])),\n",
    "        \"w3\": tf.Variable(tf.random_normal([n_hidden2_HP, n_classes_HP]))\n",
    "    }\n",
    "    \n",
    "    biases = {\n",
    "        \"b1\": tf.Variable(tf.random_normal([n_hidden1_HP])),\n",
    "        \"b2\": tf.Variable(tf.random_normal([n_hidden2_HP])),\n",
    "        \"b3\": tf.Variable(tf.random_normal([n_classes_HP]))\n",
    "    }\n",
    "    \n",
    "    layer_1 = tf.add(tf.matmul(x, weights[\"w1\"]), biases[\"b1\"]) # 加算レイヤー\n",
    "    layer_1 = tf.nn.relu(layer_1) # 活性化（ReLU）\n",
    "    layer_2 = tf.add(tf.matmul(layer_1, weights[\"w2\"]), biases[\"b2\"]) # 加算レイヤー\n",
    "    layer_2 = tf.nn.relu(layer_2)\n",
    "    layer_output = tf.matmul(layer_2, weights[\"w3\"]) + biases[\"b3\"]\n",
    "    \n",
    "    return layer_output"
   ]
  },
  {
   "cell_type": "code",
   "execution_count": 18,
   "metadata": {},
   "outputs": [],
   "source": [
    "# データセットの準備\n",
    "df_train_HP = pd.read_csv(\"train.csv\")\n",
    "df_test_HP = pd.read_csv(\"test.csv\")\n",
    "\n",
    "# 説明変数\n",
    "X_HP = df_train_HP[[\"GrLivArea\", \"YearBuilt\"]].values\n",
    "X_HP_test = df_test_HP[[\"GrLivArea\", \"YearBuilt\"]].values\n",
    "\n",
    "# 目的変数\n",
    "y_HP = df_train_HP[\"SalePrice\"].values[:, np.newaxis]"
   ]
  },
  {
   "cell_type": "code",
   "execution_count": 19,
   "metadata": {},
   "outputs": [],
   "source": [
    "# データセットを学習用、検証用に分割\n",
    "X_train_HP, X_val_HP, y_train_HP, y_val_HP = train_test_split(X_HP, y_HP, test_size=0.2, random_state=0)"
   ]
  },
  {
   "cell_type": "code",
   "execution_count": 20,
   "metadata": {
    "scrolled": false
   },
   "outputs": [
    {
     "name": "stderr",
     "output_type": "stream",
     "text": [
      "/Users/makintosh/.pyenv/versions/anaconda3-5.3.1/lib/python3.7/site-packages/sklearn/utils/validation.py:475: DataConversionWarning: Data with input dtype int64 was converted to float64 by StandardScaler.\n",
      "  warnings.warn(msg, DataConversionWarning)\n",
      "/Users/makintosh/.pyenv/versions/anaconda3-5.3.1/lib/python3.7/site-packages/sklearn/utils/validation.py:475: DataConversionWarning: Data with input dtype int64 was converted to float64 by StandardScaler.\n",
      "  warnings.warn(msg, DataConversionWarning)\n",
      "/Users/makintosh/.pyenv/versions/anaconda3-5.3.1/lib/python3.7/site-packages/sklearn/utils/validation.py:475: DataConversionWarning: Data with input dtype int64 was converted to float64 by StandardScaler.\n",
      "  warnings.warn(msg, DataConversionWarning)\n",
      "/Users/makintosh/.pyenv/versions/anaconda3-5.3.1/lib/python3.7/site-packages/sklearn/utils/validation.py:475: DataConversionWarning: Data with input dtype int64 was converted to float64 by StandardScaler.\n",
      "  warnings.warn(msg, DataConversionWarning)\n",
      "/Users/makintosh/.pyenv/versions/anaconda3-5.3.1/lib/python3.7/site-packages/sklearn/utils/validation.py:475: DataConversionWarning: Data with input dtype int64 was converted to float64 by StandardScaler.\n",
      "  warnings.warn(msg, DataConversionWarning)\n",
      "/Users/makintosh/.pyenv/versions/anaconda3-5.3.1/lib/python3.7/site-packages/sklearn/utils/validation.py:475: DataConversionWarning: Data with input dtype int64 was converted to float64 by StandardScaler.\n",
      "  warnings.warn(msg, DataConversionWarning)\n"
     ]
    }
   ],
   "source": [
    "# 説明変数を平準化\n",
    "ss = StandardScaler()\n",
    "X_train_std_HP = ss.fit_transform(X_train_HP)\n",
    "X_val_std_HP = ss.fit_transform(X_val_HP)\n",
    "X_test_std_HP = ss.fit_transform(X_HP_test)"
   ]
  },
  {
   "cell_type": "code",
   "execution_count": 21,
   "metadata": {},
   "outputs": [],
   "source": [
    "# ハイパーパラメータの設定\n",
    "learning_rate_HP = 0.5\n",
    "batch_size_HP = 30\n",
    "num_epochs_HP = 200\n",
    "\n",
    "n_hidden1_HP = 50\n",
    "n_hidden2_HP = 100\n",
    "n_input_HP = X_train_std_HP.shape[1]\n",
    "n_samples_HP = X_train_std_HP.shape[0]\n",
    "n_classes_HP = 1"
   ]
  },
  {
   "cell_type": "code",
   "execution_count": 22,
   "metadata": {},
   "outputs": [
    {
     "name": "stdout",
     "output_type": "stream",
     "text": [
      "Tensor(\"Placeholder_2:0\", shape=(?, 2), dtype=float32)\n",
      "Tensor(\"Placeholder_3:0\", shape=(?, 1), dtype=float32)\n"
     ]
    }
   ],
   "source": [
    "# 計算グラフに渡す引数の形を決める\n",
    "X_HP = tf.placeholder(\"float\", [None, n_input_HP])\n",
    "Y_HP = tf.placeholder(\"float\", [None, n_classes_HP])\n",
    "print(X_HP)\n",
    "print(Y_HP)\n",
    "\n",
    "# trainのミニバッチイテレータ\n",
    "get_mini_batch_train_HP = GetMiniBatch(X_train_std_HP, y_train_HP, batch_size=batch_size_HP)"
   ]
  },
  {
   "cell_type": "code",
   "execution_count": 23,
   "metadata": {},
   "outputs": [
    {
     "name": "stdout",
     "output_type": "stream",
     "text": [
      "WARNING:tensorflow:From /Users/makintosh/.pyenv/versions/anaconda3-5.3.1/lib/python3.7/site-packages/tensorflow/python/ops/losses/losses_impl.py:667: to_float (from tensorflow.python.ops.math_ops) is deprecated and will be removed in a future version.\n",
      "Instructions for updating:\n",
      "Use tf.cast instead.\n"
     ]
    }
   ],
   "source": [
    "# ネットワーク構造の読み込み\n",
    "logits_HP = example_net_HP(X_HP)\n",
    "\n",
    "# 目的関数\n",
    "loss_op_HP = tf.losses.mean_squared_error(labels=Y_HP, predictions=logits_HP)\n",
    "\n",
    "# 最適化手法\n",
    "optimizer_HP = tf.train.AdamOptimizer(learning_rate=learning_rate_HP)\n",
    "train_op_HP = optimizer_HP.minimize(loss_op_HP)\n",
    "\n",
    "# 推定結果（線形問題）\n",
    "pred_HP = logits_HP"
   ]
  },
  {
   "cell_type": "code",
   "execution_count": 24,
   "metadata": {},
   "outputs": [
    {
     "name": "stdout",
     "output_type": "stream",
     "text": [
      "Coefficient of determination for train data : 0.72\n",
      "Coefficient of determination for validation data : 0.60\n",
      "\n"
     ]
    }
   ],
   "source": [
    "# variableの初期化\n",
    "init_HP = tf.global_variables_initializer()\n",
    "\n",
    "# 計算グラフの実行\n",
    "with tf.Session() as sess:\n",
    "    sess.run(init_HP)\n",
    "    \n",
    "    for epoch in range(num_epochs_HP):\n",
    "        total_batch = np.ceil(X_train_HP.shape[0]/batch_size).astype(np.int)\n",
    "        \n",
    "        for i , (mini_batch_x, mini_batch_y) in enumerate(get_mini_batch_train_HP):\n",
    "            \n",
    "            sess.run(train_op_HP, feed_dict={X_HP: mini_batch_x, Y_HP: mini_batch_y})\n",
    "            \n",
    "            loss = sess.run(loss_op_HP, feed_dict={X_HP: mini_batch_x, Y_HP: mini_batch_y})\n",
    "            total_loss += loss        \n",
    "    \n",
    "    y_train_pred = sess.run(pred_HP, feed_dict={X_HP: X_train_std_HP}) # 予測\n",
    "    train_r2 = r2_score(y_train_HP, y_train_pred) # 決定係数\n",
    "    print(\"Coefficient of determination for train data : {:.2f}\".format(train_r2))\n",
    "    \n",
    "    y_val_pred = sess.run(pred_HP, feed_dict={X_HP: X_val_std_HP}) # 予測\n",
    "    val_r2 = r2_score(y_val_HP, y_val_pred) # 決定係数\n",
    "    print(\"Coefficient of determination for validation data : {:.2f}\\n\".format(val_r2))\n",
    "    \n",
    "    y_test_pred = sess.run(pred_HP, feed_dict={\n",
    "        X_HP:X_test_std_HP,\n",
    "    })\n",
    "    #print(\"y_test_pred\", y_test_pred)"
   ]
  },
  {
   "cell_type": "markdown",
   "metadata": {},
   "source": [
    "#### 結果の可視化"
   ]
  },
  {
   "cell_type": "code",
   "execution_count": 25,
   "metadata": {},
   "outputs": [
    {
     "data": {
      "image/png": "[encoded data removed]",
      "text/plain": [
       "<Figure size 432x288 with 1 Axes>"
      ]
     },
     "metadata": {
      "needs_background": "light"
     },
     "output_type": "display_data"
    }
   ],
   "source": [
    "# 説明変数：GrLiveArea、目的変数：House Price\n",
    "plt.scatter(X_train_std_HP[:,0], y_train_pred)\n",
    "plt.scatter(X_train_std_HP[:,0], y_train_HP)\n",
    "plt.xlabel(\"GrLivArea\")\n",
    "plt.ylabel(\"House_Price\")\n",
    "plt.title(\"Prediction of house price\")\n",
    "plt.show()"
   ]
  },
  {
   "cell_type": "code",
   "execution_count": 26,
   "metadata": {
    "scrolled": true
   },
   "outputs": [
    {
     "data": {
      "image/png": "[encoded data removed]",
      "text/plain": [
       "<Figure size 432x288 with 1 Axes>"
      ]
     },
     "metadata": {
      "needs_background": "light"
     },
     "output_type": "display_data"
    }
   ],
   "source": [
    "# 説明変数：YearBuilt、目的変数：House Price\n",
    "plt.scatter(X_train_std_HP[:,1], y_train_pred)\n",
    "plt.scatter(X_train_std_HP[:,1], y_train_HP)\n",
    "plt.xlabel(\"YearBuilt\")\n",
    "plt.ylabel(\"House_Price\")\n",
    "plt.title(\"Prediction of house price\")\n",
    "plt.show()"
   ]
  },
  {
   "cell_type": "markdown",
   "metadata": {},
   "source": [
    "- 決定係数がtrain dataで0.72、validation dataで0.59とモデルの予測精度は高くないが、回帰分析自体は正しく行われている。"
   ]
  },
  {
   "cell_type": "markdown",
   "metadata": {},
   "source": [
    "## 【問題5】MNISTのモデルを作成\n",
    "ニューラルネットワークのスクラッチで使用したMNISTを分類するモデルを作成する。\n",
    "\n",
    "3クラス以上の分類という点ではひとつ前のIrisと同様だが、入力が画像であるという点で異なる。\n",
    "\n",
    "スクラッチで実装したモデルの再現を目指すこと。"
   ]
  },
  {
   "cell_type": "code",
   "execution_count": 27,
   "metadata": {},
   "outputs": [
    {
     "name": "stderr",
     "output_type": "stream",
     "text": [
      "Using TensorFlow backend.\n"
     ]
    }
   ],
   "source": [
    "from keras.datasets import mnist"
   ]
  },
  {
   "cell_type": "code",
   "execution_count": 28,
   "metadata": {},
   "outputs": [],
   "source": [
    "(X_train_MN, y_train_MN), (X_test_MN, y_test_MN) = mnist.load_data()"
   ]
  },
  {
   "cell_type": "code",
   "execution_count": 29,
   "metadata": {},
   "outputs": [],
   "source": [
    "# 正規化\n",
    "X_train_MN = X_train_MN / np.max(X_train_MN)\n",
    "X_test_MN = X_test_MN / np.max(X_test_MN)"
   ]
  },
  {
   "cell_type": "code",
   "execution_count": 30,
   "metadata": {},
   "outputs": [],
   "source": [
    "X_train_MN = X_train_MN.reshape(-1,  784)\n",
    "X_test_MN = X_test_MN.reshape(-1,  784)"
   ]
  },
  {
   "cell_type": "code",
   "execution_count": 31,
   "metadata": {},
   "outputs": [],
   "source": [
    "# one hot encoding\n",
    "enc = OneHotEncoder(handle_unknown=\"ignore\", sparse=False)\n",
    "y_train_MN_onehot = enc.fit(y_train_MN[:, np.newaxis]).transform(y_train_MN[:, np.newaxis])\n",
    "y_test_MN_onehot = enc.fit(y_test_MN[:, np.newaxis]).transform(y_test_MN[:, np.newaxis])"
   ]
  },
  {
   "cell_type": "code",
   "execution_count": 32,
   "metadata": {},
   "outputs": [],
   "source": [
    "# 学習用データの一部を検証用データとする\n",
    "X_train_MN, X_val_MN, y_train_MN_onehot, y_val_MN_onehot = train_test_split(X_train_MN, y_train_MN_onehot, test_size=0.2, random_state=0)"
   ]
  },
  {
   "cell_type": "code",
   "execution_count": 33,
   "metadata": {},
   "outputs": [
    {
     "data": {
      "text/plain": [
       "((60000,), (12000, 10))"
      ]
     },
     "execution_count": 33,
     "metadata": {},
     "output_type": "execute_result"
    }
   ],
   "source": [
    "y_train_MN.shape, y_val_MN_onehot.shape"
   ]
  },
  {
   "cell_type": "code",
   "execution_count": 34,
   "metadata": {},
   "outputs": [
    {
     "data": {
      "text/plain": [
       "((48000, 784), (10000, 784))"
      ]
     },
     "execution_count": 34,
     "metadata": {},
     "output_type": "execute_result"
    }
   ],
   "source": [
    "X_train_MN.shape, X_test_MN.shape"
   ]
  },
  {
   "cell_type": "code",
   "execution_count": 49,
   "metadata": {},
   "outputs": [],
   "source": [
    "def example_net_MN(x):\n",
    "    \"\"\"\n",
    "    単純な3層ニューラルネットワーク\n",
    "    \"\"\"\n",
    "\n",
    "    # 重みとバイアスの宣言\n",
    "    weights = {\n",
    "        'w1': tf.Variable(tf.random_normal([n_input_MN, n_hidden1_MN])),\n",
    "        'w2': tf.Variable(tf.random_normal([n_hidden1_MN, n_hidden2_MN])),\n",
    "        'w3': tf.Variable(tf.random_normal([n_hidden2_MN, n_classes_MN]))\n",
    "    }\n",
    "    biases = {\n",
    "        'b1': tf.Variable(tf.random_normal([n_hidden1_MN])),\n",
    "        'b2': tf.Variable(tf.random_normal([n_hidden2_MN])),\n",
    "        'b3': tf.Variable(tf.random_normal([n_classes_MN]))\n",
    "    }\n",
    "\n",
    "    layer_1 = tf.add(tf.matmul(x, weights['w1']), biases['b1'])\n",
    "    layer_1 = tf.nn.relu(layer_1)\n",
    "    layer_2 = tf.add(tf.matmul(layer_1, weights['w2']), biases['b2'])\n",
    "    layer_2 = tf.nn.relu(layer_2)\n",
    "    layer_output = tf.matmul(layer_2, weights['w3']) + biases['b3'] # tf.addと+は等価である\n",
    "    \n",
    "    return layer_output"
   ]
  },
  {
   "cell_type": "code",
   "execution_count": 77,
   "metadata": {},
   "outputs": [],
   "source": [
    "# ハイパーパラメータの設定\n",
    "learning_rate_MN =1e-3\n",
    "batch_size_MN = 30\n",
    "num_epochs_MN = 50\n",
    "\n",
    "n_hidden1_MN = 200\n",
    "n_hidden2_MN = 100\n",
    "n_input_MN = X_train_MN.shape[1]\n",
    "n_samples_MN = X_train_MN.shape[0]\n",
    "n_classes_MN = y_train_MN_onehot.shape[1]"
   ]
  },
  {
   "cell_type": "code",
   "execution_count": 78,
   "metadata": {},
   "outputs": [
    {
     "name": "stdout",
     "output_type": "stream",
     "text": [
      "Tensor(\"Placeholder_16:0\", shape=(?, 784), dtype=float32)\n",
      "Tensor(\"Placeholder_17:0\", shape=(?, 10), dtype=float32)\n"
     ]
    }
   ],
   "source": [
    "# 計算グラフに渡す引数の形を決める\n",
    "X_MN = tf.placeholder(tf.float32, [None, n_input_MN])\n",
    "Y_MN = tf.placeholder(tf.float32, [None, n_classes_MN])\n",
    "\n",
    "print(X_MN)\n",
    "print(Y_MN)"
   ]
  },
  {
   "cell_type": "code",
   "execution_count": 79,
   "metadata": {},
   "outputs": [],
   "source": [
    "# trainのミニバッチイテレータ\n",
    "get_mini_batch_train_MN = GetMiniBatch(X_train_MN, y_train_MN_onehot, batch_size=batch_size_MN)"
   ]
  },
  {
   "cell_type": "code",
   "execution_count": 80,
   "metadata": {},
   "outputs": [],
   "source": [
    "# ニューラルネットワークの出力\n",
    "logits_MN = example_net_MN(X_MN)\n",
    "\n",
    "# 目的関数\n",
    "loss_op_MN = tf.nn.softmax_cross_entropy_with_logits_v2(labels=Y_MN, logits=logits_MN)\n",
    "\n",
    "# 最適化手法\n",
    "optimizer_MN = tf.train.AdamOptimizer(learning_rate=learning_rate_MN)\n",
    "train_op_MN = optimizer_MN.minimize(loss_op_MN)\n",
    "\n",
    "# 推定結果\n",
    "pred_MN = tf.argmax(tf.nn.softmax(logits_MN), axis=1)\n",
    "correct_pred_MN = tf.equal(tf.argmax(Y_MN, axis=1), tf.argmax(tf.nn.softmax(logits_MN), axis=1))\n",
    "\n",
    "# 指標値計算\n",
    "accuracy_MN = tf.reduce_mean(tf.cast(correct_pred_MN, tf.float32))"
   ]
  },
  {
   "cell_type": "code",
   "execution_count": 83,
   "metadata": {
    "scrolled": false
   },
   "outputs": [
    {
     "data": {
      "application/vnd.jupyter.widget-view+json": {
       "model_id": "4f02f462aa754665b0e3f3435e938b0c",
       "version_major": 2,
       "version_minor": 0
      },
      "text/plain": [
       "HBox(children=(IntProgress(value=0, max=50), HTML(value='')))"
      ]
     },
     "metadata": {},
     "output_type": "display_data"
    },
    {
     "name": "stdout",
     "output_type": "stream",
     "text": [
      "\n",
      "test_acc : 0.961\n",
      "Predicted classes for test data are as below.\n",
      "[7 2 1 ... 4 5 6]\n"
     ]
    }
   ],
   "source": [
    "# variableの初期化\n",
    "init_MN = tf.global_variables_initializer()\n",
    "\n",
    "# 計算グラフの実行\n",
    "with tf.Session() as sess:\n",
    "    sess.run(init_MN)\n",
    "    \n",
    "    for epoch in tqdm(range(num_epochs_MN)):\n",
    "        total_batch = np.ceil(X_train_MN.shape[0]/batch_size).astype(np.int)\n",
    "        total_loss = 0\n",
    "        total_acc = 0\n",
    "        \n",
    "        for i , (mini_batch_x, mini_batch_y) in enumerate(get_mini_batch_train_MN):\n",
    "\n",
    "            sess.run(train_op_MN, feed_dict={X_MN: mini_batch_x, Y_MN: mini_batch_y})\n",
    "            loss, acc = sess.run([loss_op_MN, accuracy_MN], feed_dict={X_MN: mini_batch_x, Y_MN: mini_batch_y})\n",
    "            total_loss += np.sum(loss)\n",
    "            total_acc += acc\n",
    "            #print(\"total_acc: {}\", total_acc)\n",
    "        \n",
    "        total_loss /= n_samples_MN\n",
    "        #print(\"total_loss: \", total_loss)\n",
    "        total_acc /= n_samples_MN\n",
    "        #print(\"total_acc:{}\", total_acc)\n",
    "        val_loss, val_acc = sess.run([loss_op_MN, accuracy_MN], feed_dict={X_MN: X_val_MN, Y_MN: y_val_MN_onehot})\n",
    "        #print(val_loss)\n",
    "        #print(\"val_acc : {:.3f}\".format(val_acc))\n",
    "        #print(\"Epoch : {}, loss : {:.4f}, val_loss : {:.4f}, acc : {:.3f}, val_acc : {:.3f}\".format(epoch, total_loss, np.mean(val_loss), acc, val_acc))\n",
    "    test_acc = sess.run(accuracy_MN, feed_dict={X_MN: X_test_MN, Y_MN: y_test_MN_onehot})\n",
    "    y_pred_MN= sess.run(pred_MN, feed_dict={\n",
    "        X_MN: X_test_MN,\n",
    "    })\n",
    "    print(\"test_acc : {:.3f}\".format(test_acc))\n",
    "    \n",
    "    print(\"Predicted classes for test data are as below.\")\n",
    "    print(y_pred_MN)"
   ]
  },
  {
   "cell_type": "markdown",
   "metadata": {},
   "source": [
    "#### 結果の可視化"
   ]
  },
  {
   "cell_type": "code",
   "execution_count": 84,
   "metadata": {
    "scrolled": false
   },
   "outputs": [
    {
     "data": {
      "image/png": "[encoded data removed]",
      "text/plain": [
       "<Figure size 720x504 with 2 Axes>"
      ]
     },
     "metadata": {
      "needs_background": "light"
     },
     "output_type": "display_data"
    }
   ],
   "source": [
    "# 正解ラベル\n",
    "labels = np.unique(y_test_MN)\n",
    "\n",
    "# 混同行列\n",
    "cmx = confusion_matrix(y_test_MN, y_pred_MN)\n",
    "df = pd.DataFrame(cmx, index=labels, columns=labels)\n",
    "\n",
    "# 混同行列の値を正解率（accuracy）に変換\n",
    "df = df.apply(lambda x: round(x/sum(x), 2), axis=1)\n",
    "\n",
    "# 混同行列をヒートマップで可視化\n",
    "plt.figure(figsize=(10, 7))\n",
    "sns.heatmap(df, annot=True, cmap=\"GnBu\")\n",
    "plt.xlabel(\"y_pred\")\n",
    "plt.ylabel(\"y_true\")\n",
    "plt.title(\"Accuracy of digits\")\n",
    "plt.show()"
   ]
  },
  {
   "cell_type": "markdown",
   "metadata": {},
   "source": [
    "- いずれのクラスについても正解率90%超であり、高い精度を実現できている。"
   ]
  },
  {
   "cell_type": "markdown",
   "metadata": {},
   "source": [
    "### Take away\n",
    "\n",
    "TensorFlowを利用した所感としては、ディープニューラルネットワークのスクラッチ実装のように、各レイヤーを順次重ねていく構造となっており、直感的に理解しやすい。\n",
    "\n",
    "但し、placeholderの設定等、スクラッチ実装では扱わなかった点については、フレームワークを繰り返し利用しながら慣れていく他ないと思う。\n",
    "\n",
    "<トピックス>\n",
    "1. TensorFlowの全体像\n",
    "    - 計算グラフの引数の型を指定する（tf.placeholder）\n",
    "    - 変数を定義する（tf.Variable）\n",
    "    - レイヤー（tf.matmul等）を指定する\n",
    "    - 活性化関数（tf.nn.relu等)を指定し、レイヤーからの出力を受け取る（add）。\n",
    "    - 損失関数、評価指標、最適化手法を選択する。\n",
    "    - セッションを開始する（tf.session）\n",
    "\n",
    "\n",
    "2. デバッグ\n",
    "    - フレームワーク利用時には、公式ドキュメントを確認しながら、引数や利用例を参考にすると良い。"
   ]
  }
 ],
 "metadata": {
  "kernelspec": {
   "display_name": "Python 3",
   "language": "python",
   "name": "python3"
  },
  "language_info": {
   "codemirror_mode": {
    "name": "ipython",
    "version": 3
   },
   "file_extension": ".py",
   "mimetype": "text/x-python",
   "name": "python",
   "nbconvert_exporter": "python",
   "pygments_lexer": "ipython3",
   "version": "3.7.0"
  }
 },
 "nbformat": 4,
 "nbformat_minor": 2
}
